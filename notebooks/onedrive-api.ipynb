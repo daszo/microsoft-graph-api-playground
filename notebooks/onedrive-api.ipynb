{
 "cells": [
  {
   "cell_type": "markdown",
   "metadata": {},
   "source": [
    "### general"
   ]
  },
  {
   "cell_type": "code",
   "execution_count": 1,
   "metadata": {},
   "outputs": [],
   "source": [
    "import requests\n",
    "from datetime import datetime, timedelta\n",
    "import json\n",
    "import msal\n",
    "import webbrowser\n",
    "from typing import List, Dict, Optional, Tuple\n",
    "import os\n",
    "os.chdir(\"/home/daniel/de_AI_Fabriek/belasting-agent-playground/\")\n",
    "\n",
    "from keys import O365_CLIENT_SECRET, O365_CLIENT_ID\n",
    "\n",
    "# SCOPES = [\"User.Read\"]\n",
    "SCOPES = ['Calendars.ReadWrite']\n",
    "GRAPH_API_ENDPOINT = 'https://graph.microsoft.com/v1.0'\n",
    "\n",
    "# AUTHORITY = 'https://login.microsoftonline.com/' + \"b4790366-ebc1-458b-8baf-4aed4d12f0fc\"\n",
    "AUTHORITY = 'https://login.microsoftonline.com/common'"
   ]
  },
  {
   "cell_type": "markdown",
   "metadata": {},
   "source": [
    "# experimental"
   ]
  },
  {
   "cell_type": "markdown",
   "metadata": {},
   "source": [
    "### general"
   ]
  },
  {
   "cell_type": "code",
   "execution_count": 2,
   "metadata": {},
   "outputs": [],
   "source": [
    "\n",
    "def generate_access_token(app_id, scopes):\n",
    "    # Save Session Token as a token file\n",
    "    access_token_cache = msal.SerializableTokenCache()\n",
    "\n",
    "    # read the token file\n",
    "    if os.path.exists('msg_api_token_access.json'):\n",
    "        access_token_cache.deserialize(open(\"msg_api_token_access.json\", \"r\").read())\n",
    "        token_detail = json.load(open('msg_api_token_access.json',))\n",
    "        if not token_detail:\n",
    "            os.remove('msg_api_token_access.json')\n",
    "            access_token_cache = msal.SerializableTokenCache()\n",
    "            \n",
    "        if token_detail:\n",
    "            token_detail_key = list(token_detail['RefreshToken'].keys())[0]\n",
    "            modified = datetime.fromtimestamp(int(token_detail['RefreshToken'][token_detail_key]['last_modification_time']))\n",
    "            end_date = modified + timedelta(days=90)\n",
    "            if datetime.now() > end_date:\n",
    "                os.remove('msg_api_token_access.json')\n",
    "                access_token_cache = msal.SerializableTokenCache()\n",
    "\n",
    "    # assign a SerializableTokenCache object to the client instance\n",
    "    client = msal.PublicClientApplication(client_id=app_id, token_cache=access_token_cache)\n",
    "\n",
    "    accounts = client.get_accounts()\n",
    "    if accounts:\n",
    "        # load the session\n",
    "        token_response = client.acquire_token_silent(scopes, accounts[0])\n",
    "    if not accounts or not token_response:\n",
    "        # authetnicate your accoutn as usual\n",
    "        flow = client.initiate_device_flow(scopes=scopes)\n",
    "        print(json.dumps(flow, indent=4))\n",
    "        print('user_code: ' + flow['user_code'])\n",
    "        webbrowser.open('https://microsoft.com/devicelogin')\n",
    "        token_response = client.acquire_token_by_device_flow(flow)\n",
    "\n",
    "    with open('msg_api_token_access.json', 'w') as _f:\n",
    "        _f.write(access_token_cache.serialize())\n",
    "\n",
    "    return token_response\n",
    "\n",
    "             \n"
   ]
  },
  {
   "cell_type": "markdown",
   "metadata": {},
   "source": [
    "## Calendar"
   ]
  },
  {
   "cell_type": "markdown",
   "metadata": {},
   "source": [
    "### Predecessors "
   ]
  },
  {
   "cell_type": "code",
   "execution_count": 3,
   "metadata": {},
   "outputs": [],
   "source": [
    "access_token = generate_access_token(O365_CLIENT_ID, SCOPES)\n",
    "headers = {\n",
    "    'Authorization': 'Bearer ' + access_token['access_token']\n",
    "}\n",
    "\n",
    "# create an event\n"
   ]
  },
  {
   "cell_type": "code",
   "execution_count": 4,
   "metadata": {},
   "outputs": [],
   "source": [
    "def get_header():\n",
    "    access_token = generate_access_token(O365_CLIENT_ID, SCOPES)\n",
    "    headers = {\n",
    "        'Authorization': 'Bearer ' + access_token['access_token']\n",
    "    }\n",
    "    return headers"
   ]
  },
  {
   "cell_type": "code",
   "execution_count": 5,
   "metadata": {},
   "outputs": [],
   "source": [
    "# TODO: Variable time zones"
   ]
  },
  {
   "cell_type": "code",
   "execution_count": 6,
   "metadata": {},
   "outputs": [],
   "source": [
    "def construct_event_detail(event_name, **kwargs):\n",
    "    request_body = {\n",
    "        'subject': event_name,\n",
    "    }\n",
    "    for key, value in kwargs.items():\n",
    "        request_body[key] = value\n",
    "    return request_body\n"
   ]
  },
  {
   "cell_type": "markdown",
   "metadata": {},
   "source": [
    "### Create event"
   ]
  },
  {
   "cell_type": "code",
   "execution_count": null,
   "metadata": {},
   "outputs": [
    {
     "name": "stdout",
     "output_type": "stream",
     "text": [
      "{\n",
      "    \"@odata.context\": \"https://graph.microsoft.com/v1.0/$metadata#users('outlook_4C0C63D7D80EDD22%40outlook.com')/events/$entity\",\n",
      "    \"@odata.etag\": \"W/\\\"lr+kWymW20KA+/WCcZNXrQAHzHElhA==\\\"\",\n",
      "    \"id\": \"AQMkADAwATM3ZmYAZS1kYTE5LTMyMTQtMDACLTAwCgBGAAADXfncffxD_k_4msGd5-CKLAcAlr_kWymW20KA_-WCcZNXrQAAAgENAAAAlr_kWymW20KA_-WCcZNXrQAHzC34lwAAAA==\",\n",
      "    \"createdDateTime\": \"2025-02-05T14:19:23.2808529Z\",\n",
      "    \"lastModifiedDateTime\": \"2025-02-05T14:19:23.3517688Z\",\n",
      "    \"changeKey\": \"lr+kWymW20KA+/WCcZNXrQAHzHElhA==\",\n",
      "    \"categories\": [],\n",
      "    \"transactionId\": null,\n",
      "    \"originalStartTimeZone\": \"UTC\",\n",
      "    \"originalEndTimeZone\": \"UTC\",\n",
      "    \"iCalUId\": \"040000008200E00074C5B7101A82E00800000000EA494AF4D877DB01000000000000000010000000FD09D6ACF59FC8478EC6D8A0D70BF3DD\",\n",
      "    \"uid\": \"040000008200E00074C5B7101A82E00800000000EA494AF4D877DB01000000000000000010000000FD09D6ACF59FC8478EC6D8A0D70BF3DD\",\n",
      "    \"reminderMinutesBeforeStart\": 15,\n",
      "    \"isReminderOn\": true,\n",
      "    \"hasAttachments\": false,\n",
      "    \"subject\": \"test_event2\",\n",
      "    \"bodyPreview\": \"\",\n",
      "    \"importance\": \"normal\",\n",
      "    \"sensitivity\": \"normal\",\n",
      "    \"isAllDay\": false,\n",
      "    \"isCancelled\": false,\n",
      "    \"isOrganizer\": true,\n",
      "    \"responseRequested\": true,\n",
      "    \"seriesMasterId\": null,\n",
      "    \"showAs\": \"busy\",\n",
      "    \"type\": \"singleInstance\",\n",
      "    \"webLink\": \"https://outlook.live.com/owa/?itemid=AQMkADAwATM3ZmYAZS1kYTE5LTMyMTQtMDACLTAwCgBGAAADXfncffxD%2Bk%2B4msGd5%2FCKLAcAlr%2BkWymW20KA%2B%2FWCcZNXrQAAAgENAAAAlr%2BkWymW20KA%2B%2FWCcZNXrQAHzC34lwAAAA%3D%3D&exvsurl=1&path=/calendar/item\",\n",
      "    \"onlineMeetingUrl\": null,\n",
      "    \"isOnlineMeeting\": false,\n",
      "    \"onlineMeetingProvider\": \"unknown\",\n",
      "    \"allowNewTimeProposals\": true,\n",
      "    \"occurrenceId\": null,\n",
      "    \"isDraft\": false,\n",
      "    \"hideAttendees\": false,\n",
      "    \"responseStatus\": {\n",
      "        \"response\": \"organizer\",\n",
      "        \"time\": \"0001-01-01T00:00:00Z\"\n",
      "    },\n",
      "    \"body\": {\n",
      "        \"contentType\": \"html\",\n",
      "        \"content\": \"<html><head><meta http-equiv=\\\"Content-Type\\\" content=\\\"text/html; charset=utf-8\\\">\\r\\n<meta name=\\\"Generator\\\" content=\\\"Microsoft Exchange Server\\\">\\r\\n<!-- converted from text -->\\r\\n<style><!-- .EmailQuote { margin-left: 1pt; padding-left: 4pt; border-left: #800000 2px solid; } --></style></head>\\r\\n<body>\\r\\n<font size=\\\"2\\\"><span style=\\\"font-size:11pt;\\\"><div class=\\\"PlainText\\\">&nbsp;</div></span></font>\\r\\n</body>\\r\\n</html>\\r\\n\"\n",
      "    },\n",
      "    \"start\": {\n",
      "        \"dateTime\": \"2025-02-05T14:30:00.0002170\",\n",
      "        \"timeZone\": \"UTC\"\n",
      "    },\n",
      "    \"end\": {\n",
      "        \"dateTime\": \"2025-02-05T15:00:00.0002170\",\n",
      "        \"timeZone\": \"UTC\"\n",
      "    },\n",
      "    \"location\": {\n",
      "        \"displayName\": \"\",\n",
      "        \"locationType\": \"default\",\n",
      "        \"uniqueIdType\": \"unknown\",\n",
      "        \"address\": {},\n",
      "        \"coordinates\": {}\n",
      "    },\n",
      "    \"locations\": [],\n",
      "    \"recurrence\": null,\n",
      "    \"attendees\": [],\n",
      "    \"organizer\": {\n",
      "        \"emailAddress\": {\n",
      "            \"name\": \"Daniel van Oosteroom\",\n",
      "            \"address\": \"outlook_4C0C63D7D80EDD22@outlook.com\"\n",
      "        }\n",
      "    },\n",
      "    \"onlineMeeting\": null\n",
      "}\n"
     ]
    }
   ],
   "source": [
    "response1_create = requests.post(\n",
    "    GRAPH_API_ENDPOINT + f'/me/events',\n",
    "    headers=headers,\n",
    "    json=construct_event_detail(\"test_event2\")\n",
    ")\n",
    "\n",
    "print(json.dumps(response1_create.json(), indent=4))"
   ]
  },
  {
   "cell_type": "code",
   "execution_count": 30,
   "metadata": {},
   "outputs": [
    {
     "name": "stdout",
     "output_type": "stream",
     "text": [
      "{\n",
      "  \"@odata.context\": \"https://graph.microsoft.com/v1.0/$metadata#users('outlook_4C0C63D7D80EDD22%40outlook.com')/events/$entity\",\n",
      "  \"@odata.etag\": \"W/\\\"lr+kWymW20KA+/WCcZNXrQAHzHEdew==\\\"\",\n",
      "  \"id\": \"AQMkADAwATM3ZmYAZS1kYTE5LTMyMTQtMDACLTAwCgBGAAADXfncffxD_k_4msGd5-CKLAcAlr_kWymW20KA_-WCcZNXrQAAAgENAAAAlr_kWymW20KA_-WCcZNXrQAHzC34jQAAAA==\",\n",
      "  \"createdDateTime\": \"2025-02-05T11:38:41.7287303Z\",\n",
      "  \"lastModifiedDateTime\": \"2025-02-05T11:38:41.7705395Z\",\n",
      "  \"changeKey\": \"lr+kWymW20KA+/WCcZNXrQAHzHEdew==\",\n",
      "  \"categories\": [],\n",
      "  \"transactionId\": null,\n",
      "  \"originalStartTimeZone\": \"UTC\",\n",
      "  \"originalEndTimeZone\": \"UTC\",\n",
      "  \"iCalUId\": \"040000008200E00074C5B7101A82E00800000000BF6E7B81C277DB010000000000000000100000003153086DC0AB3146AED38B48FB37B007\",\n",
      "  \"uid\": \"040000008200E00074C5B7101A82E00800000000BF6E7B81C277DB010000000000000000100000003153086DC0AB3146AED38B48FB37B007\",\n",
      "  \"reminderMinutesBeforeStart\": 15,\n",
      "  \"isReminderOn\": true,\n",
      "  \"hasAttachments\": false,\n",
      "  \"subject\": \"test_event2\",\n",
      "  \"bodyPreview\": \"\",\n",
      "  \"importance\": \"normal\",\n",
      "  \"sensitivity\": \"normal\",\n",
      "  \"isAllDay\": false,\n",
      "  \"isCancelled\": false,\n",
      "  \"isOrganizer\": true,\n",
      "  \"responseRequested\": true,\n",
      "  \"seriesMasterId\": null,\n",
      "  \"showAs\": \"busy\",\n",
      "  \"type\": \"singleInstance\",\n",
      "  \"webLink\": \"https://outlook.live.com/owa/?itemid=AQMkADAwATM3ZmYAZS1kYTE5LTMyMTQtMDACLTAwCgBGAAADXfncffxD%2Bk%2B4msGd5%2FCKLAcAlr%2BkWymW20KA%2B%2FWCcZNXrQAAAgENAAAAlr%2BkWymW20KA%2B%2FWCcZNXrQAHzC34jQAAAA%3D%3D&exvsurl=1&path=/calendar/item\",\n",
      "  \"onlineMeetingUrl\": null,\n",
      "  \"isOnlineMeeting\": false,\n",
      "  \"onlineMeetingProvider\": \"unknown\",\n",
      "  \"allowNewTimeProposals\": true,\n",
      "  \"occurrenceId\": null,\n",
      "  \"isDraft\": false,\n",
      "  \"hideAttendees\": false,\n",
      "  \"responseStatus\": {\n",
      "    \"response\": \"organizer\",\n",
      "    \"time\": \"0001-01-01T00:00:00Z\"\n",
      "  },\n",
      "  \"body\": {\n",
      "    \"contentType\": \"html\",\n",
      "    \"content\": \"<html><head><meta http-equiv=\\\"Content-Type\\\" content=\\\"text/html; charset=utf-8\\\">\\r\\n<meta name=\\\"Generator\\\" content=\\\"Microsoft Exchange Server\\\">\\r\\n<!-- converted from text -->\\r\\n<style><!-- .EmailQuote { margin-left: 1pt; padding-left: 4pt; border-left: #800000 2px solid; } --></style></head>\\r\\n<body>\\r\\n<font size=\\\"2\\\"><span style=\\\"font-size:11pt;\\\"><div class=\\\"PlainText\\\">&nbsp;</div></span></font>\\r\\n</body>\\r\\n</html>\\r\\n\"\n",
      "  },\n",
      "  \"start\": {\n",
      "    \"dateTime\": \"2025-02-05T12:00:00.0002511\",\n",
      "    \"timeZone\": \"UTC\"\n",
      "  },\n",
      "  \"end\": {\n",
      "    \"dateTime\": \"2025-02-05T12:30:00.0002511\",\n",
      "    \"timeZone\": \"UTC\"\n",
      "  },\n",
      "  \"location\": {\n",
      "    \"displayName\": \"\",\n",
      "    \"locationType\": \"default\",\n",
      "    \"uniqueIdType\": \"unknown\",\n",
      "    \"address\": {},\n",
      "    \"coordinates\": {}\n",
      "  },\n",
      "  \"locations\": [],\n",
      "  \"recurrence\": null,\n",
      "  \"attendees\": [],\n",
      "  \"organizer\": {\n",
      "    \"emailAddress\": {\n",
      "      \"name\": \"Daniel van Oosteroom\",\n",
      "      \"address\": \"outlook_4C0C63D7D80EDD22@outlook.com\"\n",
      "    }\n",
      "  },\n",
      "  \"onlineMeeting\": null\n",
      "}\n"
     ]
    }
   ],
   "source": [
    "print(json.dumps(response1_create.json(), indent=4))\n"
   ]
  },
  {
   "cell_type": "code",
   "execution_count": null,
   "metadata": {},
   "outputs": [],
   "source": [
    "# TODO: figure out attendees"
   ]
  },
  {
   "cell_type": "code",
   "execution_count": null,
   "metadata": {},
   "outputs": [],
   "source": [
    "# Step 2.2 Example (Detailed)\n",
    "event_name = 'Work Holiday'\n",
    "body = {\n",
    "    # html or text\n",
    "    'contentType': 'html',\n",
    "    'content': '<b>2 weeks vacation</b>'\n",
    "}\n",
    "start = {\n",
    "    'dateTime': '2025-02-20T09:00:00',\n",
    "    'timeZone': 'Europe/Amsterdam'\n",
    "}\n",
    "end = {\n",
    "    'dateTime': '2025-02-21T17:00:00',\n",
    "    'timeZone': 'Europe/Amsterdam'\n",
    "}\n",
    "location = {\n",
    "    'displayName': 'Paris, France'\n",
    "}\n",
    "attendees = [\n",
    "    {\n",
    "        'emailAddress': {\n",
    "            'address': 'daniel@vanoosteroom.com'\n",
    "        },\n",
    "         'type': 'required' # or optional\n",
    "    }\n",
    "]"
   ]
  },
  {
   "cell_type": "code",
   "execution_count": 24,
   "metadata": {},
   "outputs": [
    {
     "ename": "NameError",
     "evalue": "name 'event_name' is not defined",
     "output_type": "error",
     "traceback": [
      "\u001b[0;31m---------------------------------------------------------------------------\u001b[0m",
      "\u001b[0;31mNameError\u001b[0m                                 Traceback (most recent call last)",
      "Cell \u001b[0;32mIn[24], line 5\u001b[0m\n\u001b[1;32m      1\u001b[0m response2_create \u001b[38;5;241m=\u001b[39m requests\u001b[38;5;241m.\u001b[39mpost(\n\u001b[1;32m      2\u001b[0m     GRAPH_API_ENDPOINT \u001b[38;5;241m+\u001b[39m \u001b[38;5;124mf\u001b[39m\u001b[38;5;124m'\u001b[39m\u001b[38;5;124m/me/events\u001b[39m\u001b[38;5;124m'\u001b[39m,\n\u001b[1;32m      3\u001b[0m     headers\u001b[38;5;241m=\u001b[39mheaders,\n\u001b[1;32m      4\u001b[0m     json\u001b[38;5;241m=\u001b[39mconstruct_event_detail(\n\u001b[0;32m----> 5\u001b[0m             \u001b[43mevent_name\u001b[49m,\n\u001b[1;32m      6\u001b[0m             body\u001b[38;5;241m=\u001b[39mbody,\n\u001b[1;32m      7\u001b[0m             location\u001b[38;5;241m=\u001b[39mlocation,\n\u001b[1;32m      8\u001b[0m             start\u001b[38;5;241m=\u001b[39mstart,\n\u001b[1;32m      9\u001b[0m             end\u001b[38;5;241m=\u001b[39mend,\n\u001b[1;32m     10\u001b[0m             \u001b[38;5;66;03m#attendees=attendees,\u001b[39;00m\n\u001b[1;32m     11\u001b[0m         )\n\u001b[1;32m     12\u001b[0m )\n",
      "\u001b[0;31mNameError\u001b[0m: name 'event_name' is not defined"
     ]
    }
   ],
   "source": [
    "response2_create = requests.post(\n",
    "    GRAPH_API_ENDPOINT + f'/me/events',\n",
    "    headers=headers,\n",
    "    json=construct_event_detail(\n",
    "            event_name,\n",
    "            body=body,\n",
    "            location=location,\n",
    "            start=start,\n",
    "            end=end,\n",
    "            #attendees=attendees,\n",
    "        )\n",
    ")"
   ]
  },
  {
   "cell_type": "code",
   "execution_count": 22,
   "metadata": {},
   "outputs": [
    {
     "name": "stdout",
     "output_type": "stream",
     "text": [
      "{\n",
      "    \"@odata.context\": \"https://graph.microsoft.com/v1.0/$metadata#users('outlook_1EBDCD179CAEDECE%40outlook.com')/events/$entity\",\n",
      "    \"@odata.etag\": \"W/\\\"ClAZo7UKNEq0Gv3bsgM5dQAADQpt/g==\\\"\",\n",
      "    \"id\": \"AQMkADAwATMwMAExLThjNTUALTAwAGJlLTAwAi0wMAoARgAAAxp5qsgLJ-hOuMYmhH_7aJYHAApQGaO1CjRKtBr927IDOXUAAAIBDQAAAApQGaO1CjRKtBr927IDOXUAAAANC2WsAAAA\",\n",
      "    \"createdDateTime\": \"2025-02-19T10:40:25.3885764Z\",\n",
      "    \"lastModifiedDateTime\": \"2025-02-19T10:40:25.4594125Z\",\n",
      "    \"changeKey\": \"ClAZo7UKNEq0Gv3bsgM5dQAADQpt/g==\",\n",
      "    \"categories\": [],\n",
      "    \"transactionId\": null,\n",
      "    \"originalStartTimeZone\": \"Europe/Amsterdam\",\n",
      "    \"originalEndTimeZone\": \"Europe/Amsterdam\",\n",
      "    \"iCalUId\": \"040000008200E00074C5B7101A82E00800000000F57347AFBA82DB01000000000000000010000000941F0F9A96B53F42B1DA0E773ECB8323\",\n",
      "    \"uid\": \"040000008200E00074C5B7101A82E00800000000F57347AFBA82DB01000000000000000010000000941F0F9A96B53F42B1DA0E773ECB8323\",\n",
      "    \"reminderMinutesBeforeStart\": 15,\n",
      "    \"isReminderOn\": true,\n",
      "    \"hasAttachments\": false,\n",
      "    \"subject\": \"Work Holiday\",\n",
      "    \"bodyPreview\": \"2 weeks vacation\",\n",
      "    \"importance\": \"normal\",\n",
      "    \"sensitivity\": \"normal\",\n",
      "    \"isAllDay\": false,\n",
      "    \"isCancelled\": false,\n",
      "    \"isOrganizer\": true,\n",
      "    \"responseRequested\": true,\n",
      "    \"seriesMasterId\": null,\n",
      "    \"showAs\": \"busy\",\n",
      "    \"type\": \"singleInstance\",\n",
      "    \"webLink\": \"https://outlook.live.com/owa/?itemid=AQMkADAwATMwMAExLThjNTUALTAwAGJlLTAwAi0wMAoARgAAAxp5qsgLJ%2FhOuMYmhH%2B7aJYHAApQGaO1CjRKtBr927IDOXUAAAIBDQAAAApQGaO1CjRKtBr927IDOXUAAAANC2WsAAAA&exvsurl=1&path=/calendar/item\",\n",
      "    \"onlineMeetingUrl\": null,\n",
      "    \"isOnlineMeeting\": false,\n",
      "    \"onlineMeetingProvider\": \"unknown\",\n",
      "    \"allowNewTimeProposals\": true,\n",
      "    \"occurrenceId\": null,\n",
      "    \"isDraft\": false,\n",
      "    \"hideAttendees\": false,\n",
      "    \"responseStatus\": {\n",
      "        \"response\": \"organizer\",\n",
      "        \"time\": \"0001-01-01T00:00:00Z\"\n",
      "    },\n",
      "    \"body\": {\n",
      "        \"contentType\": \"html\",\n",
      "        \"content\": \"<html>\\r\\n<head>\\r\\n<meta http-equiv=\\\"Content-Type\\\" content=\\\"text/html; charset=utf-8\\\">\\r\\n</head>\\r\\n<body>\\r\\n<b>2 weeks vacation</b>\\r\\n</body>\\r\\n</html>\\r\\n\"\n",
      "    },\n",
      "    \"start\": {\n",
      "        \"dateTime\": \"2025-02-20T08:00:00.0000000\",\n",
      "        \"timeZone\": \"Europe/Amsterdam\"\n",
      "    },\n",
      "    \"end\": {\n",
      "        \"dateTime\": \"2025-02-21T17:00:00.0000000\",\n",
      "        \"timeZone\": \"Europe/Amsterdam\"\n",
      "    },\n",
      "    \"location\": {\n",
      "        \"displayName\": \"Paris, France\",\n",
      "        \"locationType\": \"default\",\n",
      "        \"uniqueId\": \"Paris, France\",\n",
      "        \"uniqueIdType\": \"private\"\n",
      "    },\n",
      "    \"locations\": [\n",
      "        {\n",
      "            \"displayName\": \"Paris, France\",\n",
      "            \"locationType\": \"default\",\n",
      "            \"uniqueId\": \"Paris, France\",\n",
      "            \"uniqueIdType\": \"private\"\n",
      "        }\n",
      "    ],\n",
      "    \"recurrence\": null,\n",
      "    \"attendees\": [],\n",
      "    \"organizer\": {\n",
      "        \"emailAddress\": {\n",
      "            \"name\": \"Daniel van Oosteroom\",\n",
      "            \"address\": \"outlook_1EBDCD179CAEDECE@outlook.com\"\n",
      "        }\n",
      "    },\n",
      "    \"onlineMeeting\": null\n",
      "}\n"
     ]
    }
   ],
   "source": [
    "print(json.dumps(response2_create.json(), indent=4))"
   ]
  },
  {
   "cell_type": "markdown",
   "metadata": {},
   "source": [
    "### Auto create work week"
   ]
  },
  {
   "cell_type": "code",
   "execution_count": 8,
   "metadata": {},
   "outputs": [],
   "source": [
    "\n",
    "import random\n",
    "\n",
    "week_schedule = []\n",
    "\n",
    "for _ in range(5):\n",
    "\n",
    "    times = [(timedelta(hours=9) + timedelta(minutes=random.choice([0, 15, 30, 45])))]\n",
    "\n",
    "\n",
    "    while True:\n",
    "        random_value = times[-1] + timedelta(minutes=random.choice(range(30, 180, 15)))\n",
    "        times.append(random_value)\n",
    "        if random_value >= timedelta(hours=16, minutes=30):\n",
    "            times.pop(-1)\n",
    "            times.append(timedelta(hours=17))\n",
    "            break\n",
    "    week_schedule.append(times)\n",
    "    \n",
    "# for i, day_schedule in enumerate(week_schedule):\n",
    "    # print('Day')\n",
    "    # for j, time in enumerate(day_schedule):\n",
    "        # print(time)"
   ]
  },
  {
   "cell_type": "code",
   "execution_count": 9,
   "metadata": {},
   "outputs": [],
   "source": [
    "def write_event(event_name, start, end, **kwargs):\n",
    "    response = requests.post(\n",
    "        GRAPH_API_ENDPOINT + f'/me/events',\n",
    "        headers=headers,\n",
    "        json=construct_event_detail(\n",
    "            event_name,\n",
    "            start=start,\n",
    "            end=end,\n",
    "            **kwargs\n",
    "        )\n",
    "    )\n",
    "    return response"
   ]
  },
  {
   "cell_type": "code",
   "execution_count": 10,
   "metadata": {},
   "outputs": [
    {
     "name": "stdout",
     "output_type": "stream",
     "text": [
      "12:45:00\n",
      "2\n",
      "12:45:00\n"
     ]
    }
   ],
   "source": [
    "# Create a randon da\n",
    "\n",
    "def to_iso_date(date):\n",
    "    return date.strftime(\"%Y-%m-%d\")\n",
    "\n",
    "def to_iso_time(time):\n",
    "    string_time = str(time)\n",
    "    dt = datetime.strptime(string_time, \"%H:%M:%S\")\n",
    "    return dt.strftime(\"%H:%M:%S\")\n",
    "\n",
    "def to_iso(date, time):\n",
    "    return to_iso_date(date) + 'T' + to_iso_time(time)\n",
    "\n",
    "def time_json(date, time):\n",
    "    return {\n",
    "        'dateTime': to_iso(date, time),\n",
    "        'timeZone': 'Europe/Amsterdam'\n",
    "    }\n",
    "    \n",
    "def convert_to_date_time(time):\n",
    "    hours, minutes, seconds = map(int, str(time).split(':'))\n",
    "    time_checked = timedelta(hours=hours, minutes=minutes, seconds=seconds)\n",
    "    return time_checked\n",
    "\n",
    "\n",
    "\n",
    "time_lenght = 60\n",
    "rand_day = random.randint(0, 5)\n",
    "time = random.choice(range(10 * 60, 17 * 60 - time_lenght, 15))\n",
    "print(timedelta(minutes=time))\n",
    "print(rand_day)\n",
    "\n",
    "checked = 0\n",
    "\n",
    "log = []\n",
    "\n",
    "print(timedelta(minutes=time))  \n",
    "day = datetime.now() - timedelta(days=1)\n",
    "for day_schedule in week_schedule:\n",
    "    if day.weekday() == 4:\n",
    "        day = day + timedelta(days=2)\n",
    "    elif day.weekday() == 5:\n",
    "        day = day + timedelta(days=1)\n",
    "    \n",
    "    day = day + timedelta(days=1)\n",
    "        \n",
    "    for j, time_indices in enumerate(day_schedule):\n",
    "        log.append(write_event(\n",
    "            'Meeting',\n",
    "\n",
    "                time_json(day, day_schedule[j -1]),\n",
    "                time_json(day, time_indices)\n",
    "        ))"
   ]
  },
  {
   "cell_type": "code",
   "execution_count": 11,
   "metadata": {},
   "outputs": [
    {
     "data": {
      "text/plain": [
       "{'error': {'code': 'ErrorPropertyValidationFailure',\n",
       "  'message': 'At least one property failed validation.'}}"
      ]
     },
     "execution_count": 11,
     "metadata": {},
     "output_type": "execute_result"
    }
   ],
   "source": [
    "log[0].json()"
   ]
  },
  {
   "cell_type": "code",
   "execution_count": null,
   "metadata": {},
   "outputs": [],
   "source": []
  },
  {
   "cell_type": "code",
   "execution_count": 12,
   "metadata": {},
   "outputs": [
    {
     "name": "stdout",
     "output_type": "stream",
     "text": [
      "0\n",
      "1\n",
      "2\n",
      "3\n",
      "4\n",
      "5\n"
     ]
    }
   ],
   "source": [
    "for i , time_indices in enumerate(day_schedule):\n",
    "    print(i)"
   ]
  },
  {
   "cell_type": "code",
   "execution_count": 13,
   "metadata": {},
   "outputs": [
    {
     "name": "stdout",
     "output_type": "stream",
     "text": [
      "3\n"
     ]
    }
   ],
   "source": [
    "print(datetime.now().weekday())"
   ]
  },
  {
   "cell_type": "code",
   "execution_count": 14,
   "metadata": {},
   "outputs": [
    {
     "data": {
      "text/plain": [
       "datetime.timedelta(seconds=59400)"
      ]
     },
     "execution_count": 14,
     "metadata": {},
     "output_type": "execute_result"
    }
   ],
   "source": [
    "random_value "
   ]
  },
  {
   "cell_type": "code",
   "execution_count": 15,
   "metadata": {},
   "outputs": [
    {
     "data": {
      "text/plain": [
       "'\\n    \\n    start = datetime.now() + timedelta(days=random.randint(1, 30))\\n    end = start + timedelta(hours=random.randint(1, 5))\\n    '"
      ]
     },
     "execution_count": 15,
     "metadata": {},
     "output_type": "execute_result"
    }
   ],
   "source": [
    "\"\"\"\n",
    "    \n",
    "    start = datetime.now() + timedelta(days=random.randint(1, 30))\n",
    "    end = start + timedelta(hours=random.randint(1, 5))\n",
    "    \"\"\""
   ]
  },
  {
   "cell_type": "markdown",
   "metadata": {},
   "source": [
    "### get events"
   ]
  },
  {
   "cell_type": "code",
   "execution_count": null,
   "metadata": {},
   "outputs": [],
   "source": [
    "\n",
    "start_datetime = (datetime.now() - timedelta(day=1)).isoformat()\n",
    "end_datetime = (datetime.now() + timedelta(days=8)).isoformat()\n",
    "appointments_ids = set()\n",
    "\n",
    "while True:\n",
    "    response1_get = requests.get(\n",
    "    GRAPH_API_ENDPOINT + f'/me/calendar/calendarView?startDateTime={start_datetime}&endDateTime={end_datetime}',\n",
    "    headers=headers\n",
    "    )\n",
    "    \n",
    "    for i in response1_get.json()['value']:\n",
    "        appointments_ids.add(i['id'])\n",
    "    \n",
    "    if len(appointments_ids) == 0:\n",
    "        break\n",
    "        \n",
    "    new_start_datetime = response1_get.json()['value'][-1]['end']['dateTime']\n",
    "\n",
    "    if start_datetime == new_start_datetime:\n",
    "        break\n",
    "    else:\n",
    "        start_datetime = new_start_datetime\n",
    "    "
   ]
  },
  {
   "cell_type": "code",
   "execution_count": 58,
   "metadata": {},
   "outputs": [
    {
     "name": "stdout",
     "output_type": "stream",
     "text": [
      "0\n"
     ]
    }
   ],
   "source": [
    "print(len(appointments_ids))"
   ]
  },
  {
   "cell_type": "markdown",
   "metadata": {},
   "source": [
    "### Delete event"
   ]
  },
  {
   "cell_type": "code",
   "execution_count": 22,
   "metadata": {},
   "outputs": [
    {
     "ename": "NameError",
     "evalue": "name 'appointments_ids' is not defined",
     "output_type": "error",
     "traceback": [
      "\u001b[0;31m---------------------------------------------------------------------------\u001b[0m",
      "\u001b[0;31mNameError\u001b[0m                                 Traceback (most recent call last)",
      "Cell \u001b[0;32mIn[22], line 1\u001b[0m\n\u001b[0;32m----> 1\u001b[0m \u001b[38;5;28;01mfor\u001b[39;00m i \u001b[38;5;129;01min\u001b[39;00m \u001b[43mappointments_ids\u001b[49m:\n\u001b[1;32m      2\u001b[0m     response \u001b[38;5;241m=\u001b[39m requests\u001b[38;5;241m.\u001b[39mdelete(\n\u001b[1;32m      3\u001b[0m         GRAPH_API_ENDPOINT \u001b[38;5;241m+\u001b[39m \u001b[38;5;124mf\u001b[39m\u001b[38;5;124m'\u001b[39m\u001b[38;5;124m/me/events/\u001b[39m\u001b[38;5;132;01m{\u001b[39;00mi\u001b[38;5;132;01m}\u001b[39;00m\u001b[38;5;124m'\u001b[39m,\n\u001b[1;32m      4\u001b[0m         headers\u001b[38;5;241m=\u001b[39mheaders\n\u001b[1;32m      5\u001b[0m     )\n\u001b[1;32m      6\u001b[0m     response\n",
      "\u001b[0;31mNameError\u001b[0m: name 'appointments_ids' is not defined"
     ]
    }
   ],
   "source": [
    "for i in appointments_ids:\n",
    "    response = requests.delete(\n",
    "        GRAPH_API_ENDPOINT + f'/me/events/{i}',\n",
    "        headers=headers\n",
    "    )\n",
    "    response"
   ]
  },
  {
   "cell_type": "markdown",
   "metadata": {},
   "source": [
    "### Get and Delete"
   ]
  },
  {
   "cell_type": "code",
   "execution_count": 23,
   "metadata": {},
   "outputs": [
    {
     "name": "stdout",
     "output_type": "stream",
     "text": [
      "25 appointments deleted\n"
     ]
    }
   ],
   "source": [
    "def get_and_delete(start_datetime = (datetime.now() - timedelta(days=1)).isoformat(),\n",
    "                    end_datetime = (datetime.now() + timedelta(days=8)).isoformat()):\n",
    "    headers = get_header()\n",
    "    appointments_ids = set()\n",
    "    while True:\n",
    "        response1_get = requests.get(\n",
    "        GRAPH_API_ENDPOINT + f'/me/calendar/calendarView?startDateTime={start_datetime}&endDateTime={end_datetime}',\n",
    "        headers=headers\n",
    "        )\n",
    "        \n",
    "        for i in response1_get.json()['value']:\n",
    "            appointments_ids.add(i['id'])\n",
    "        \n",
    "        if len(appointments_ids) == 0:\n",
    "            print(len(appointments_ids))\n",
    "            break\n",
    "            \n",
    "        new_start_datetime = response1_get.json()['value'][-1]['end']['dateTime']\n",
    "\n",
    "        if start_datetime == new_start_datetime:\n",
    "            break\n",
    "        else:\n",
    "            start_datetime = new_start_datetime\n",
    "    \n",
    "    for i in appointments_ids:\n",
    "        response = requests.delete(\n",
    "            GRAPH_API_ENDPOINT + f'/me/events/{i}',\n",
    "            headers=headers\n",
    "        )\n",
    "    print(f\"{len(appointments_ids)} appointments deleted\")\n",
    "         \n",
    "get_and_delete()        "
   ]
  },
  {
   "cell_type": "markdown",
   "metadata": {},
   "source": [
    "### Find open space"
   ]
  },
  {
   "cell_type": "code",
   "execution_count": 16,
   "metadata": {},
   "outputs": [],
   "source": [
    "def retrieve_unique_events(start_datetime = (datetime.now() - timedelta(days=1)).isoformat(),\n",
    "                    end_datetime = (datetime.now() + timedelta(days=8)).isoformat()):\n",
    "    headers = get_header()\n",
    "    appointments_ids = set()\n",
    "    appointments_jsons = []\n",
    "    \n",
    "    while True:\n",
    "        response1_get = requests.get(\n",
    "        GRAPH_API_ENDPOINT + f'/me/calendar/calendarView?startDateTime={start_datetime}&endDateTime={end_datetime}',\n",
    "        headers=headers\n",
    "        )\n",
    "        \n",
    "        for i in response1_get.json()['value']:\n",
    "            if i['id'] not in appointments_ids:\n",
    "                appointments_ids.add(i['id'])\n",
    "                appointments_jsons.append(i)\n",
    "        \n",
    "        if len(appointments_ids) == 0:\n",
    "            print(len(appointments_ids))\n",
    "            break\n",
    "            \n",
    "        new_start_datetime = response1_get.json()['value'][-1]['end']['dateTime']\n",
    "\n",
    "        if start_datetime == new_start_datetime:\n",
    "            break\n",
    "        else:\n",
    "            start_datetime = new_start_datetime\n",
    "    return appointments_jsons"
   ]
  },
  {
   "cell_type": "code",
   "execution_count": 17,
   "metadata": {},
   "outputs": [],
   "source": [
    "unique_events = retrieve_unique_events()"
   ]
  },
  {
   "cell_type": "code",
   "execution_count": 18,
   "metadata": {},
   "outputs": [],
   "source": [
    "from typing import List, Dict, Optional, Tuple\n",
    " \n",
    "def convert_to_timedelta(date: datetime) -> timedelta:\n",
    "    return timedelta(hours=date.hour, minutes=date.minute, seconds=date.second)\n",
    "\n",
    "def find_first_opening(appointments: List[Dict], time_lenght: int) -> Optional[Tuple[datetime, datetime]]:\n",
    "    WORK_START = datetime.strptime(\"09:00:00\", \"%H:%M:%S\").time()\n",
    "    WORK_END = datetime.strptime(\"17:00:00\", \"%H:%M:%S\").time()\n",
    "    MIN_DURATION = timedelta(minutes=time_lenght)\n",
    "\n",
    "    appointments_dt = [\n",
    "        (datetime.strptime(i['start']['dateTime'][:19], \"%Y-%m-%dT%H:%M:%S\") + timedelta(hours=1),\n",
    "         datetime.strptime(i['end']['dateTime'][:19], \"%Y-%m-%dT%H:%M:%S\") + timedelta(hours=1))\n",
    "        for i in appointments\n",
    "    ]\n",
    "\n",
    "    appointments_dt.sort()\n",
    "\n",
    "    merged_appointments = []\n",
    "    for start, end in appointments_dt:\n",
    "        if merged_appointments and (start < merged_appointments[-1][1]):\n",
    "            inserted = (min(min(merged_appointments[-1][0], start), merged_appointments[-1][0]), max(merged_appointments[-1][1], end))\n",
    "            merged_appointments[-1] = inserted\n",
    "        else:\n",
    "            merged_appointments.append((start, end))\n",
    "\n",
    "    # Check if there is an opening before the first appointment        \n",
    "    if merged_appointments and (convert_to_timedelta(merged_appointments[0][0]) - convert_to_timedelta(WORK_START)) >= MIN_DURATION:\n",
    "        print(\"this\")\n",
    "        return (merged_appointments[0][0] + convert_to_timedelta(WORK_START), merged_appointments[0][0])\n",
    "\n",
    "    # Check if there is an opening between appointments\n",
    "    for i in range(len(merged_appointments) - 1):\n",
    "        end_current = merged_appointments[i][1]\n",
    "        start_next = merged_appointments[i + 1][0]\n",
    "        if (convert_to_timedelta(start_next) - convert_to_timedelta(end_current)) >= MIN_DURATION:\n",
    "            return (end_current, end_current + MIN_DURATION)\n",
    "\n",
    "    # Check if there is an opening after the last appointment\n",
    "    if merged_appointments and (convert_to_timedelta(WORK_END) - convert_to_timedelta(merged_appointments[-1][1])) >= MIN_DURATION:\n",
    "        print(\"that\")\n",
    "        return (merged_appointments[-1][1], merged_appointments + MIN_DURATION)\n",
    "\n",
    "    return None"
   ]
  },
  {
   "cell_type": "code",
   "execution_count": 19,
   "metadata": {},
   "outputs": [],
   "source": [
    "def date_time_to_iso(date: datetime) -> str:\n",
    "    return date.strftime(\"%Y-%m-%dT%H:%M:%S\")\n",
    "\n",
    "def date_time_to_dateTimeZone(date: datetime) -> Dict:\n",
    "    return {\n",
    "        'dateTime': date_time_to_iso(date),\n",
    "        'timeZone': 'Europe/Amsterdam'\n",
    "    }\n",
    "    \n",
    "def create_event(event_name: str, start: datetime, end: datetime, **kwargs) -> Dict:\n",
    "    response = requests.post(\n",
    "        GRAPH_API_ENDPOINT + f'/me/events',\n",
    "        headers=headers,\n",
    "        json=construct_event_detail(\n",
    "            event_name,\n",
    "            start=date_time_to_dateTimeZone(start),\n",
    "            end=date_time_to_dateTimeZone(end),\n",
    "            **kwargs\n",
    "        )\n",
    "    )\n",
    "    return response.json()"
   ]
  },
  {
   "cell_type": "code",
   "execution_count": 20,
   "metadata": {},
   "outputs": [
    {
     "name": "stdout",
     "output_type": "stream",
     "text": [
      "(datetime.datetime(2025, 2, 21, 13, 30), datetime.datetime(2025, 2, 21, 14, 30))\n"
     ]
    }
   ],
   "source": [
    "found_time = find_first_opening(unique_events, 60)\n",
    "print(found_time)"
   ]
  },
  {
   "cell_type": "code",
   "execution_count": 21,
   "metadata": {},
   "outputs": [
    {
     "data": {
      "text/plain": [
       "{'@odata.context': \"https://graph.microsoft.com/v1.0/$metadata#users('outlook_1EBDCD179CAEDECE%40outlook.com')/events/$entity\",\n",
       " '@odata.etag': 'W/\"ClAZo7UKNEq0Gv3bsgM5dQAADkQp/w==\"',\n",
       " 'id': 'AQMkADAwATMwMAExLThjNTUALTAwAGJlLTAwAi0wMAoARgAAAxp5qsgLJ-hOuMYmhH_7aJYHAApQGaO1CjRKtBr927IDOXUAAAIBDQAAAApQGaO1CjRKtBr927IDOXUAAAAORTvQAAAA',\n",
       " 'createdDateTime': '2025-02-20T12:52:57.312164Z',\n",
       " 'lastModifiedDateTime': '2025-02-20T12:52:57.3721851Z',\n",
       " 'changeKey': 'ClAZo7UKNEq0Gv3bsgM5dQAADkQp/w==',\n",
       " 'categories': [],\n",
       " 'transactionId': None,\n",
       " 'originalStartTimeZone': 'Europe/Amsterdam',\n",
       " 'originalEndTimeZone': 'Europe/Amsterdam',\n",
       " 'iCalUId': '040000008200E00074C5B7101A82E008000000000030685D9683DB010000000000000000100000006C9D5750E50E9C43A3FF0506A7FE7371',\n",
       " 'uid': '040000008200E00074C5B7101A82E008000000000030685D9683DB010000000000000000100000006C9D5750E50E9C43A3FF0506A7FE7371',\n",
       " 'reminderMinutesBeforeStart': 15,\n",
       " 'isReminderOn': True,\n",
       " 'hasAttachments': False,\n",
       " 'subject': 'Meeting found',\n",
       " 'bodyPreview': '',\n",
       " 'importance': 'normal',\n",
       " 'sensitivity': 'normal',\n",
       " 'isAllDay': False,\n",
       " 'isCancelled': False,\n",
       " 'isOrganizer': True,\n",
       " 'responseRequested': True,\n",
       " 'seriesMasterId': None,\n",
       " 'showAs': 'busy',\n",
       " 'type': 'singleInstance',\n",
       " 'webLink': 'https://outlook.live.com/owa/?itemid=AQMkADAwATMwMAExLThjNTUALTAwAGJlLTAwAi0wMAoARgAAAxp5qsgLJ%2FhOuMYmhH%2B7aJYHAApQGaO1CjRKtBr927IDOXUAAAIBDQAAAApQGaO1CjRKtBr927IDOXUAAAAORTvQAAAA&exvsurl=1&path=/calendar/item',\n",
       " 'onlineMeetingUrl': None,\n",
       " 'isOnlineMeeting': False,\n",
       " 'onlineMeetingProvider': 'unknown',\n",
       " 'allowNewTimeProposals': True,\n",
       " 'occurrenceId': None,\n",
       " 'isDraft': False,\n",
       " 'hideAttendees': False,\n",
       " 'responseStatus': {'response': 'organizer', 'time': '0001-01-01T00:00:00Z'},\n",
       " 'body': {'contentType': 'html',\n",
       "  'content': '<html><head><meta http-equiv=\"Content-Type\" content=\"text/html; charset=utf-8\">\\r\\n<meta name=\"Generator\" content=\"Microsoft Exchange Server\">\\r\\n<!-- converted from text -->\\r\\n<style><!-- .EmailQuote { margin-left: 1pt; padding-left: 4pt; border-left: #800000 2px solid; } --></style></head>\\r\\n<body>\\r\\n<font size=\"2\"><span style=\"font-size:11pt;\"><div class=\"PlainText\">&nbsp;</div></span></font>\\r\\n</body>\\r\\n</html>\\r\\n'},\n",
       " 'start': {'dateTime': '2025-02-21T13:30:00.0000000',\n",
       "  'timeZone': 'Europe/Amsterdam'},\n",
       " 'end': {'dateTime': '2025-02-21T14:30:00.0000000',\n",
       "  'timeZone': 'Europe/Amsterdam'},\n",
       " 'location': {'displayName': '',\n",
       "  'locationType': 'default',\n",
       "  'uniqueIdType': 'unknown',\n",
       "  'address': {},\n",
       "  'coordinates': {}},\n",
       " 'locations': [],\n",
       " 'recurrence': None,\n",
       " 'attendees': [],\n",
       " 'organizer': {'emailAddress': {'name': 'Daniel van Oosteroom',\n",
       "   'address': 'outlook_1EBDCD179CAEDECE@outlook.com'}},\n",
       " 'onlineMeeting': None}"
      ]
     },
     "execution_count": 21,
     "metadata": {},
     "output_type": "execute_result"
    }
   ],
   "source": [
    "create_event('Meeting found', found_time[0], found_time[1])"
   ]
  },
  {
   "cell_type": "markdown",
   "metadata": {},
   "source": [
    "# Self build\n"
   ]
  },
  {
   "cell_type": "code",
   "execution_count": 91,
   "metadata": {},
   "outputs": [],
   "source": [
    "def aquire_and_use_token(app_id, scopes, authority):\n",
    "    access_token_cache = msal.SerializableTokenCache()\n",
    "    \n",
    "    # read token cache\n",
    "    if os.path.exists(\"msg_api_token_access.json\"):\n",
    "        access_token_cache.deserialize(open(\"msg_api_token_access.json\", \"r\").read())\n",
    "        token_detail = json.load(open('msg_api_token_access.json',))\n",
    "        token_detail_key = list(token_detail['RefreshToken'].keys())[0]\n",
    "        modified = datetime.fromtimestamp(int(token_detail['RefreshToken'][token_detail_key]['last_modification_time']))\n",
    "        end_date = modified + timedelta(days=90)\n",
    "        if datetime.now() > end_date:\n",
    "            os.remove('msg_api_token_access.json')\n",
    "            access_token_cache = msal.SerializableTokenCache()\n",
    "\n",
    "        \n",
    "    client = msal.PublicClientApplication(\n",
    "        app_id,\n",
    "        authority=authority,\n",
    "        token_cache=access_token_cache\n",
    "    )\n",
    "    \n",
    "    token_response = None\n",
    "     \n",
    "    accounts = client.get_accounts()\n",
    "                  \n",
    "    if accounts:\n",
    "        \n",
    "        # Assuming the end user chose this one to proceed\n",
    "        chosen_account = accounts[0]    \n",
    "        \n",
    "        # Now let's try to find a token in cache for this account\n",
    "        # or by using refresh token\n",
    "        token_response = client.acquire_token_silent(scopes, account=chosen_account)\n",
    "\n",
    "    if not token_response:\n",
    "        flow = client.initiate_device_flow(scopes=scopes)\n",
    "        print('user code: ', flow['user_code'])\n",
    "        webbrowser.open(flow['verification_uri'])\n",
    "        \n",
    "        token_response = client.acquire_token_by_device_flow(flow)\n",
    "        print(flow[\"message\"])\n",
    "    \n",
    "    if \"access_token\" in token_response:\n",
    "        print(\"Token was obtained from:\", token_response[\"token_source\"])\n",
    "        if os.getenv('ENDPOINT'):\n",
    "            # Calling a web API using the access token\n",
    "            api_result = requests.get(\n",
    "                os.getenv('ENDPOINT'),\n",
    "                hearders={'Authorization': 'Bearer ' + token_response[\"access_token\"]},\n",
    "            ).json()    \n",
    "            print(\"Web API call result\", json.dumps(api_result, indent=2))\n",
    "        else:\n",
    "            print(\"Token acquisition result\", json.dumps(token_response, indent=2))\n",
    "    else:\n",
    "        print(\"Token acquisition failed\", token_response)\n",
    "    \n",
    "    # write to persistent cache\n",
    "    with open(\"msg_api_token_access.json\", \"w\") as _f:\n",
    "        _f.write(access_token_cache.serialize())\n",
    "    return token_response\n"
   ]
  },
  {
   "cell_type": "code",
   "execution_count": 92,
   "metadata": {},
   "outputs": [
    {
     "name": "stdout",
     "output_type": "stream",
     "text": [
      "Token was obtained from: cache\n",
      "Token acquisition result {\n",
      "  \"access_token\": \"EwB4A8l6BAAUBKgm8k1UswUNwklmy2v7U/S+1fEAAYFjwKH/x5Ln6Fj6M2BkuT+/aZjtXFGhvuuru/H5vz+p2mCG+Bt+47XJ3+fUSeOxPD7XfIQW1VkRxCkPu+HfhHscjo7r9MzcZx9Ud33NRvH8yUkApb2+/U483idZ9XxDm4Bsi2+dADo07M7HLyMwyiFAX7YL55X1zTt8sKbGJbuDrnBdn+Swnls+6kOLY2pNf5dzjXzX+P48ehBOB/B7wSq9S1jt0VKoIu6dlfxE+6DTJo0W8K8IhLCV07IiU3N4VPgTmmIqSv2Gk3yquaA4t6L2P8RAVfES+WRSY/G0miJFf2/y63284GDmrgnNFKxhmRV5AbYWD18hwQIdm2jAdVUQZgAAEPv7GnrGhFkqfn2zKUPXn11AAo+MroxLNordIhTYogoRCg7+Q03P/cNUEKkY2RhhoPB3+rFZiGTii0ZVdFEscA0Fz34RY0lSRaqLuKUiLXkg5rwHNPZTJn/GiXixghvdS2AzihW1qSO+jQL2e/Leaqpdm1tk14q295k5W6YHaBLVFgnjQxivblh2c+a1eZlGYNiN/GiXGc6Z7T0tICaJoyhPfxTyfRhO6IUirzTBLzvC01q+UGHf6yc94+IvjS4F7YRvh2+S7cdnRaAbrtRXYdSfK+PuNDmP+amuEIRCV7elKP1NeTuVL4C6s2vQfeiIFUWQux3zbQCEUgRq2qniW/7ryeohMCdrAOSqldtXAUTpXkCM/Zdz95BCF/WcyR4pZHHxsKWKz6YKf0OsUrf4t6dxMrqIH2vP3y2MLyLqAYB6VGgXbq66BcfSW/UeA5gwihVPNK7uI5g+R6SPxM0X4JsmML9ao9+rw417zqd7/M46HvWMcnyQG1OpeZjf7KB1NXJJdCk4pbqTcFAiMpcvkadFzKLb5dUiaT2ccjMXCZcjqUpYWLbfx//Q4oxJNNjf5U+Xpnu7SHKGWu73Pi4cWyIJYKbniOMYL8k8AWsTFaesM3TptLvqzz22IEtvmExdpP52O2DgOfGEvQw5WM91/u5MfLXIWD7qAlx6Z9RyMxCdZDH9bmVtIzAtJk8VZEHpJerqPMQAd4fb9Cxv0xjJsyy+Pnlu1tqr1vMFucSqC/IzeUNyL4dLCLbdcYSxyh78TKfaYLvfylT7QKCCgGb7A2TCt4kC\",\n",
      "  \"token_type\": \"Bearer\",\n",
      "  \"expires_in\": 1699,\n",
      "  \"token_source\": \"cache\"\n",
      "}\n"
     ]
    }
   ],
   "source": [
    "token_response = aquire_and_use_token(O365_CLIENT_ID, SCOPES, AUTHORITY)"
   ]
  },
  {
   "cell_type": "code",
   "execution_count": 5,
   "metadata": {},
   "outputs": [
    {
     "data": {
      "text/plain": [
       "{'token_type': 'Bearer',\n",
       " 'scope': 'openid profile User.Read email',\n",
       " 'expires_in': 4362,\n",
       " 'ext_expires_in': 4362,\n",
       " 'access_token': 'eyJ0eXAiOiJKV1QiLCJub25jZSI6ImlSR2ViNUdrV2FUS0wzbXJIM1hXSXl4clJJaHV2R3pfRkE3dWRNUXdzRzAiLCJhbGciOiJSUzI1NiIsIng1dCI6IllUY2VPNUlKeXlxUjZqekRTNWlBYnBlNDJKdyIsImtpZCI6IllUY2VPNUlKeXlxUjZqekRTNWlBYnBlNDJKdyJ9.eyJhdWQiOiIwMDAwMDAwMy0wMDAwLTAwMDAtYzAwMC0wMDAwMDAwMDAwMDAiLCJpc3MiOiJodHRwczovL3N0cy53aW5kb3dzLm5ldC8wMDMwZTJmOC05Njg4LTQ5YzgtYWU0Zi1jZWY2N2E3ZWM4ZmYvIiwiaWF0IjoxNzM4NzA4NTY4LCJuYmYiOjE3Mzg3MDg1NjgsImV4cCI6MTczODcxMzIzMSwiYWNjdCI6MCwiYWNyIjoiMSIsImFpbyI6IkFUUUF5LzhaQUFBQXVvMGVPQlhCVUtYSDh1WEhQak9hMDRVK2RhZm9yQ3JyS2hEYllzbTg3K3hrNmN3Wmc3bEVJcElmekdQbWc3dmUiLCJhbXIiOlsicHdkIl0sImFwcF9kaXNwbGF5bmFtZSI6ImJlbGFzdGluZy1hYW5naWZ0ZW4tYWdlbnQiLCJhcHBpZCI6IjZmZTRjOTlhLTc4ODYtNDQ2My05MWJiLWNmMTMzYzVkZDE4NCIsImFwcGlkYWNyIjoiMCIsImZhbWlseV9uYW1lIjoidmFuIE9vc3Rlcm9vbSIsImdpdmVuX25hbWUiOiJEYW5pZWwiLCJpZHR5cCI6InVzZXIiLCJpcGFkZHIiOiIyMDAxOjFjMDA6ZDA0OjIyMDA6ZmUyMDo4NDVjOjQ3NTM6OWRiMyIsIm5hbWUiOiJEYW5pZWwgdmFuIE9vc3Rlcm9vbSIsIm9pZCI6IjAxN2U1M2NkLTY4NzctNDU2Ny1hODdiLWRhNGQ0NGNhM2ViZiIsInBsYXRmIjoiOCIsInB1aWQiOiIxMDAzMjAwNDNFQjk2QTkyIiwicmgiOiIxLkFVRUItT0l3QUlpV3lFbXVUODcyZW43SV93TUFBQUFBQUFBQXdBQUFBQUFBQUFCQ0FSOUJBUS4iLCJzY3AiOiJvcGVuaWQgcHJvZmlsZSBVc2VyLlJlYWQgZW1haWwiLCJzaWQiOiIwMDFmMjhhOS1iNzQ5LTc4ZTgtMTJmNS0xMWQ4YTNlZmFhMjQiLCJzdWIiOiItMzhoZW9WNmhfRUxGSDJ4SEQ3cUhXT3BjQjJaNXY5X1ZfZVNnTHBOWWJzIiwidGVuYW50X3JlZ2lvbl9zY29wZSI6IkVVIiwidGlkIjoiMDAzMGUyZjgtOTY4OC00OWM4LWFlNGYtY2VmNjdhN2VjOGZmIiwidW5pcXVlX25hbWUiOiJEYW5pZWxAZGVhaWZhYnJpZWsuY29tIiwidXBuIjoiRGFuaWVsQGRlYWlmYWJyaWVrLmNvbSIsInV0aSI6IkhUM3VDUkdCOVVXc0xmWFJwSGtXQUEiLCJ2ZXIiOiIxLjAiLCJ3aWRzIjpbImI3OWZiZjRkLTNlZjktNDY4OS04MTQzLTc2YjE5NGU4NTUwOSJdLCJ4bXNfZnRkIjoiNWNISFJJUnctQTFTYXZSbmNKeVYxTXpiX1ZGQmZ6M0Y1OUxLTGNEem1udyIsInhtc19pZHJlbCI6IjEgMTIiLCJ4bXNfc3QiOnsic3ViIjoiTEhXMlN4M0ZsRFVQS3paNS1vczlYbUZhd1RIenJzYlUyMnF4UVhNT1BhcyJ9LCJ4bXNfdGNkdCI6MTczMTE3NjA4NSwieG1zX3RkYnIiOiJFVSJ9.iHBWFvX0AIK2rqSDxkkMRWjYOzkCWKk56C7ps9i3QYAiRiZ42KnbnHqhRf4-JqzIK7BWkqjTJEXjvaOnTWxJU-9r4Qv0ate1gXsJ_kJ0_B4siCact8xu_J9edozdWW9ci11_1Tu1ivO6PmSx-OmdNzf15xulEkCx2GV8dgagOgCZ4hIviqJMbstI2HacmwZUHwkrl_K3cianxX1et7pDcVk7mcr-HHFBWcg7OPWLodRYgJ2Y5vsl5fqrGl_G4HPcw0Itn_8o8tGG3CeHj9j5Zg0HIHJ45rROSeTrAY3vp6vMymAtCKEKyrIYCBAOXoUbGFaMpvfc9Hr6xH383ErYiw',\n",
       " 'refresh_token': '1.AUEB-OIwAIiWyEmuT872en7I_5rJ5G-GeGNEkbvPEzxd0YRCAR9BAQ.AgABAwEAAABVrSpeuWamRam2jAF1XRQEAwDs_wUA9P_4hBRcwLgbD3Tqw_0BDo1WdA1N5dnTvHUz8LRb1tC74QkU2StLAj4HhjEs2iwYDaTA1driXp5xfwube6Od0pKZboGxLyOL388OW5WDXJ5NkpFJ2WQWtI_J19m--u2Ry_FItx_YvD1Dgpg6RXXMCMtL2K6X2kw9rnugJ1ouz5ECJ4v5Ih6Z8B3h-ZovNIc50XkHjVl9zvZBJWOYJdwZ2YvqS6ULS7oOCybJmUIus5Feu8HnpS9V8IK6aYjDNRo0EOFBaRmYxvoOAMELi5fgm5waiwUEGfv8PavsvhqZW6K18QUsr-aoh3wbfohwPwdzA-JJU9ypizb1bpmOI0izPRoDBhCHRvrE1uamkvogH52u_DEd4FQc-jFTuakWoUb8K_QosF0Rw7TM_bjsOo6yTEVrHsjao6qxTzJ2suQrGVf8vNyzluiWtE6q20LtYy3Cgt_oHHmsggv5FoO0ULVAKV7Bi0nrIuDEcpOtK9WLGYO7fomBc1fcODGO9Mc8bomgOxvVtsTjlgAa9IST4NopHx8XQb7kZ0fJAJdEeuawL9cYswYuuSGHiREaZ40_vJ4juE94ndyP5elV37WfXTsrnBy6eeqlDBZpmElDXGOZEK-65iXpI-lq-1AwwHdZFOja_1wz-WeQK7C-Uz0MkPc1FfRBpMfooM0jun7SCtJjHJiUylrMT6qd9c5e7MavKiOS50wo33UPc-wxRB9jvFpWvfye7BC7dFGlJ3X-IRLG4YdjiIkgcAgGaHKODMZxQ_OUV13mJnTM5Y2rtjciFEdN6kz_CsCNVJHbwpDtb3gv1qKRvQeX3yViSPzsuPyLJEa5g3iO0x8B5h0gMCNEhw',\n",
       " 'id_token': 'eyJ0eXAiOiJKV1QiLCJhbGciOiJSUzI1NiIsImtpZCI6IllUY2VPNUlKeXlxUjZqekRTNWlBYnBlNDJKdyJ9.eyJhdWQiOiI2ZmU0Yzk5YS03ODg2LTQ0NjMtOTFiYi1jZjEzM2M1ZGQxODQiLCJpc3MiOiJodHRwczovL2xvZ2luLm1pY3Jvc29mdG9ubGluZS5jb20vMDAzMGUyZjgtOTY4OC00OWM4LWFlNGYtY2VmNjdhN2VjOGZmL3YyLjAiLCJpYXQiOjE3Mzg3MDg1NjgsIm5iZiI6MTczODcwODU2OCwiZXhwIjoxNzM4NzEyNDY4LCJuYW1lIjoiRGFuaWVsIHZhbiBPb3N0ZXJvb20iLCJvaWQiOiIwMTdlNTNjZC02ODc3LTQ1NjctYTg3Yi1kYTRkNDRjYTNlYmYiLCJwcmVmZXJyZWRfdXNlcm5hbWUiOiJEYW5pZWxAZGVhaWZhYnJpZWsuY29tIiwicmgiOiIxLkFVRUItT0l3QUlpV3lFbXVUODcyZW43SV81cko1Ry1HZUdORWtidlBFenhkMFlSQ0FSOUJBUS4iLCJzaWQiOiIwMDFmMjhhOS1iNzQ5LTc4ZTgtMTJmNS0xMWQ4YTNlZmFhMjQiLCJzdWIiOiJMSFcyU3gzRmxEVVBLelo1LW9zOVhtRmF3VEh6cnNiVTIycXhRWE1PUGFzIiwidGlkIjoiMDAzMGUyZjgtOTY4OC00OWM4LWFlNGYtY2VmNjdhN2VjOGZmIiwidXRpIjoiSFQzdUNSR0I5VVdzTGZYUnBIa1dBQSIsInZlciI6IjIuMCJ9.Xgttd8VzSJl6m0achNw4M30X4_w5k-JnsDn6RoSFALQpeSMeblrvAA1PkqZryV9OH-tmK94KOAI9J4bQROCyY7elkU3y9dDh6RfNYuSVxzBGqHZR0nJ-JNDbrYrwTlisLu3WTYCD6foa20b_E_YNIi4ffkNVc_Qq1pMHh-47tGmyURoUZlesiXP7lRG4RxVBICsDFMro-m3xq6KF-aB4NcRKfZW6Qq9_4l_loGzr4sqbf9Ht6y69Oo3veAwP6uFjnCXurx_b-d2tqpSGAqTbLMJto35Gz72_g2T-6zCbCY_VrIFm0iJldk4sks5EAgv2TezT9ZQ-gSnO9B9qabiw4A',\n",
       " 'client_info': 'eyJ1aWQiOiIwMTdlNTNjZC02ODc3LTQ1NjctYTg3Yi1kYTRkNDRjYTNlYmYiLCJ1dGlkIjoiMDAzMGUyZjgtOTY4OC00OWM4LWFlNGYtY2VmNjdhN2VjOGZmIn0',\n",
       " 'id_token_claims': {'aud': '6fe4c99a-7886-4463-91bb-cf133c5dd184',\n",
       "  'iss': 'https://login.microsoftonline.com/0030e2f8-9688-49c8-ae4f-cef67a7ec8ff/v2.0',\n",
       "  'iat': 1738708568,\n",
       "  'nbf': 1738708568,\n",
       "  'exp': 1738712468,\n",
       "  'name': 'Daniel van Oosteroom',\n",
       "  'oid': '017e53cd-6877-4567-a87b-da4d44ca3ebf',\n",
       "  'preferred_username': 'Daniel@deaifabriek.com',\n",
       "  'rh': '1.AUEB-OIwAIiWyEmuT872en7I_5rJ5G-GeGNEkbvPEzxd0YRCAR9BAQ.',\n",
       "  'sid': '001f28a9-b749-78e8-12f5-11d8a3efaa24',\n",
       "  'sub': 'LHW2Sx3FlDUPKzZ5-os9XmFawTHzrsbU22qxQXMOPas',\n",
       "  'tid': '0030e2f8-9688-49c8-ae4f-cef67a7ec8ff',\n",
       "  'uti': 'HT3uCRGB9UWsLfXRpHkWAA',\n",
       "  'ver': '2.0'},\n",
       " 'token_source': 'identity_provider'}"
      ]
     },
     "execution_count": 5,
     "metadata": {},
     "output_type": "execute_result"
    }
   ],
   "source": [
    "token_response\n"
   ]
  },
  {
   "cell_type": "code",
   "execution_count": null,
   "metadata": {},
   "outputs": [],
   "source": []
  }
 ],
 "metadata": {
  "kernelspec": {
   "display_name": "daf_belasting_1",
   "language": "python",
   "name": "python3"
  },
  "language_info": {
   "codemirror_mode": {
    "name": "ipython",
    "version": 3
   },
   "file_extension": ".py",
   "mimetype": "text/x-python",
   "name": "python",
   "nbconvert_exporter": "python",
   "pygments_lexer": "ipython3",
   "version": "3.11.11"
  }
 },
 "nbformat": 4,
 "nbformat_minor": 2
}
