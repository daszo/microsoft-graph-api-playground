{
 "cells": [
  {
   "cell_type": "code",
   "execution_count": 49,
   "metadata": {},
   "outputs": [],
   "source": [
    "import webbrowser\n",
    "import requests\n",
    "import msal\n",
    "\n",
    "import os\n",
    "os.chdir(\"/home/daniel/de_AI_Fabriek/belasting-agent-playground/\")\n",
    "\n",
    "from keys import O365_CLIENT_SECRET, O365_CLIENT_ID\n",
    "\n",
    "SCOPES = [\"User.Read\"]\n",
    "\n",
    "# AUTHORITY = 'https://login.microsoftonline.com/' + \"b4790366-ebc1-458b-8baf-4aed4d12f0fc\"\n",
    "AUTHORITY = 'https://login.microsoftonline.com/common'"
   ]
  },
  {
   "cell_type": "markdown",
   "metadata": {},
   "source": [
    "## msal"
   ]
  },
  {
   "cell_type": "code",
   "execution_count": 46,
   "metadata": {},
   "outputs": [],
   "source": [
    "def generate_acces_token(app_id, scopes, authority):\n",
    "    acces_token_cache = msal.SerializableTokenCache()\n",
    "    \n",
    "    # read token cache\n",
    "    if os.path.exists(\"msg_api_token_access.json\"):\n",
    "        acces_token_cache.deserialize(open(\"msg_api_token_access.json\", \"r\").read())\n",
    "        \n",
    "    client = msal.PublicClientApplication(\n",
    "        app_id,\n",
    "        authority=authority,\n",
    "        )\n",
    "    \n",
    "    accounts = client.get_accounts()\n",
    "    if accounts:\n",
    "        token_response = client.acquire_token_silent(scopes, account=accounts[0])\n",
    "    else:\n",
    "        flow = client.initiate_device_flow(scopes=scopes)\n",
    "        print('user code: ', flow['user_code'])\n",
    "        webbrowser.open(flow['verification_uri'])\n",
    "        token_response = client.acquire_token_by_device_flow(flow)\n",
    "        print(token_response)\n",
    "        \n",
    "    with open(\"msg_api_token_access.json\", \"w\") as _f:\n",
    "        _f.write(acces_token_cache.serialize())\n",
    "    return token_response\n",
    "        \n",
    "    "
   ]
  },
  {
   "cell_type": "code",
   "execution_count": 50,
   "metadata": {},
   "outputs": [
    {
     "name": "stdout",
     "output_type": "stream",
     "text": [
      "user code:  D56Q45326\n",
      "{'token_type': 'Bearer', 'scope': 'openid profile User.Read email', 'expires_in': 4132, 'ext_expires_in': 4132, 'access_token': 'eyJ0eXAiOiJKV1QiLCJub25jZSI6IlNRU3NFcjJnTEtiRXhyb2ZiYm5oTDNsdDRRNWptYXFwZm1BdUdzVUNKQVUiLCJhbGciOiJSUzI1NiIsIng1dCI6IllUY2VPNUlKeXlxUjZqekRTNWlBYnBlNDJKdyIsImtpZCI6IllUY2VPNUlKeXlxUjZqekRTNWlBYnBlNDJKdyJ9.eyJhdWQiOiIwMDAwMDAwMy0wMDAwLTAwMDAtYzAwMC0wMDAwMDAwMDAwMDAiLCJpc3MiOiJodHRwczovL3N0cy53aW5kb3dzLm5ldC8wMDMwZTJmOC05Njg4LTQ5YzgtYWU0Zi1jZWY2N2E3ZWM4ZmYvIiwiaWF0IjoxNzM4NDQyMDk0LCJuYmYiOjE3Mzg0NDIwOTQsImV4cCI6MTczODQ0NjUyNywiYWNjdCI6MCwiYWNyIjoiMSIsImFpbyI6IkFUUUF5LzhaQUFBQWIvaTVNdHVzQnFPZmpnQ0RhRWpKVDVLcTAwdTZSUWVzeEdIZCs4citSZjNvZm10OWNMUXZWckxpcCs1RmplNUgiLCJhbXIiOlsicHdkIl0sImFwcF9kaXNwbGF5bmFtZSI6ImJlbGFzdGluZy1hYW5naWZ0ZW4tYWdlbnQiLCJhcHBpZCI6IjZmZTRjOTlhLTc4ODYtNDQ2My05MWJiLWNmMTMzYzVkZDE4NCIsImFwcGlkYWNyIjoiMCIsImZhbWlseV9uYW1lIjoidmFuIE9vc3Rlcm9vbSIsImdpdmVuX25hbWUiOiJEYW5pZWwiLCJpZHR5cCI6InVzZXIiLCJpcGFkZHIiOiIyYTAyOmE0NDA6NzkxOTowOjEzYjA6NWNkOjFiZGI6ZDc5MCIsIm5hbWUiOiJEYW5pZWwgdmFuIE9vc3Rlcm9vbSIsIm9pZCI6IjAxN2U1M2NkLTY4NzctNDU2Ny1hODdiLWRhNGQ0NGNhM2ViZiIsInBsYXRmIjoiOCIsInB1aWQiOiIxMDAzMjAwNDNFQjk2QTkyIiwicmgiOiIxLkFVRUItT0l3QUlpV3lFbXVUODcyZW43SV93TUFBQUFBQUFBQXdBQUFBQUFBQUFCQ0FSOUJBUS4iLCJzY3AiOiJvcGVuaWQgcHJvZmlsZSBVc2VyLlJlYWQgZW1haWwiLCJzaWQiOiIwMDFlYjM3OS0zNDAyLTUwODQtMDZkMi1jZWY5YWMwNDFkNTMiLCJzdWIiOiItMzhoZW9WNmhfRUxGSDJ4SEQ3cUhXT3BjQjJaNXY5X1ZfZVNnTHBOWWJzIiwidGVuYW50X3JlZ2lvbl9zY29wZSI6IkVVIiwidGlkIjoiMDAzMGUyZjgtOTY4OC00OWM4LWFlNGYtY2VmNjdhN2VjOGZmIiwidW5pcXVlX25hbWUiOiJEYW5pZWxAZGVhaWZhYnJpZWsuY29tIiwidXBuIjoiRGFuaWVsQGRlYWlmYWJyaWVrLmNvbSIsInV0aSI6Ijd3RzQ4R1pWRFUtQkpoT3lCc01wQUEiLCJ2ZXIiOiIxLjAiLCJ3aWRzIjpbImI3OWZiZjRkLTNlZjktNDY4OS04MTQzLTc2YjE5NGU4NTUwOSJdLCJ4bXNfZnRkIjoidVlSRW1jc3NMbzBDMFZIVEtoekw2MElJdDh2ZEJWYXhyQV9FTXFBamRtSSIsInhtc19pZHJlbCI6IjEgMjQiLCJ4bXNfc3QiOnsic3ViIjoiTEhXMlN4M0ZsRFVQS3paNS1vczlYbUZhd1RIenJzYlUyMnF4UVhNT1BhcyJ9LCJ4bXNfdGNkdCI6MTczMTE3NjA4NSwieG1zX3RkYnIiOiJFVSJ9.b4gFll7IGUm2qYZ7sAc46bSNNsSxdckk5rRuThDVoemQXTUMi10KtyaXHctqRT4XV9clI00FPhBw6zIzJ0Y25mXhXrT8FHRDWQyGe-bfin4Ldkjp4S3SqNTAaT_zkpejDCy0YCJz63_NX3WX11qo7JMZThvnN0uho4h4O1crJNJpXkAXx0SEc0Vu8DJP5NTH4y7hUztUNif3371wq3tOxix8u2QjgBUMZe-XrC1itSFcloct7DLvFRUu5rFkqSHkaunTbW8QibpQ9jeMdJFb0ZQN7WdBsJY7gyxAcKOVoUp1CtPc76cN0sbk0DSTU5p-tJwkcvBW8hAsjWElpRqP-w', 'refresh_token': '1.AUEB-OIwAIiWyEmuT872en7I_5rJ5G-GeGNEkbvPEzxd0YRCAR9BAQ.AgABAwEAAABVrSpeuWamRam2jAF1XRQEAwDs_wUA9P_gBWhgrS2zhdpJ9bMXFYuFu4nsM0NOVknkinV92lQ59VqeKnYoanc6scucYjMiZ2Cu-8AONaWtl3joHqwoq0_Qhr5vjsqn_CQh9AFB7LUSS6wXpFBrxV4p3ydzrCp02RPBP2pOfixQtHSAa8fR-xWH_9chh40UOUG0lvyWHPyYRFT4mEPNvwAJwB6U6Xe4L2xuVCcjqeTPRiHD3u9NcnS_mF5sPKgBtEdxdeVFgm30IY9gqZPMwaIpQN3A285wSzwY8yQ5tIL764NVpKEvN0rXb2X40FWVMr5KARRhHaoV7M-YIfJSAuX51DYRKHUxhzf8Wio250N3MYmuqaWRe9frZ4CVNP-zudwfE5rQL2qGjbuhsZdcO9x3SOMR5yYY5J70IspQfxszslQNR0jBAv8kX_eArpsPcoG896kZKFkyCLhbR2UtD-4v8YVR6hNJOVrnHOeHj3nE3EEk-WA-EP8-TphAzRxKJJIaU40Q53LUyny2qxLEzdYQXDkiMgmSdMfhuviP7A2u2LI7336PeO7wqVnMPmrbg776iFZio-3kh7Z_ceXVeE5LSDZGDViynV3r__3tXCrKTsGGoG2WlTs6LdBb79TtFx_VP6DWmEaPmlkTQN4bnhQ01eA848ILFrk8iOUP-CDlkGxwyxZmIXtEqEsessFnYCFYBmbs3VHgULau3joM-b9hgQ_du7u5UI2TD6GRrr-hEhppC1Q6K2RGCWgkEmaDMO1fZ0nRIYjDS01mX2XnOEPXD9NJLG3WW3XCLUkVTwd6ETLiUPCEPh9MACf44PBFj5DhusYCrsnAozQDf7cBGqtH6uWUVaPpqHFS2onhegw', 'id_token': 'eyJ0eXAiOiJKV1QiLCJhbGciOiJSUzI1NiIsImtpZCI6IllUY2VPNUlKeXlxUjZqekRTNWlBYnBlNDJKdyJ9.eyJhdWQiOiI2ZmU0Yzk5YS03ODg2LTQ0NjMtOTFiYi1jZjEzM2M1ZGQxODQiLCJpc3MiOiJodHRwczovL2xvZ2luLm1pY3Jvc29mdG9ubGluZS5jb20vMDAzMGUyZjgtOTY4OC00OWM4LWFlNGYtY2VmNjdhN2VjOGZmL3YyLjAiLCJpYXQiOjE3Mzg0NDIwOTQsIm5iZiI6MTczODQ0MjA5NCwiZXhwIjoxNzM4NDQ1OTk0LCJuYW1lIjoiRGFuaWVsIHZhbiBPb3N0ZXJvb20iLCJvaWQiOiIwMTdlNTNjZC02ODc3LTQ1NjctYTg3Yi1kYTRkNDRjYTNlYmYiLCJwcmVmZXJyZWRfdXNlcm5hbWUiOiJEYW5pZWxAZGVhaWZhYnJpZWsuY29tIiwicmgiOiIxLkFVRUItT0l3QUlpV3lFbXVUODcyZW43SV81cko1Ry1HZUdORWtidlBFenhkMFlSQ0FSOUJBUS4iLCJzaWQiOiIwMDFlYjM3OS0zNDAyLTUwODQtMDZkMi1jZWY5YWMwNDFkNTMiLCJzdWIiOiJMSFcyU3gzRmxEVVBLelo1LW9zOVhtRmF3VEh6cnNiVTIycXhRWE1PUGFzIiwidGlkIjoiMDAzMGUyZjgtOTY4OC00OWM4LWFlNGYtY2VmNjdhN2VjOGZmIiwidXRpIjoiN3dHNDhHWlZEVS1CSmhPeUJzTXBBQSIsInZlciI6IjIuMCJ9.D5hDB9DTCXccIQ_EdUtiLjRSBDEXsWfD5NCNhBnfKbAodOdrIvyDPzJUujheOVfm3j6fj6nTdLM6c3WzsTUPbY5YAVs2vFMAXl9JN1ZdBOIeuSb6QtNYI0nVwwQr87YvNU-VB7fnghnP8DdGuzOCLre19YDQuX_xBuebiy1wUmuA_Q8beDNKIB9KT05EiO06aS-v6MnIo6llEyOft3ID-es4VYK5sMvj0u8n15KIJMI_U8ofkdvSjgkk2ZLsnXsN5eREE1xBmWwDZBDkpMPVHUBp2vRE6X13ES1ut4VJr7Kxp_MY0VsE-TLDHgT8VR3zHBwxdL8sD6ZJIxp8MBiX4Q', 'client_info': 'eyJ1aWQiOiIwMTdlNTNjZC02ODc3LTQ1NjctYTg3Yi1kYTRkNDRjYTNlYmYiLCJ1dGlkIjoiMDAzMGUyZjgtOTY4OC00OWM4LWFlNGYtY2VmNjdhN2VjOGZmIn0', 'id_token_claims': {'aud': '6fe4c99a-7886-4463-91bb-cf133c5dd184', 'iss': 'https://login.microsoftonline.com/0030e2f8-9688-49c8-ae4f-cef67a7ec8ff/v2.0', 'iat': 1738442094, 'nbf': 1738442094, 'exp': 1738445994, 'name': 'Daniel van Oosteroom', 'oid': '017e53cd-6877-4567-a87b-da4d44ca3ebf', 'preferred_username': 'Daniel@deaifabriek.com', 'rh': '1.AUEB-OIwAIiWyEmuT872en7I_5rJ5G-GeGNEkbvPEzxd0YRCAR9BAQ.', 'sid': '001eb379-3402-5084-06d2-cef9ac041d53', 'sub': 'LHW2Sx3FlDUPKzZ5-os9XmFawTHzrsbU22qxQXMOPas', 'tid': '0030e2f8-9688-49c8-ae4f-cef67a7ec8ff', 'uti': '7wG48GZVDU-BJhOyBsMpAA', 'ver': '2.0'}, 'token_source': 'identity_provider'}\n"
     ]
    }
   ],
   "source": [
    "token_response = generate_acces_token(O365_CLIENT_ID, SCOPES, AUTHORITY)"
   ]
  }
 ],
 "metadata": {
  "kernelspec": {
   "display_name": "daf_belasting_1",
   "language": "python",
   "name": "python3"
  },
  "language_info": {
   "codemirror_mode": {
    "name": "ipython",
    "version": 3
   },
   "file_extension": ".py",
   "mimetype": "text/x-python",
   "name": "python",
   "nbconvert_exporter": "python",
   "pygments_lexer": "ipython3",
   "version": "3.11.11"
  }
 },
 "nbformat": 4,
 "nbformat_minor": 2
}
