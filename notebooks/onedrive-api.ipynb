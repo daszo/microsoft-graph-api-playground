{
 "cells": [
  {
   "cell_type": "markdown",
   "metadata": {},
   "source": [
    "### general"
   ]
  },
  {
   "cell_type": "code",
   "execution_count": null,
   "metadata": {},
   "outputs": [],
   "source": [
    "import requests\n",
    "from datetime import datetime, timedelta\n",
    "import json\n",
    "import msal\n",
    "import webbrowser\n",
    "from typing import List, Dict, Union, Optional, Tuple\n",
    "import os\n",
    "os.chdir(\"/home/daniel/de_AI_Fabriek/belasting-agent-playground/\")\n",
    "\n",
    "from keys import O365_CLIENT_SECRET, O365_CLIENT_ID\n",
    "\n",
    "SCOPES = ['Calendars.ReadWrite']\n",
    "GRAPH_API_ENDPOINT = 'https://graph.microsoft.com/v1.0'\n",
    "\n",
    "AUTHORITY = 'https://login.microsoftonline.com/common'"
   ]
  },
  {
   "cell_type": "markdown",
   "metadata": {},
   "source": [
    "# experimental"
   ]
  },
  {
   "cell_type": "markdown",
   "metadata": {},
   "source": [
    "### general"
   ]
  },
  {
   "cell_type": "code",
   "execution_count": 15,
   "metadata": {},
   "outputs": [],
   "source": [
    "\n",
    "def generate_access_token(app_id: str, scopes: List[str]) -> Dict[str, Union[str, int, Dict[str, Union[str, int]]]]:\n",
    "    \"\"\" Summary:\n",
    "    This function generates an access token for the Microsoft Graph API.\n",
    "    It uses the MSAL library to authenticate the user and generate the token or\n",
    "    use the token from the cache if it is still valid, otherwise it will refresh the token.\n",
    "        - Tokens are valid for 10 minutes and refresh tokens are valid for 90 days (school and work accounts) or 1 year\n",
    "        and can be used to refresh the access token and get a new refresh token.\n",
    "        \n",
    "    The token is saved in a file called 'msg_api_token_access.json' and is used to authenticate the user in the future.\n",
    "\n",
    "    Args:\n",
    "        app_id : Client ID of the Azure App Registration\n",
    "        scopes : List of scopes that the token should have access to\n",
    "\n",
    "    Returns:\n",
    "        Dict : Dictionary containing the access token and\n",
    "        other information like the token type, expiry time and other account information. \n",
    "    \"\"\"\n",
    "\n",
    "    # Save Session Token as a token file\n",
    "    access_token_cache = msal.SerializableTokenCache()\n",
    "\n",
    "    # read the token file\n",
    "    if os.path.exists('msg_api_token_access.json'):\n",
    "        access_token_cache.deserialize(open(\"msg_api_token_access.json\", \"r\").read())\n",
    "        token_detail = json.load(open('msg_api_token_access.json',))\n",
    "        if not token_detail:\n",
    "            os.remove('msg_api_token_access.json')\n",
    "            access_token_cache = msal.SerializableTokenCache()\n",
    "\n",
    "        # check if the token is still valid\n",
    "        if token_detail:\n",
    "            token_detail_key = list(token_detail['RefreshToken'].keys())[0]\n",
    "            modified = datetime.fromtimestamp(int(token_detail['RefreshToken'][token_detail_key]['last_modification_time']))\n",
    "            end_date = modified + timedelta(days=90)\n",
    "            if datetime.now() > end_date:\n",
    "                os.remove('msg_api_token_access.json')\n",
    "                access_token_cache = msal.SerializableTokenCache()\n",
    "\n",
    "    # assign a SerializableTokenCache object to the client instance\n",
    "    client = msal.PublicClientApplication(client_id=app_id, token_cache=access_token_cache)\n",
    "\n",
    "    accounts = client.get_accounts()\n",
    "    if accounts:\n",
    "        # load the session\n",
    "        token_response = client.acquire_token_silent(scopes, accounts[0])\n",
    "\n",
    "    # if there are no accounts or the token is not valid (expired or out of scope) request a login form the user\n",
    "    if not accounts or not token_response:\n",
    "        # authetnicate your accoutn as usual\n",
    "        flow = client.initiate_device_flow(scopes=scopes)\n",
    "        webbrowser.open('https://microsoft.com/devicelogin')\n",
    "        token_response = client.acquire_token_by_device_flow(flow)\n",
    "\n",
    "    with open('msg_api_token_access.json', 'w') as _f:\n",
    "        _f.write(access_token_cache.serialize())\n",
    "\n",
    "    return token_response\n",
    "\n",
    "             \n"
   ]
  },
  {
   "cell_type": "markdown",
   "metadata": {},
   "source": [
    "## Calendar"
   ]
  },
  {
   "cell_type": "markdown",
   "metadata": {},
   "source": [
    "### Predecessors "
   ]
  },
  {
   "cell_type": "code",
   "execution_count": 16,
   "metadata": {},
   "outputs": [],
   "source": [
    "access_token = generate_access_token(O365_CLIENT_ID, SCOPES)\n",
    "headers = {\n",
    "    'Authorization': 'Bearer ' + access_token['access_token']\n",
    "}\n",
    "\n",
    "# create an event\n"
   ]
  },
  {
   "cell_type": "code",
   "execution_count": 17,
   "metadata": {},
   "outputs": [],
   "source": [
    "def get_headers() -> Dict[str, str]:\n",
    "    access_token = generate_access_token(O365_CLIENT_ID, SCOPES)\n",
    "    headers = {\n",
    "        'Authorization': 'Bearer ' + access_token['access_token']\n",
    "    }\n",
    "    return headers"
   ]
  },
  {
   "cell_type": "code",
   "execution_count": 18,
   "metadata": {},
   "outputs": [],
   "source": [
    "def construct_event_detail(event_name: Dict[str, str], **kwargs : Dict[str, str]) -> Dict[str, str]:\n",
    "    request_body = {\n",
    "        'subject': event_name,\n",
    "    }\n",
    "    for key, value in kwargs.items():\n",
    "        request_body[key] = value\n",
    "    return request_body\n"
   ]
  },
  {
   "cell_type": "code",
   "execution_count": 28,
   "metadata": {},
   "outputs": [],
   "source": [
    "def write_event(event_name: str, start: datetime, end: datetime, **kwargs) -> Dict[str, Union[str, int, List[str], Dict[str, Union[str, int]]]]:\n",
    "    headers = get_headers()\n",
    "    response = requests.post(\n",
    "        GRAPH_API_ENDPOINT + f'/me/events',\n",
    "        headers=headers,\n",
    "        json=construct_event_detail(\n",
    "            event_name,\n",
    "            start=start,\n",
    "            end=end,\n",
    "            **kwargs\n",
    "        )\n",
    "    )\n",
    "    return response"
   ]
  },
  {
   "cell_type": "markdown",
   "metadata": {},
   "source": [
    "### Create event"
   ]
  },
  {
   "cell_type": "markdown",
   "metadata": {},
   "source": [
    "Examples of the request body for creating an event:"
   ]
  },
  {
   "cell_type": "code",
   "execution_count": 20,
   "metadata": {},
   "outputs": [],
   "source": [
    "# event_name = 'Work Holiday'\n",
    "# body = {\n",
    "#     # html or text\n",
    "#     'contentType': 'html',\n",
    "#     'content': '<b>2 weeks vacation</b>'\n",
    "# }\n",
    "# start = {\n",
    "#     'dateTime': '2025-02-20T09:00:00',\n",
    "#     'timeZone': 'Europe/Amsterdam'\n",
    "# }\n",
    "# end = {\n",
    "#     'dateTime': '2025-02-21T17:00:00',\n",
    "#     'timeZone': 'Europe/Amsterdam'\n",
    "# }\n",
    "# location = {\n",
    "#     'displayName': 'Paris, France'\n",
    "# }\n",
    "# attendees = [\n",
    "#     {\n",
    "#         'emailAddress': {\n",
    "#             'address': 'daniel@vanoosteroom.com'\n",
    "#         },\n",
    "#          'type': 'required' # or optional\n",
    "#     }\n",
    "# ]"
   ]
  },
  {
   "cell_type": "code",
   "execution_count": 21,
   "metadata": {},
   "outputs": [],
   "source": [
    "# response2_create = requests.post(\n",
    "#     GRAPH_API_ENDPOINT + f'/me/events',\n",
    "#     headers=headers,\n",
    "#     json=construct_event_detail(\n",
    "#             event_name,\n",
    "#             body=body,\n",
    "#             location=location,\n",
    "#             start=start,\n",
    "#             end=end,\n",
    "#             #attendees=attendees,\n",
    "#         )\n",
    "# )"
   ]
  },
  {
   "cell_type": "markdown",
   "metadata": {},
   "source": [
    "### Create test environment workweek"
   ]
  },
  {
   "cell_type": "code",
   "execution_count": 35,
   "metadata": {},
   "outputs": [],
   "source": [
    "\n",
    "import random\n",
    "def generate_schedule() -> List[List[timedelta]]:\n",
    "    week_schedule = []\n",
    "\n",
    "    for _ in range(5):\n",
    "\n",
    "        times = [(timedelta(hours=9) + timedelta(minutes=random.choice([0, 15, 30, 45])))]\n",
    "\n",
    "\n",
    "        while True:\n",
    "            random_value = times[-1] + timedelta(minutes=random.choice(range(30, 180, 15)))\n",
    "            times.append(random_value)\n",
    "            if random_value >= timedelta(hours=16, minutes=30):\n",
    "                times.pop(-1)\n",
    "                times.append(timedelta(hours=17))\n",
    "                break\n",
    "        week_schedule.append(times)\n",
    "    return week_schedule"
   ]
  },
  {
   "cell_type": "code",
   "execution_count": 38,
   "metadata": {},
   "outputs": [],
   "source": [
    "# Create a randon da\n",
    "\n",
    "def to_iso_date(date: datetime) -> str:\n",
    "    return date.strftime(\"%Y-%m-%d\")\n",
    "\n",
    "def to_iso_time(time : timedelta) -> str:\n",
    "    string_time = str(time)\n",
    "    dt = datetime.strptime(string_time, \"%H:%M:%S\")\n",
    "    return dt.strftime(\"%H:%M:%S\")\n",
    "\n",
    "def date_and_time_to_iso(date: datetime, time: timedelta) -> str:\n",
    "    return to_iso_date(date) + 'T' + to_iso_time(time)\n",
    "\n",
    "def time_json(date: datetime, time: timedelta) -> Dict[str, str]:\n",
    "    return {\n",
    "        'dateTime': date_and_time_to_iso(date, time),\n",
    "        'timeZone': 'Europe/Amsterdam'\n",
    "    }\n",
    "    \n",
    "def convert_to_date_time(time: datetime) -> timedelta:\n",
    "    hours, minutes, seconds = map(int, str(time).split(':'))\n",
    "    time_checked = timedelta(hours=hours, minutes=minutes, seconds=seconds)\n",
    "    return time_checked\n",
    "\n",
    "\n",
    "def write_week(week_schedule: List[List[timedelta]], start_date: datetime = datetime.now()) -> List[Dict[str, Union[str, int, List[str], Dict[str, Union[str, int]]]]]:\n",
    "\n",
    "    log = []\n",
    "\n",
    "    day = start_date - timedelta(days=1)\n",
    "    for day_schedule in week_schedule:\n",
    "        if day.weekday() == 4:\n",
    "            day = day + timedelta(days=2)\n",
    "        elif day.weekday() == 5:\n",
    "            day = day + timedelta(days=1)\n",
    "        \n",
    "        day = day + timedelta(days=1)\n",
    "            \n",
    "        for j, time_indices in enumerate(day_schedule):\n",
    "            log.append(write_event(\n",
    "                'Meeting',\n",
    "                time_json(day, day_schedule[j -1]),\n",
    "                time_json(day, time_indices)\n",
    "            ).json())\n",
    "    return log\n",
    "\n"
   ]
  },
  {
   "cell_type": "code",
   "execution_count": 39,
   "metadata": {},
   "outputs": [],
   "source": [
    "logs = write_week(generate_schedule())"
   ]
  },
  {
   "cell_type": "code",
   "execution_count": 44,
   "metadata": {},
   "outputs": [
    {
     "name": "stdout",
     "output_type": "stream",
     "text": [
      "{'error': {'code': 'ErrorPropertyValidationFailure', 'message': 'At least one property failed validation.'}}\n",
      "{'@odata.context': \"https://graph.microsoft.com/v1.0/$metadata#users('outlook_1EBDCD179CAEDECE%40outlook.com')/events/$entity\", '@odata.etag': 'W/\"ClAZo7UKNEq0Gv3bsgM5dQAAEcMkmw==\"', 'id': 'AQMkADAwATMwMAExLThjNTUALTAwAGJlLTAwAi0wMAoARgAAAxp5qsgLJ-hOuMYmhH_7aJYHAApQGaO1CjRKtBr927IDOXUAAAIBDQAAAApQGaO1CjRKtBr927IDOXUAAAARxByuAAAA', 'createdDateTime': '2025-02-25T14:01:44.8284026Z', 'lastModifiedDateTime': '2025-02-25T14:01:44.8768754Z', 'changeKey': 'ClAZo7UKNEq0Gv3bsgM5dQAAEcMkmw==', 'categories': [], 'transactionId': None, 'originalStartTimeZone': 'Europe/Amsterdam', 'originalEndTimeZone': 'Europe/Amsterdam', 'iCalUId': '040000008200E00074C5B7101A82E008000000003310AACD8D87DB01000000000000000010000000EABF7B68B040C04CB651968026F69E30', 'uid': '040000008200E00074C5B7101A82E008000000003310AACD8D87DB01000000000000000010000000EABF7B68B040C04CB651968026F69E30', 'reminderMinutesBeforeStart': 15, 'isReminderOn': True, 'hasAttachments': False, 'subject': 'Meeting', 'bodyPreview': '', 'importance': 'normal', 'sensitivity': 'normal', 'isAllDay': False, 'isCancelled': False, 'isOrganizer': True, 'responseRequested': True, 'seriesMasterId': None, 'showAs': 'busy', 'type': 'singleInstance', 'webLink': 'https://outlook.live.com/owa/?itemid=AQMkADAwATMwMAExLThjNTUALTAwAGJlLTAwAi0wMAoARgAAAxp5qsgLJ%2FhOuMYmhH%2B7aJYHAApQGaO1CjRKtBr927IDOXUAAAIBDQAAAApQGaO1CjRKtBr927IDOXUAAAARxByuAAAA&exvsurl=1&path=/calendar/item', 'onlineMeetingUrl': None, 'isOnlineMeeting': False, 'onlineMeetingProvider': 'unknown', 'allowNewTimeProposals': True, 'occurrenceId': None, 'isDraft': False, 'hideAttendees': False, 'responseStatus': {'response': 'organizer', 'time': '0001-01-01T00:00:00Z'}, 'body': {'contentType': 'html', 'content': '<html><head><meta http-equiv=\"Content-Type\" content=\"text/html; charset=utf-8\">\\r\\n<meta name=\"Generator\" content=\"Microsoft Exchange Server\">\\r\\n<!-- converted from text -->\\r\\n<style><!-- .EmailQuote { margin-left: 1pt; padding-left: 4pt; border-left: #800000 2px solid; } --></style></head>\\r\\n<body>\\r\\n<font size=\"2\"><span style=\"font-size:11pt;\"><div class=\"PlainText\">&nbsp;</div></span></font>\\r\\n</body>\\r\\n</html>\\r\\n'}, 'start': {'dateTime': '2025-02-25T09:45:00.0000000', 'timeZone': 'Europe/Amsterdam'}, 'end': {'dateTime': '2025-02-25T12:15:00.0000000', 'timeZone': 'Europe/Amsterdam'}, 'location': {'displayName': '', 'locationType': 'default', 'uniqueIdType': 'unknown', 'address': {}, 'coordinates': {}}, 'locations': [], 'recurrence': None, 'attendees': [], 'organizer': {'emailAddress': {'name': 'Daniel van Oosteroom', 'address': 'outlook_1EBDCD179CAEDECE@outlook.com'}}, 'onlineMeeting': None}\n",
      "{'@odata.context': \"https://graph.microsoft.com/v1.0/$metadata#users('outlook_1EBDCD179CAEDECE%40outlook.com')/events/$entity\", '@odata.etag': 'W/\"ClAZo7UKNEq0Gv3bsgM5dQAAEcMknQ==\"', 'id': 'AQMkADAwATMwMAExLThjNTUALTAwAGJlLTAwAi0wMAoARgAAAxp5qsgLJ-hOuMYmhH_7aJYHAApQGaO1CjRKtBr927IDOXUAAAIBDQAAAApQGaO1CjRKtBr927IDOXUAAAARxByvAAAA', 'createdDateTime': '2025-02-25T14:01:45.1974555Z', 'lastModifiedDateTime': '2025-02-25T14:01:45.2436068Z', 'changeKey': 'ClAZo7UKNEq0Gv3bsgM5dQAAEcMknQ==', 'categories': [], 'transactionId': None, 'originalStartTimeZone': 'Europe/Amsterdam', 'originalEndTimeZone': 'Europe/Amsterdam', 'iCalUId': '040000008200E00074C5B7101A82E00800000000D748E3CD8D87DB010000000000000000100000009FC75F2ABCB99847A6229D17335A9D05', 'uid': '040000008200E00074C5B7101A82E00800000000D748E3CD8D87DB010000000000000000100000009FC75F2ABCB99847A6229D17335A9D05', 'reminderMinutesBeforeStart': 15, 'isReminderOn': True, 'hasAttachments': False, 'subject': 'Meeting', 'bodyPreview': '', 'importance': 'normal', 'sensitivity': 'normal', 'isAllDay': False, 'isCancelled': False, 'isOrganizer': True, 'responseRequested': True, 'seriesMasterId': None, 'showAs': 'busy', 'type': 'singleInstance', 'webLink': 'https://outlook.live.com/owa/?itemid=AQMkADAwATMwMAExLThjNTUALTAwAGJlLTAwAi0wMAoARgAAAxp5qsgLJ%2FhOuMYmhH%2B7aJYHAApQGaO1CjRKtBr927IDOXUAAAIBDQAAAApQGaO1CjRKtBr927IDOXUAAAARxByvAAAA&exvsurl=1&path=/calendar/item', 'onlineMeetingUrl': None, 'isOnlineMeeting': False, 'onlineMeetingProvider': 'unknown', 'allowNewTimeProposals': True, 'occurrenceId': None, 'isDraft': False, 'hideAttendees': False, 'responseStatus': {'response': 'organizer', 'time': '0001-01-01T00:00:00Z'}, 'body': {'contentType': 'html', 'content': '<html><head><meta http-equiv=\"Content-Type\" content=\"text/html; charset=utf-8\">\\r\\n<meta name=\"Generator\" content=\"Microsoft Exchange Server\">\\r\\n<!-- converted from text -->\\r\\n<style><!-- .EmailQuote { margin-left: 1pt; padding-left: 4pt; border-left: #800000 2px solid; } --></style></head>\\r\\n<body>\\r\\n<font size=\"2\"><span style=\"font-size:11pt;\"><div class=\"PlainText\">&nbsp;</div></span></font>\\r\\n</body>\\r\\n</html>\\r\\n'}, 'start': {'dateTime': '2025-02-25T12:15:00.0000000', 'timeZone': 'Europe/Amsterdam'}, 'end': {'dateTime': '2025-02-25T14:45:00.0000000', 'timeZone': 'Europe/Amsterdam'}, 'location': {'displayName': '', 'locationType': 'default', 'uniqueIdType': 'unknown', 'address': {}, 'coordinates': {}}, 'locations': [], 'recurrence': None, 'attendees': [], 'organizer': {'emailAddress': {'name': 'Daniel van Oosteroom', 'address': 'outlook_1EBDCD179CAEDECE@outlook.com'}}, 'onlineMeeting': None}\n",
      "{'@odata.context': \"https://graph.microsoft.com/v1.0/$metadata#users('outlook_1EBDCD179CAEDECE%40outlook.com')/events/$entity\", '@odata.etag': 'W/\"ClAZo7UKNEq0Gv3bsgM5dQAAEcMknw==\"', 'id': 'AQMkADAwATMwMAExLThjNTUALTAwAGJlLTAwAi0wMAoARgAAAxp5qsgLJ-hOuMYmhH_7aJYHAApQGaO1CjRKtBr927IDOXUAAAIBDQAAAApQGaO1CjRKtBr927IDOXUAAAARxBywAAAA', 'createdDateTime': '2025-02-25T14:01:45.606213Z', 'lastModifiedDateTime': '2025-02-25T14:01:45.6508719Z', 'changeKey': 'ClAZo7UKNEq0Gv3bsgM5dQAAEcMknw==', 'categories': [], 'transactionId': None, 'originalStartTimeZone': 'Europe/Amsterdam', 'originalEndTimeZone': 'Europe/Amsterdam', 'iCalUId': '040000008200E00074C5B7101A82E00800000000A44521CE8D87DB01000000000000000010000000AB4D78E1E1484E4499BF30AAAC93AB73', 'uid': '040000008200E00074C5B7101A82E00800000000A44521CE8D87DB01000000000000000010000000AB4D78E1E1484E4499BF30AAAC93AB73', 'reminderMinutesBeforeStart': 15, 'isReminderOn': True, 'hasAttachments': False, 'subject': 'Meeting', 'bodyPreview': '', 'importance': 'normal', 'sensitivity': 'normal', 'isAllDay': False, 'isCancelled': False, 'isOrganizer': True, 'responseRequested': True, 'seriesMasterId': None, 'showAs': 'busy', 'type': 'singleInstance', 'webLink': 'https://outlook.live.com/owa/?itemid=AQMkADAwATMwMAExLThjNTUALTAwAGJlLTAwAi0wMAoARgAAAxp5qsgLJ%2FhOuMYmhH%2B7aJYHAApQGaO1CjRKtBr927IDOXUAAAIBDQAAAApQGaO1CjRKtBr927IDOXUAAAARxBywAAAA&exvsurl=1&path=/calendar/item', 'onlineMeetingUrl': None, 'isOnlineMeeting': False, 'onlineMeetingProvider': 'unknown', 'allowNewTimeProposals': True, 'occurrenceId': None, 'isDraft': False, 'hideAttendees': False, 'responseStatus': {'response': 'organizer', 'time': '0001-01-01T00:00:00Z'}, 'body': {'contentType': 'html', 'content': '<html><head><meta http-equiv=\"Content-Type\" content=\"text/html; charset=utf-8\">\\r\\n<meta name=\"Generator\" content=\"Microsoft Exchange Server\">\\r\\n<!-- converted from text -->\\r\\n<style><!-- .EmailQuote { margin-left: 1pt; padding-left: 4pt; border-left: #800000 2px solid; } --></style></head>\\r\\n<body>\\r\\n<font size=\"2\"><span style=\"font-size:11pt;\"><div class=\"PlainText\">&nbsp;</div></span></font>\\r\\n</body>\\r\\n</html>\\r\\n'}, 'start': {'dateTime': '2025-02-25T14:45:00.0000000', 'timeZone': 'Europe/Amsterdam'}, 'end': {'dateTime': '2025-02-25T15:15:00.0000000', 'timeZone': 'Europe/Amsterdam'}, 'location': {'displayName': '', 'locationType': 'default', 'uniqueIdType': 'unknown', 'address': {}, 'coordinates': {}}, 'locations': [], 'recurrence': None, 'attendees': [], 'organizer': {'emailAddress': {'name': 'Daniel van Oosteroom', 'address': 'outlook_1EBDCD179CAEDECE@outlook.com'}}, 'onlineMeeting': None}\n",
      "{'@odata.context': \"https://graph.microsoft.com/v1.0/$metadata#users('outlook_1EBDCD179CAEDECE%40outlook.com')/events/$entity\", '@odata.etag': 'W/\"ClAZo7UKNEq0Gv3bsgM5dQAAEcMkoQ==\"', 'id': 'AQMkADAwATMwMAExLThjNTUALTAwAGJlLTAwAi0wMAoARgAAAxp5qsgLJ-hOuMYmhH_7aJYHAApQGaO1CjRKtBr927IDOXUAAAIBDQAAAApQGaO1CjRKtBr927IDOXUAAAARxByxAAAA', 'createdDateTime': '2025-02-25T14:01:46.0555761Z', 'lastModifiedDateTime': '2025-02-25T14:01:46.1050139Z', 'changeKey': 'ClAZo7UKNEq0Gv3bsgM5dQAAEcMkoQ==', 'categories': [], 'transactionId': None, 'originalStartTimeZone': 'Europe/Amsterdam', 'originalEndTimeZone': 'Europe/Amsterdam', 'iCalUId': '040000008200E00074C5B7101A82E00800000000BE6966CE8D87DB01000000000000000010000000DB49205BBBF73D438D73AD701CEC2FC2', 'uid': '040000008200E00074C5B7101A82E00800000000BE6966CE8D87DB01000000000000000010000000DB49205BBBF73D438D73AD701CEC2FC2', 'reminderMinutesBeforeStart': 15, 'isReminderOn': True, 'hasAttachments': False, 'subject': 'Meeting', 'bodyPreview': '', 'importance': 'normal', 'sensitivity': 'normal', 'isAllDay': False, 'isCancelled': False, 'isOrganizer': True, 'responseRequested': True, 'seriesMasterId': None, 'showAs': 'busy', 'type': 'singleInstance', 'webLink': 'https://outlook.live.com/owa/?itemid=AQMkADAwATMwMAExLThjNTUALTAwAGJlLTAwAi0wMAoARgAAAxp5qsgLJ%2FhOuMYmhH%2B7aJYHAApQGaO1CjRKtBr927IDOXUAAAIBDQAAAApQGaO1CjRKtBr927IDOXUAAAARxByxAAAA&exvsurl=1&path=/calendar/item', 'onlineMeetingUrl': None, 'isOnlineMeeting': False, 'onlineMeetingProvider': 'unknown', 'allowNewTimeProposals': True, 'occurrenceId': None, 'isDraft': False, 'hideAttendees': False, 'responseStatus': {'response': 'organizer', 'time': '0001-01-01T00:00:00Z'}, 'body': {'contentType': 'html', 'content': '<html><head><meta http-equiv=\"Content-Type\" content=\"text/html; charset=utf-8\">\\r\\n<meta name=\"Generator\" content=\"Microsoft Exchange Server\">\\r\\n<!-- converted from text -->\\r\\n<style><!-- .EmailQuote { margin-left: 1pt; padding-left: 4pt; border-left: #800000 2px solid; } --></style></head>\\r\\n<body>\\r\\n<font size=\"2\"><span style=\"font-size:11pt;\"><div class=\"PlainText\">&nbsp;</div></span></font>\\r\\n</body>\\r\\n</html>\\r\\n'}, 'start': {'dateTime': '2025-02-25T15:15:00.0000000', 'timeZone': 'Europe/Amsterdam'}, 'end': {'dateTime': '2025-02-25T17:00:00.0000000', 'timeZone': 'Europe/Amsterdam'}, 'location': {'displayName': '', 'locationType': 'default', 'uniqueIdType': 'unknown', 'address': {}, 'coordinates': {}}, 'locations': [], 'recurrence': None, 'attendees': [], 'organizer': {'emailAddress': {'name': 'Daniel van Oosteroom', 'address': 'outlook_1EBDCD179CAEDECE@outlook.com'}}, 'onlineMeeting': None}\n",
      "{'error': {'code': 'ErrorPropertyValidationFailure', 'message': 'At least one property failed validation.'}}\n",
      "{'@odata.context': \"https://graph.microsoft.com/v1.0/$metadata#users('outlook_1EBDCD179CAEDECE%40outlook.com')/events/$entity\", '@odata.etag': 'W/\"ClAZo7UKNEq0Gv3bsgM5dQAAEcMkow==\"', 'id': 'AQMkADAwATMwMAExLThjNTUALTAwAGJlLTAwAi0wMAoARgAAAxp5qsgLJ-hOuMYmhH_7aJYHAApQGaO1CjRKtBr927IDOXUAAAIBDQAAAApQGaO1CjRKtBr927IDOXUAAAARxByyAAAA', 'createdDateTime': '2025-02-25T14:01:46.9472635Z', 'lastModifiedDateTime': '2025-02-25T14:01:47.0475924Z', 'changeKey': 'ClAZo7UKNEq0Gv3bsgM5dQAAEcMkow==', 'categories': [], 'transactionId': None, 'originalStartTimeZone': 'Europe/Amsterdam', 'originalEndTimeZone': 'Europe/Amsterdam', 'iCalUId': '040000008200E00074C5B7101A82E00800000000CC4FEECE8D87DB01000000000000000010000000125A7CFFD29D074D80694F3FC2C3A059', 'uid': '040000008200E00074C5B7101A82E00800000000CC4FEECE8D87DB01000000000000000010000000125A7CFFD29D074D80694F3FC2C3A059', 'reminderMinutesBeforeStart': 15, 'isReminderOn': True, 'hasAttachments': False, 'subject': 'Meeting', 'bodyPreview': '', 'importance': 'normal', 'sensitivity': 'normal', 'isAllDay': False, 'isCancelled': False, 'isOrganizer': True, 'responseRequested': True, 'seriesMasterId': None, 'showAs': 'busy', 'type': 'singleInstance', 'webLink': 'https://outlook.live.com/owa/?itemid=AQMkADAwATMwMAExLThjNTUALTAwAGJlLTAwAi0wMAoARgAAAxp5qsgLJ%2FhOuMYmhH%2B7aJYHAApQGaO1CjRKtBr927IDOXUAAAIBDQAAAApQGaO1CjRKtBr927IDOXUAAAARxByyAAAA&exvsurl=1&path=/calendar/item', 'onlineMeetingUrl': None, 'isOnlineMeeting': False, 'onlineMeetingProvider': 'unknown', 'allowNewTimeProposals': True, 'occurrenceId': None, 'isDraft': False, 'hideAttendees': False, 'responseStatus': {'response': 'organizer', 'time': '0001-01-01T00:00:00Z'}, 'body': {'contentType': 'html', 'content': '<html><head><meta http-equiv=\"Content-Type\" content=\"text/html; charset=utf-8\">\\r\\n<meta name=\"Generator\" content=\"Microsoft Exchange Server\">\\r\\n<!-- converted from text -->\\r\\n<style><!-- .EmailQuote { margin-left: 1pt; padding-left: 4pt; border-left: #800000 2px solid; } --></style></head>\\r\\n<body>\\r\\n<font size=\"2\"><span style=\"font-size:11pt;\"><div class=\"PlainText\">&nbsp;</div></span></font>\\r\\n</body>\\r\\n</html>\\r\\n'}, 'start': {'dateTime': '2025-02-26T09:30:00.0000000', 'timeZone': 'Europe/Amsterdam'}, 'end': {'dateTime': '2025-02-26T12:15:00.0000000', 'timeZone': 'Europe/Amsterdam'}, 'location': {'displayName': '', 'locationType': 'default', 'uniqueIdType': 'unknown', 'address': {}, 'coordinates': {}}, 'locations': [], 'recurrence': None, 'attendees': [], 'organizer': {'emailAddress': {'name': 'Daniel van Oosteroom', 'address': 'outlook_1EBDCD179CAEDECE@outlook.com'}}, 'onlineMeeting': None}\n",
      "{'@odata.context': \"https://graph.microsoft.com/v1.0/$metadata#users('outlook_1EBDCD179CAEDECE%40outlook.com')/events/$entity\", '@odata.etag': 'W/\"ClAZo7UKNEq0Gv3bsgM5dQAAEcMkpQ==\"', 'id': 'AQMkADAwATMwMAExLThjNTUALTAwAGJlLTAwAi0wMAoARgAAAxp5qsgLJ-hOuMYmhH_7aJYHAApQGaO1CjRKtBr927IDOXUAAAIBDQAAAApQGaO1CjRKtBr927IDOXUAAAARxByzAAAA', 'createdDateTime': '2025-02-25T14:01:47.4301485Z', 'lastModifiedDateTime': '2025-02-25T14:01:47.4763629Z', 'changeKey': 'ClAZo7UKNEq0Gv3bsgM5dQAAEcMkpQ==', 'categories': [], 'transactionId': None, 'originalStartTimeZone': 'Europe/Amsterdam', 'originalEndTimeZone': 'Europe/Amsterdam', 'iCalUId': '040000008200E00074C5B7101A82E00800000000A73838CF8D87DB0100000000000000001000000010D4EBD3EE46614C80606E0D401A4462', 'uid': '040000008200E00074C5B7101A82E00800000000A73838CF8D87DB0100000000000000001000000010D4EBD3EE46614C80606E0D401A4462', 'reminderMinutesBeforeStart': 15, 'isReminderOn': True, 'hasAttachments': False, 'subject': 'Meeting', 'bodyPreview': '', 'importance': 'normal', 'sensitivity': 'normal', 'isAllDay': False, 'isCancelled': False, 'isOrganizer': True, 'responseRequested': True, 'seriesMasterId': None, 'showAs': 'busy', 'type': 'singleInstance', 'webLink': 'https://outlook.live.com/owa/?itemid=AQMkADAwATMwMAExLThjNTUALTAwAGJlLTAwAi0wMAoARgAAAxp5qsgLJ%2FhOuMYmhH%2B7aJYHAApQGaO1CjRKtBr927IDOXUAAAIBDQAAAApQGaO1CjRKtBr927IDOXUAAAARxByzAAAA&exvsurl=1&path=/calendar/item', 'onlineMeetingUrl': None, 'isOnlineMeeting': False, 'onlineMeetingProvider': 'unknown', 'allowNewTimeProposals': True, 'occurrenceId': None, 'isDraft': False, 'hideAttendees': False, 'responseStatus': {'response': 'organizer', 'time': '0001-01-01T00:00:00Z'}, 'body': {'contentType': 'html', 'content': '<html><head><meta http-equiv=\"Content-Type\" content=\"text/html; charset=utf-8\">\\r\\n<meta name=\"Generator\" content=\"Microsoft Exchange Server\">\\r\\n<!-- converted from text -->\\r\\n<style><!-- .EmailQuote { margin-left: 1pt; padding-left: 4pt; border-left: #800000 2px solid; } --></style></head>\\r\\n<body>\\r\\n<font size=\"2\"><span style=\"font-size:11pt;\"><div class=\"PlainText\">&nbsp;</div></span></font>\\r\\n</body>\\r\\n</html>\\r\\n'}, 'start': {'dateTime': '2025-02-26T12:15:00.0000000', 'timeZone': 'Europe/Amsterdam'}, 'end': {'dateTime': '2025-02-26T15:00:00.0000000', 'timeZone': 'Europe/Amsterdam'}, 'location': {'displayName': '', 'locationType': 'default', 'uniqueIdType': 'unknown', 'address': {}, 'coordinates': {}}, 'locations': [], 'recurrence': None, 'attendees': [], 'organizer': {'emailAddress': {'name': 'Daniel van Oosteroom', 'address': 'outlook_1EBDCD179CAEDECE@outlook.com'}}, 'onlineMeeting': None}\n",
      "{'@odata.context': \"https://graph.microsoft.com/v1.0/$metadata#users('outlook_1EBDCD179CAEDECE%40outlook.com')/events/$entity\", '@odata.etag': 'W/\"ClAZo7UKNEq0Gv3bsgM5dQAAEcMkpw==\"', 'id': 'AQMkADAwATMwMAExLThjNTUALTAwAGJlLTAwAi0wMAoARgAAAxp5qsgLJ-hOuMYmhH_7aJYHAApQGaO1CjRKtBr927IDOXUAAAIBDQAAAApQGaO1CjRKtBr927IDOXUAAAARxBy0AAAA', 'createdDateTime': '2025-02-25T14:01:48.0146764Z', 'lastModifiedDateTime': '2025-02-25T14:01:48.0630879Z', 'changeKey': 'ClAZo7UKNEq0Gv3bsgM5dQAAEcMkpw==', 'categories': [], 'transactionId': None, 'originalStartTimeZone': 'Europe/Amsterdam', 'originalEndTimeZone': 'Europe/Amsterdam', 'iCalUId': '040000008200E00074C5B7101A82E00800000000B86F90CF8D87DB01000000000000000010000000FCA47740928D3A45A1018F06CD1AD4BD', 'uid': '040000008200E00074C5B7101A82E00800000000B86F90CF8D87DB01000000000000000010000000FCA47740928D3A45A1018F06CD1AD4BD', 'reminderMinutesBeforeStart': 15, 'isReminderOn': True, 'hasAttachments': False, 'subject': 'Meeting', 'bodyPreview': '', 'importance': 'normal', 'sensitivity': 'normal', 'isAllDay': False, 'isCancelled': False, 'isOrganizer': True, 'responseRequested': True, 'seriesMasterId': None, 'showAs': 'busy', 'type': 'singleInstance', 'webLink': 'https://outlook.live.com/owa/?itemid=AQMkADAwATMwMAExLThjNTUALTAwAGJlLTAwAi0wMAoARgAAAxp5qsgLJ%2FhOuMYmhH%2B7aJYHAApQGaO1CjRKtBr927IDOXUAAAIBDQAAAApQGaO1CjRKtBr927IDOXUAAAARxBy0AAAA&exvsurl=1&path=/calendar/item', 'onlineMeetingUrl': None, 'isOnlineMeeting': False, 'onlineMeetingProvider': 'unknown', 'allowNewTimeProposals': True, 'occurrenceId': None, 'isDraft': False, 'hideAttendees': False, 'responseStatus': {'response': 'organizer', 'time': '0001-01-01T00:00:00Z'}, 'body': {'contentType': 'html', 'content': '<html><head><meta http-equiv=\"Content-Type\" content=\"text/html; charset=utf-8\">\\r\\n<meta name=\"Generator\" content=\"Microsoft Exchange Server\">\\r\\n<!-- converted from text -->\\r\\n<style><!-- .EmailQuote { margin-left: 1pt; padding-left: 4pt; border-left: #800000 2px solid; } --></style></head>\\r\\n<body>\\r\\n<font size=\"2\"><span style=\"font-size:11pt;\"><div class=\"PlainText\">&nbsp;</div></span></font>\\r\\n</body>\\r\\n</html>\\r\\n'}, 'start': {'dateTime': '2025-02-26T15:00:00.0000000', 'timeZone': 'Europe/Amsterdam'}, 'end': {'dateTime': '2025-02-26T16:15:00.0000000', 'timeZone': 'Europe/Amsterdam'}, 'location': {'displayName': '', 'locationType': 'default', 'uniqueIdType': 'unknown', 'address': {}, 'coordinates': {}}, 'locations': [], 'recurrence': None, 'attendees': [], 'organizer': {'emailAddress': {'name': 'Daniel van Oosteroom', 'address': 'outlook_1EBDCD179CAEDECE@outlook.com'}}, 'onlineMeeting': None}\n",
      "{'@odata.context': \"https://graph.microsoft.com/v1.0/$metadata#users('outlook_1EBDCD179CAEDECE%40outlook.com')/events/$entity\", '@odata.etag': 'W/\"ClAZo7UKNEq0Gv3bsgM5dQAAEcMkqQ==\"', 'id': 'AQMkADAwATMwMAExLThjNTUALTAwAGJlLTAwAi0wMAoARgAAAxp5qsgLJ-hOuMYmhH_7aJYHAApQGaO1CjRKtBr927IDOXUAAAIBDQAAAApQGaO1CjRKtBr927IDOXUAAAARxBy1AAAA', 'createdDateTime': '2025-02-25T14:01:48.7374076Z', 'lastModifiedDateTime': '2025-02-25T14:01:48.7815808Z', 'changeKey': 'ClAZo7UKNEq0Gv3bsgM5dQAAEcMkqQ==', 'categories': [], 'transactionId': None, 'originalStartTimeZone': 'Europe/Amsterdam', 'originalEndTimeZone': 'Europe/Amsterdam', 'iCalUId': '040000008200E00074C5B7101A82E008000000001F7E00D08D87DB0100000000000000001000000082ECF6D1DDB3AD41B45FEFE29BBA27F4', 'uid': '040000008200E00074C5B7101A82E008000000001F7E00D08D87DB0100000000000000001000000082ECF6D1DDB3AD41B45FEFE29BBA27F4', 'reminderMinutesBeforeStart': 15, 'isReminderOn': True, 'hasAttachments': False, 'subject': 'Meeting', 'bodyPreview': '', 'importance': 'normal', 'sensitivity': 'normal', 'isAllDay': False, 'isCancelled': False, 'isOrganizer': True, 'responseRequested': True, 'seriesMasterId': None, 'showAs': 'busy', 'type': 'singleInstance', 'webLink': 'https://outlook.live.com/owa/?itemid=AQMkADAwATMwMAExLThjNTUALTAwAGJlLTAwAi0wMAoARgAAAxp5qsgLJ%2FhOuMYmhH%2B7aJYHAApQGaO1CjRKtBr927IDOXUAAAIBDQAAAApQGaO1CjRKtBr927IDOXUAAAARxBy1AAAA&exvsurl=1&path=/calendar/item', 'onlineMeetingUrl': None, 'isOnlineMeeting': False, 'onlineMeetingProvider': 'unknown', 'allowNewTimeProposals': True, 'occurrenceId': None, 'isDraft': False, 'hideAttendees': False, 'responseStatus': {'response': 'organizer', 'time': '0001-01-01T00:00:00Z'}, 'body': {'contentType': 'html', 'content': '<html><head><meta http-equiv=\"Content-Type\" content=\"text/html; charset=utf-8\">\\r\\n<meta name=\"Generator\" content=\"Microsoft Exchange Server\">\\r\\n<!-- converted from text -->\\r\\n<style><!-- .EmailQuote { margin-left: 1pt; padding-left: 4pt; border-left: #800000 2px solid; } --></style></head>\\r\\n<body>\\r\\n<font size=\"2\"><span style=\"font-size:11pt;\"><div class=\"PlainText\">&nbsp;</div></span></font>\\r\\n</body>\\r\\n</html>\\r\\n'}, 'start': {'dateTime': '2025-02-26T16:15:00.0000000', 'timeZone': 'Europe/Amsterdam'}, 'end': {'dateTime': '2025-02-26T17:00:00.0000000', 'timeZone': 'Europe/Amsterdam'}, 'location': {'displayName': '', 'locationType': 'default', 'uniqueIdType': 'unknown', 'address': {}, 'coordinates': {}}, 'locations': [], 'recurrence': None, 'attendees': [], 'organizer': {'emailAddress': {'name': 'Daniel van Oosteroom', 'address': 'outlook_1EBDCD179CAEDECE@outlook.com'}}, 'onlineMeeting': None}\n",
      "{'error': {'code': 'ErrorPropertyValidationFailure', 'message': 'At least one property failed validation.'}}\n",
      "{'@odata.context': \"https://graph.microsoft.com/v1.0/$metadata#users('outlook_1EBDCD179CAEDECE%40outlook.com')/events/$entity\", '@odata.etag': 'W/\"ClAZo7UKNEq0Gv3bsgM5dQAAEcMkqw==\"', 'id': 'AQMkADAwATMwMAExLThjNTUALTAwAGJlLTAwAi0wMAoARgAAAxp5qsgLJ-hOuMYmhH_7aJYHAApQGaO1CjRKtBr927IDOXUAAAIBDQAAAApQGaO1CjRKtBr927IDOXUAAAARxBy2AAAA', 'createdDateTime': '2025-02-25T14:01:49.5645152Z', 'lastModifiedDateTime': '2025-02-25T14:01:49.6150842Z', 'changeKey': 'ClAZo7UKNEq0Gv3bsgM5dQAAEcMkqw==', 'categories': [], 'transactionId': None, 'originalStartTimeZone': 'Europe/Amsterdam', 'originalEndTimeZone': 'Europe/Amsterdam', 'iCalUId': '040000008200E00074C5B7101A82E00800000000B9DA7ED08D87DB0100000000000000001000000090E588DBC5FB2E4DBCFF3DDAE8AF4CB6', 'uid': '040000008200E00074C5B7101A82E00800000000B9DA7ED08D87DB0100000000000000001000000090E588DBC5FB2E4DBCFF3DDAE8AF4CB6', 'reminderMinutesBeforeStart': 15, 'isReminderOn': True, 'hasAttachments': False, 'subject': 'Meeting', 'bodyPreview': '', 'importance': 'normal', 'sensitivity': 'normal', 'isAllDay': False, 'isCancelled': False, 'isOrganizer': True, 'responseRequested': True, 'seriesMasterId': None, 'showAs': 'busy', 'type': 'singleInstance', 'webLink': 'https://outlook.live.com/owa/?itemid=AQMkADAwATMwMAExLThjNTUALTAwAGJlLTAwAi0wMAoARgAAAxp5qsgLJ%2FhOuMYmhH%2B7aJYHAApQGaO1CjRKtBr927IDOXUAAAIBDQAAAApQGaO1CjRKtBr927IDOXUAAAARxBy2AAAA&exvsurl=1&path=/calendar/item', 'onlineMeetingUrl': None, 'isOnlineMeeting': False, 'onlineMeetingProvider': 'unknown', 'allowNewTimeProposals': True, 'occurrenceId': None, 'isDraft': False, 'hideAttendees': False, 'responseStatus': {'response': 'organizer', 'time': '0001-01-01T00:00:00Z'}, 'body': {'contentType': 'html', 'content': '<html><head><meta http-equiv=\"Content-Type\" content=\"text/html; charset=utf-8\">\\r\\n<meta name=\"Generator\" content=\"Microsoft Exchange Server\">\\r\\n<!-- converted from text -->\\r\\n<style><!-- .EmailQuote { margin-left: 1pt; padding-left: 4pt; border-left: #800000 2px solid; } --></style></head>\\r\\n<body>\\r\\n<font size=\"2\"><span style=\"font-size:11pt;\"><div class=\"PlainText\">&nbsp;</div></span></font>\\r\\n</body>\\r\\n</html>\\r\\n'}, 'start': {'dateTime': '2025-02-27T09:15:00.0000000', 'timeZone': 'Europe/Amsterdam'}, 'end': {'dateTime': '2025-02-27T10:30:00.0000000', 'timeZone': 'Europe/Amsterdam'}, 'location': {'displayName': '', 'locationType': 'default', 'uniqueIdType': 'unknown', 'address': {}, 'coordinates': {}}, 'locations': [], 'recurrence': None, 'attendees': [], 'organizer': {'emailAddress': {'name': 'Daniel van Oosteroom', 'address': 'outlook_1EBDCD179CAEDECE@outlook.com'}}, 'onlineMeeting': None}\n",
      "{'@odata.context': \"https://graph.microsoft.com/v1.0/$metadata#users('outlook_1EBDCD179CAEDECE%40outlook.com')/events/$entity\", '@odata.etag': 'W/\"ClAZo7UKNEq0Gv3bsgM5dQAAEcMkrQ==\"', 'id': 'AQMkADAwATMwMAExLThjNTUALTAwAGJlLTAwAi0wMAoARgAAAxp5qsgLJ-hOuMYmhH_7aJYHAApQGaO1CjRKtBr927IDOXUAAAIBDQAAAApQGaO1CjRKtBr927IDOXUAAAARxBy3AAAA', 'createdDateTime': '2025-02-25T14:01:50.0376165Z', 'lastModifiedDateTime': '2025-02-25T14:01:50.0892462Z', 'changeKey': 'ClAZo7UKNEq0Gv3bsgM5dQAAEcMkrQ==', 'categories': [], 'transactionId': None, 'originalStartTimeZone': 'Europe/Amsterdam', 'originalEndTimeZone': 'Europe/Amsterdam', 'iCalUId': '040000008200E00074C5B7101A82E008000000002761C6D08D87DB01000000000000000010000000D413AF8D864E0049A4074EFCB78D8454', 'uid': '040000008200E00074C5B7101A82E008000000002761C6D08D87DB01000000000000000010000000D413AF8D864E0049A4074EFCB78D8454', 'reminderMinutesBeforeStart': 15, 'isReminderOn': True, 'hasAttachments': False, 'subject': 'Meeting', 'bodyPreview': '', 'importance': 'normal', 'sensitivity': 'normal', 'isAllDay': False, 'isCancelled': False, 'isOrganizer': True, 'responseRequested': True, 'seriesMasterId': None, 'showAs': 'busy', 'type': 'singleInstance', 'webLink': 'https://outlook.live.com/owa/?itemid=AQMkADAwATMwMAExLThjNTUALTAwAGJlLTAwAi0wMAoARgAAAxp5qsgLJ%2FhOuMYmhH%2B7aJYHAApQGaO1CjRKtBr927IDOXUAAAIBDQAAAApQGaO1CjRKtBr927IDOXUAAAARxBy3AAAA&exvsurl=1&path=/calendar/item', 'onlineMeetingUrl': None, 'isOnlineMeeting': False, 'onlineMeetingProvider': 'unknown', 'allowNewTimeProposals': True, 'occurrenceId': None, 'isDraft': False, 'hideAttendees': False, 'responseStatus': {'response': 'organizer', 'time': '0001-01-01T00:00:00Z'}, 'body': {'contentType': 'html', 'content': '<html><head><meta http-equiv=\"Content-Type\" content=\"text/html; charset=utf-8\">\\r\\n<meta name=\"Generator\" content=\"Microsoft Exchange Server\">\\r\\n<!-- converted from text -->\\r\\n<style><!-- .EmailQuote { margin-left: 1pt; padding-left: 4pt; border-left: #800000 2px solid; } --></style></head>\\r\\n<body>\\r\\n<font size=\"2\"><span style=\"font-size:11pt;\"><div class=\"PlainText\">&nbsp;</div></span></font>\\r\\n</body>\\r\\n</html>\\r\\n'}, 'start': {'dateTime': '2025-02-27T10:30:00.0000000', 'timeZone': 'Europe/Amsterdam'}, 'end': {'dateTime': '2025-02-27T12:00:00.0000000', 'timeZone': 'Europe/Amsterdam'}, 'location': {'displayName': '', 'locationType': 'default', 'uniqueIdType': 'unknown', 'address': {}, 'coordinates': {}}, 'locations': [], 'recurrence': None, 'attendees': [], 'organizer': {'emailAddress': {'name': 'Daniel van Oosteroom', 'address': 'outlook_1EBDCD179CAEDECE@outlook.com'}}, 'onlineMeeting': None}\n",
      "{'@odata.context': \"https://graph.microsoft.com/v1.0/$metadata#users('outlook_1EBDCD179CAEDECE%40outlook.com')/events/$entity\", '@odata.etag': 'W/\"ClAZo7UKNEq0Gv3bsgM5dQAAEcMkrw==\"', 'id': 'AQMkADAwATMwMAExLThjNTUALTAwAGJlLTAwAi0wMAoARgAAAxp5qsgLJ-hOuMYmhH_7aJYHAApQGaO1CjRKtBr927IDOXUAAAIBDQAAAApQGaO1CjRKtBr927IDOXUAAAARxBy4AAAA', 'createdDateTime': '2025-02-25T14:01:50.533129Z', 'lastModifiedDateTime': '2025-02-25T14:01:50.5778475Z', 'changeKey': 'ClAZo7UKNEq0Gv3bsgM5dQAAEcMkrw==', 'categories': [], 'transactionId': None, 'originalStartTimeZone': 'Europe/Amsterdam', 'originalEndTimeZone': 'Europe/Amsterdam', 'iCalUId': '040000008200E00074C5B7101A82E00800000000034A10D18D87DB0100000000000000001000000074410FBCC4F5144D9481A31E507DB358', 'uid': '040000008200E00074C5B7101A82E00800000000034A10D18D87DB0100000000000000001000000074410FBCC4F5144D9481A31E507DB358', 'reminderMinutesBeforeStart': 15, 'isReminderOn': True, 'hasAttachments': False, 'subject': 'Meeting', 'bodyPreview': '', 'importance': 'normal', 'sensitivity': 'normal', 'isAllDay': False, 'isCancelled': False, 'isOrganizer': True, 'responseRequested': True, 'seriesMasterId': None, 'showAs': 'busy', 'type': 'singleInstance', 'webLink': 'https://outlook.live.com/owa/?itemid=AQMkADAwATMwMAExLThjNTUALTAwAGJlLTAwAi0wMAoARgAAAxp5qsgLJ%2FhOuMYmhH%2B7aJYHAApQGaO1CjRKtBr927IDOXUAAAIBDQAAAApQGaO1CjRKtBr927IDOXUAAAARxBy4AAAA&exvsurl=1&path=/calendar/item', 'onlineMeetingUrl': None, 'isOnlineMeeting': False, 'onlineMeetingProvider': 'unknown', 'allowNewTimeProposals': True, 'occurrenceId': None, 'isDraft': False, 'hideAttendees': False, 'responseStatus': {'response': 'organizer', 'time': '0001-01-01T00:00:00Z'}, 'body': {'contentType': 'html', 'content': '<html><head><meta http-equiv=\"Content-Type\" content=\"text/html; charset=utf-8\">\\r\\n<meta name=\"Generator\" content=\"Microsoft Exchange Server\">\\r\\n<!-- converted from text -->\\r\\n<style><!-- .EmailQuote { margin-left: 1pt; padding-left: 4pt; border-left: #800000 2px solid; } --></style></head>\\r\\n<body>\\r\\n<font size=\"2\"><span style=\"font-size:11pt;\"><div class=\"PlainText\">&nbsp;</div></span></font>\\r\\n</body>\\r\\n</html>\\r\\n'}, 'start': {'dateTime': '2025-02-27T12:00:00.0000000', 'timeZone': 'Europe/Amsterdam'}, 'end': {'dateTime': '2025-02-27T14:15:00.0000000', 'timeZone': 'Europe/Amsterdam'}, 'location': {'displayName': '', 'locationType': 'default', 'uniqueIdType': 'unknown', 'address': {}, 'coordinates': {}}, 'locations': [], 'recurrence': None, 'attendees': [], 'organizer': {'emailAddress': {'name': 'Daniel van Oosteroom', 'address': 'outlook_1EBDCD179CAEDECE@outlook.com'}}, 'onlineMeeting': None}\n",
      "{'@odata.context': \"https://graph.microsoft.com/v1.0/$metadata#users('outlook_1EBDCD179CAEDECE%40outlook.com')/events/$entity\", '@odata.etag': 'W/\"ClAZo7UKNEq0Gv3bsgM5dQAAEcMksQ==\"', 'id': 'AQMkADAwATMwMAExLThjNTUALTAwAGJlLTAwAi0wMAoARgAAAxp5qsgLJ-hOuMYmhH_7aJYHAApQGaO1CjRKtBr927IDOXUAAAIBDQAAAApQGaO1CjRKtBr927IDOXUAAAARxBy5AAAA', 'createdDateTime': '2025-02-25T14:01:50.89513Z', 'lastModifiedDateTime': '2025-02-25T14:01:50.9621661Z', 'changeKey': 'ClAZo7UKNEq0Gv3bsgM5dQAAEcMksQ==', 'categories': [], 'transactionId': None, 'originalStartTimeZone': 'Europe/Amsterdam', 'originalEndTimeZone': 'Europe/Amsterdam', 'iCalUId': '040000008200E00074C5B7101A82E00800000000A28249D18D87DB01000000000000000010000000FE35E962086F5B4FAC5AC0A775D0E93F', 'uid': '040000008200E00074C5B7101A82E00800000000A28249D18D87DB01000000000000000010000000FE35E962086F5B4FAC5AC0A775D0E93F', 'reminderMinutesBeforeStart': 15, 'isReminderOn': True, 'hasAttachments': False, 'subject': 'Meeting', 'bodyPreview': '', 'importance': 'normal', 'sensitivity': 'normal', 'isAllDay': False, 'isCancelled': False, 'isOrganizer': True, 'responseRequested': True, 'seriesMasterId': None, 'showAs': 'busy', 'type': 'singleInstance', 'webLink': 'https://outlook.live.com/owa/?itemid=AQMkADAwATMwMAExLThjNTUALTAwAGJlLTAwAi0wMAoARgAAAxp5qsgLJ%2FhOuMYmhH%2B7aJYHAApQGaO1CjRKtBr927IDOXUAAAIBDQAAAApQGaO1CjRKtBr927IDOXUAAAARxBy5AAAA&exvsurl=1&path=/calendar/item', 'onlineMeetingUrl': None, 'isOnlineMeeting': False, 'onlineMeetingProvider': 'unknown', 'allowNewTimeProposals': True, 'occurrenceId': None, 'isDraft': False, 'hideAttendees': False, 'responseStatus': {'response': 'organizer', 'time': '0001-01-01T00:00:00Z'}, 'body': {'contentType': 'html', 'content': '<html><head><meta http-equiv=\"Content-Type\" content=\"text/html; charset=utf-8\">\\r\\n<meta name=\"Generator\" content=\"Microsoft Exchange Server\">\\r\\n<!-- converted from text -->\\r\\n<style><!-- .EmailQuote { margin-left: 1pt; padding-left: 4pt; border-left: #800000 2px solid; } --></style></head>\\r\\n<body>\\r\\n<font size=\"2\"><span style=\"font-size:11pt;\"><div class=\"PlainText\">&nbsp;</div></span></font>\\r\\n</body>\\r\\n</html>\\r\\n'}, 'start': {'dateTime': '2025-02-27T14:15:00.0000000', 'timeZone': 'Europe/Amsterdam'}, 'end': {'dateTime': '2025-02-27T14:45:00.0000000', 'timeZone': 'Europe/Amsterdam'}, 'location': {'displayName': '', 'locationType': 'default', 'uniqueIdType': 'unknown', 'address': {}, 'coordinates': {}}, 'locations': [], 'recurrence': None, 'attendees': [], 'organizer': {'emailAddress': {'name': 'Daniel van Oosteroom', 'address': 'outlook_1EBDCD179CAEDECE@outlook.com'}}, 'onlineMeeting': None}\n",
      "{'@odata.context': \"https://graph.microsoft.com/v1.0/$metadata#users('outlook_1EBDCD179CAEDECE%40outlook.com')/events/$entity\", '@odata.etag': 'W/\"ClAZo7UKNEq0Gv3bsgM5dQAAEcMksw==\"', 'id': 'AQMkADAwATMwMAExLThjNTUALTAwAGJlLTAwAi0wMAoARgAAAxp5qsgLJ-hOuMYmhH_7aJYHAApQGaO1CjRKtBr927IDOXUAAAIBDQAAAApQGaO1CjRKtBr927IDOXUAAAARxBy6AAAA', 'createdDateTime': '2025-02-25T14:01:51.3113886Z', 'lastModifiedDateTime': '2025-02-25T14:01:51.3604088Z', 'changeKey': 'ClAZo7UKNEq0Gv3bsgM5dQAAEcMksw==', 'categories': [], 'transactionId': None, 'originalStartTimeZone': 'Europe/Amsterdam', 'originalEndTimeZone': 'Europe/Amsterdam', 'iCalUId': '040000008200E00074C5B7101A82E008000000007C7F87D18D87DB01000000000000000010000000BC6945F07895A44CB1577EB8E4BF80A9', 'uid': '040000008200E00074C5B7101A82E008000000007C7F87D18D87DB01000000000000000010000000BC6945F07895A44CB1577EB8E4BF80A9', 'reminderMinutesBeforeStart': 15, 'isReminderOn': True, 'hasAttachments': False, 'subject': 'Meeting', 'bodyPreview': '', 'importance': 'normal', 'sensitivity': 'normal', 'isAllDay': False, 'isCancelled': False, 'isOrganizer': True, 'responseRequested': True, 'seriesMasterId': None, 'showAs': 'busy', 'type': 'singleInstance', 'webLink': 'https://outlook.live.com/owa/?itemid=AQMkADAwATMwMAExLThjNTUALTAwAGJlLTAwAi0wMAoARgAAAxp5qsgLJ%2FhOuMYmhH%2B7aJYHAApQGaO1CjRKtBr927IDOXUAAAIBDQAAAApQGaO1CjRKtBr927IDOXUAAAARxBy6AAAA&exvsurl=1&path=/calendar/item', 'onlineMeetingUrl': None, 'isOnlineMeeting': False, 'onlineMeetingProvider': 'unknown', 'allowNewTimeProposals': True, 'occurrenceId': None, 'isDraft': False, 'hideAttendees': False, 'responseStatus': {'response': 'organizer', 'time': '0001-01-01T00:00:00Z'}, 'body': {'contentType': 'html', 'content': '<html><head><meta http-equiv=\"Content-Type\" content=\"text/html; charset=utf-8\">\\r\\n<meta name=\"Generator\" content=\"Microsoft Exchange Server\">\\r\\n<!-- converted from text -->\\r\\n<style><!-- .EmailQuote { margin-left: 1pt; padding-left: 4pt; border-left: #800000 2px solid; } --></style></head>\\r\\n<body>\\r\\n<font size=\"2\"><span style=\"font-size:11pt;\"><div class=\"PlainText\">&nbsp;</div></span></font>\\r\\n</body>\\r\\n</html>\\r\\n'}, 'start': {'dateTime': '2025-02-27T14:45:00.0000000', 'timeZone': 'Europe/Amsterdam'}, 'end': {'dateTime': '2025-02-27T17:00:00.0000000', 'timeZone': 'Europe/Amsterdam'}, 'location': {'displayName': '', 'locationType': 'default', 'uniqueIdType': 'unknown', 'address': {}, 'coordinates': {}}, 'locations': [], 'recurrence': None, 'attendees': [], 'organizer': {'emailAddress': {'name': 'Daniel van Oosteroom', 'address': 'outlook_1EBDCD179CAEDECE@outlook.com'}}, 'onlineMeeting': None}\n",
      "{'error': {'code': 'ErrorPropertyValidationFailure', 'message': 'At least one property failed validation.'}}\n",
      "{'@odata.context': \"https://graph.microsoft.com/v1.0/$metadata#users('outlook_1EBDCD179CAEDECE%40outlook.com')/events/$entity\", '@odata.etag': 'W/\"ClAZo7UKNEq0Gv3bsgM5dQAAEcMktQ==\"', 'id': 'AQMkADAwATMwMAExLThjNTUALTAwAGJlLTAwAi0wMAoARgAAAxp5qsgLJ-hOuMYmhH_7aJYHAApQGaO1CjRKtBr927IDOXUAAAIBDQAAAApQGaO1CjRKtBr927IDOXUAAAARxBy7AAAA', 'createdDateTime': '2025-02-25T14:01:52.0491676Z', 'lastModifiedDateTime': '2025-02-25T14:01:52.1059958Z', 'changeKey': 'ClAZo7UKNEq0Gv3bsgM5dQAAEcMktQ==', 'categories': [], 'transactionId': None, 'originalStartTimeZone': 'Europe/Amsterdam', 'originalEndTimeZone': 'Europe/Amsterdam', 'iCalUId': '040000008200E00074C5B7101A82E0080000000083F0F9D18D87DB010000000000000000100000001275D484F3459E4A80AD3082B46E47DA', 'uid': '040000008200E00074C5B7101A82E0080000000083F0F9D18D87DB010000000000000000100000001275D484F3459E4A80AD3082B46E47DA', 'reminderMinutesBeforeStart': 15, 'isReminderOn': True, 'hasAttachments': False, 'subject': 'Meeting', 'bodyPreview': '', 'importance': 'normal', 'sensitivity': 'normal', 'isAllDay': False, 'isCancelled': False, 'isOrganizer': True, 'responseRequested': True, 'seriesMasterId': None, 'showAs': 'busy', 'type': 'singleInstance', 'webLink': 'https://outlook.live.com/owa/?itemid=AQMkADAwATMwMAExLThjNTUALTAwAGJlLTAwAi0wMAoARgAAAxp5qsgLJ%2FhOuMYmhH%2B7aJYHAApQGaO1CjRKtBr927IDOXUAAAIBDQAAAApQGaO1CjRKtBr927IDOXUAAAARxBy7AAAA&exvsurl=1&path=/calendar/item', 'onlineMeetingUrl': None, 'isOnlineMeeting': False, 'onlineMeetingProvider': 'unknown', 'allowNewTimeProposals': True, 'occurrenceId': None, 'isDraft': False, 'hideAttendees': False, 'responseStatus': {'response': 'organizer', 'time': '0001-01-01T00:00:00Z'}, 'body': {'contentType': 'html', 'content': '<html><head><meta http-equiv=\"Content-Type\" content=\"text/html; charset=utf-8\">\\r\\n<meta name=\"Generator\" content=\"Microsoft Exchange Server\">\\r\\n<!-- converted from text -->\\r\\n<style><!-- .EmailQuote { margin-left: 1pt; padding-left: 4pt; border-left: #800000 2px solid; } --></style></head>\\r\\n<body>\\r\\n<font size=\"2\"><span style=\"font-size:11pt;\"><div class=\"PlainText\">&nbsp;</div></span></font>\\r\\n</body>\\r\\n</html>\\r\\n'}, 'start': {'dateTime': '2025-02-28T09:45:00.0000000', 'timeZone': 'Europe/Amsterdam'}, 'end': {'dateTime': '2025-02-28T12:15:00.0000000', 'timeZone': 'Europe/Amsterdam'}, 'location': {'displayName': '', 'locationType': 'default', 'uniqueIdType': 'unknown', 'address': {}, 'coordinates': {}}, 'locations': [], 'recurrence': None, 'attendees': [], 'organizer': {'emailAddress': {'name': 'Daniel van Oosteroom', 'address': 'outlook_1EBDCD179CAEDECE@outlook.com'}}, 'onlineMeeting': None}\n",
      "{'@odata.context': \"https://graph.microsoft.com/v1.0/$metadata#users('outlook_1EBDCD179CAEDECE%40outlook.com')/events/$entity\", '@odata.etag': 'W/\"ClAZo7UKNEq0Gv3bsgM5dQAAEcMktw==\"', 'id': 'AQMkADAwATMwMAExLThjNTUALTAwAGJlLTAwAi0wMAoARgAAAxp5qsgLJ-hOuMYmhH_7aJYHAApQGaO1CjRKtBr927IDOXUAAAIBDQAAAApQGaO1CjRKtBr927IDOXUAAAARxBy8AAAA', 'createdDateTime': '2025-02-25T14:01:52.4740995Z', 'lastModifiedDateTime': '2025-02-25T14:01:52.5281205Z', 'changeKey': 'ClAZo7UKNEq0Gv3bsgM5dQAAEcMktw==', 'categories': [], 'transactionId': None, 'originalStartTimeZone': 'Europe/Amsterdam', 'originalEndTimeZone': 'Europe/Amsterdam', 'iCalUId': '040000008200E00074C5B7101A82E00800000000FA4F3AD28D87DB01000000000000000010000000EF99B8F720513646B4CA95956759E44E', 'uid': '040000008200E00074C5B7101A82E00800000000FA4F3AD28D87DB01000000000000000010000000EF99B8F720513646B4CA95956759E44E', 'reminderMinutesBeforeStart': 15, 'isReminderOn': True, 'hasAttachments': False, 'subject': 'Meeting', 'bodyPreview': '', 'importance': 'normal', 'sensitivity': 'normal', 'isAllDay': False, 'isCancelled': False, 'isOrganizer': True, 'responseRequested': True, 'seriesMasterId': None, 'showAs': 'busy', 'type': 'singleInstance', 'webLink': 'https://outlook.live.com/owa/?itemid=AQMkADAwATMwMAExLThjNTUALTAwAGJlLTAwAi0wMAoARgAAAxp5qsgLJ%2FhOuMYmhH%2B7aJYHAApQGaO1CjRKtBr927IDOXUAAAIBDQAAAApQGaO1CjRKtBr927IDOXUAAAARxBy8AAAA&exvsurl=1&path=/calendar/item', 'onlineMeetingUrl': None, 'isOnlineMeeting': False, 'onlineMeetingProvider': 'unknown', 'allowNewTimeProposals': True, 'occurrenceId': None, 'isDraft': False, 'hideAttendees': False, 'responseStatus': {'response': 'organizer', 'time': '0001-01-01T00:00:00Z'}, 'body': {'contentType': 'html', 'content': '<html><head><meta http-equiv=\"Content-Type\" content=\"text/html; charset=utf-8\">\\r\\n<meta name=\"Generator\" content=\"Microsoft Exchange Server\">\\r\\n<!-- converted from text -->\\r\\n<style><!-- .EmailQuote { margin-left: 1pt; padding-left: 4pt; border-left: #800000 2px solid; } --></style></head>\\r\\n<body>\\r\\n<font size=\"2\"><span style=\"font-size:11pt;\"><div class=\"PlainText\">&nbsp;</div></span></font>\\r\\n</body>\\r\\n</html>\\r\\n'}, 'start': {'dateTime': '2025-02-28T12:15:00.0000000', 'timeZone': 'Europe/Amsterdam'}, 'end': {'dateTime': '2025-02-28T15:00:00.0000000', 'timeZone': 'Europe/Amsterdam'}, 'location': {'displayName': '', 'locationType': 'default', 'uniqueIdType': 'unknown', 'address': {}, 'coordinates': {}}, 'locations': [], 'recurrence': None, 'attendees': [], 'organizer': {'emailAddress': {'name': 'Daniel van Oosteroom', 'address': 'outlook_1EBDCD179CAEDECE@outlook.com'}}, 'onlineMeeting': None}\n",
      "{'@odata.context': \"https://graph.microsoft.com/v1.0/$metadata#users('outlook_1EBDCD179CAEDECE%40outlook.com')/events/$entity\", '@odata.etag': 'W/\"ClAZo7UKNEq0Gv3bsgM5dQAAEcMkuQ==\"', 'id': 'AQMkADAwATMwMAExLThjNTUALTAwAGJlLTAwAi0wMAoARgAAAxp5qsgLJ-hOuMYmhH_7aJYHAApQGaO1CjRKtBr927IDOXUAAAIBDQAAAApQGaO1CjRKtBr927IDOXUAAAARxBy9AAAA', 'createdDateTime': '2025-02-25T14:01:52.9266368Z', 'lastModifiedDateTime': '2025-02-25T14:01:53.0099904Z', 'changeKey': 'ClAZo7UKNEq0Gv3bsgM5dQAAEcMkuQ==', 'categories': [], 'transactionId': None, 'originalStartTimeZone': 'Europe/Amsterdam', 'originalEndTimeZone': 'Europe/Amsterdam', 'iCalUId': '040000008200E00074C5B7101A82E008000000000D747FD28D87DB01000000000000000010000000FB09E48B22FC1B429AC50709C2C81B51', 'uid': '040000008200E00074C5B7101A82E008000000000D747FD28D87DB01000000000000000010000000FB09E48B22FC1B429AC50709C2C81B51', 'reminderMinutesBeforeStart': 15, 'isReminderOn': True, 'hasAttachments': False, 'subject': 'Meeting', 'bodyPreview': '', 'importance': 'normal', 'sensitivity': 'normal', 'isAllDay': False, 'isCancelled': False, 'isOrganizer': True, 'responseRequested': True, 'seriesMasterId': None, 'showAs': 'busy', 'type': 'singleInstance', 'webLink': 'https://outlook.live.com/owa/?itemid=AQMkADAwATMwMAExLThjNTUALTAwAGJlLTAwAi0wMAoARgAAAxp5qsgLJ%2FhOuMYmhH%2B7aJYHAApQGaO1CjRKtBr927IDOXUAAAIBDQAAAApQGaO1CjRKtBr927IDOXUAAAARxBy9AAAA&exvsurl=1&path=/calendar/item', 'onlineMeetingUrl': None, 'isOnlineMeeting': False, 'onlineMeetingProvider': 'unknown', 'allowNewTimeProposals': True, 'occurrenceId': None, 'isDraft': False, 'hideAttendees': False, 'responseStatus': {'response': 'organizer', 'time': '0001-01-01T00:00:00Z'}, 'body': {'contentType': 'html', 'content': '<html><head><meta http-equiv=\"Content-Type\" content=\"text/html; charset=utf-8\">\\r\\n<meta name=\"Generator\" content=\"Microsoft Exchange Server\">\\r\\n<!-- converted from text -->\\r\\n<style><!-- .EmailQuote { margin-left: 1pt; padding-left: 4pt; border-left: #800000 2px solid; } --></style></head>\\r\\n<body>\\r\\n<font size=\"2\"><span style=\"font-size:11pt;\"><div class=\"PlainText\">&nbsp;</div></span></font>\\r\\n</body>\\r\\n</html>\\r\\n'}, 'start': {'dateTime': '2025-02-28T15:00:00.0000000', 'timeZone': 'Europe/Amsterdam'}, 'end': {'dateTime': '2025-02-28T17:00:00.0000000', 'timeZone': 'Europe/Amsterdam'}, 'location': {'displayName': '', 'locationType': 'default', 'uniqueIdType': 'unknown', 'address': {}, 'coordinates': {}}, 'locations': [], 'recurrence': None, 'attendees': [], 'organizer': {'emailAddress': {'name': 'Daniel van Oosteroom', 'address': 'outlook_1EBDCD179CAEDECE@outlook.com'}}, 'onlineMeeting': None}\n",
      "{'error': {'code': 'ErrorPropertyValidationFailure', 'message': 'At least one property failed validation.'}}\n",
      "{'@odata.context': \"https://graph.microsoft.com/v1.0/$metadata#users('outlook_1EBDCD179CAEDECE%40outlook.com')/events/$entity\", '@odata.etag': 'W/\"ClAZo7UKNEq0Gv3bsgM5dQAAEcMkuw==\"', 'id': 'AQMkADAwATMwMAExLThjNTUALTAwAGJlLTAwAi0wMAoARgAAAxp5qsgLJ-hOuMYmhH_7aJYHAApQGaO1CjRKtBr927IDOXUAAAIBDQAAAApQGaO1CjRKtBr927IDOXUAAAARxBy_AAAA', 'createdDateTime': '2025-02-25T14:01:53.7511306Z', 'lastModifiedDateTime': '2025-02-25T14:01:53.7981937Z', 'changeKey': 'ClAZo7UKNEq0Gv3bsgM5dQAAEcMkuw==', 'categories': [], 'transactionId': None, 'originalStartTimeZone': 'Europe/Amsterdam', 'originalEndTimeZone': 'Europe/Amsterdam', 'iCalUId': '040000008200E00074C5B7101A82E008000000007B6EFBD28D87DB0100000000000000001000000046747977E0C6E54987F88EBD98C9585F', 'uid': '040000008200E00074C5B7101A82E008000000007B6EFBD28D87DB0100000000000000001000000046747977E0C6E54987F88EBD98C9585F', 'reminderMinutesBeforeStart': 15, 'isReminderOn': True, 'hasAttachments': False, 'subject': 'Meeting', 'bodyPreview': '', 'importance': 'normal', 'sensitivity': 'normal', 'isAllDay': False, 'isCancelled': False, 'isOrganizer': True, 'responseRequested': True, 'seriesMasterId': None, 'showAs': 'busy', 'type': 'singleInstance', 'webLink': 'https://outlook.live.com/owa/?itemid=AQMkADAwATMwMAExLThjNTUALTAwAGJlLTAwAi0wMAoARgAAAxp5qsgLJ%2FhOuMYmhH%2B7aJYHAApQGaO1CjRKtBr927IDOXUAAAIBDQAAAApQGaO1CjRKtBr927IDOXUAAAARxBy%2BAAAA&exvsurl=1&path=/calendar/item', 'onlineMeetingUrl': None, 'isOnlineMeeting': False, 'onlineMeetingProvider': 'unknown', 'allowNewTimeProposals': True, 'occurrenceId': None, 'isDraft': False, 'hideAttendees': False, 'responseStatus': {'response': 'organizer', 'time': '0001-01-01T00:00:00Z'}, 'body': {'contentType': 'html', 'content': '<html><head><meta http-equiv=\"Content-Type\" content=\"text/html; charset=utf-8\">\\r\\n<meta name=\"Generator\" content=\"Microsoft Exchange Server\">\\r\\n<!-- converted from text -->\\r\\n<style><!-- .EmailQuote { margin-left: 1pt; padding-left: 4pt; border-left: #800000 2px solid; } --></style></head>\\r\\n<body>\\r\\n<font size=\"2\"><span style=\"font-size:11pt;\"><div class=\"PlainText\">&nbsp;</div></span></font>\\r\\n</body>\\r\\n</html>\\r\\n'}, 'start': {'dateTime': '2025-03-03T09:45:00.0000000', 'timeZone': 'Europe/Amsterdam'}, 'end': {'dateTime': '2025-03-03T11:30:00.0000000', 'timeZone': 'Europe/Amsterdam'}, 'location': {'displayName': '', 'locationType': 'default', 'uniqueIdType': 'unknown', 'address': {}, 'coordinates': {}}, 'locations': [], 'recurrence': None, 'attendees': [], 'organizer': {'emailAddress': {'name': 'Daniel van Oosteroom', 'address': 'outlook_1EBDCD179CAEDECE@outlook.com'}}, 'onlineMeeting': None}\n",
      "{'@odata.context': \"https://graph.microsoft.com/v1.0/$metadata#users('outlook_1EBDCD179CAEDECE%40outlook.com')/events/$entity\", '@odata.etag': 'W/\"ClAZo7UKNEq0Gv3bsgM5dQAAEcMkvQ==\"', 'id': 'AQMkADAwATMwMAExLThjNTUALTAwAGJlLTAwAi0wMAoARgAAAxp5qsgLJ-hOuMYmhH_7aJYHAApQGaO1CjRKtBr927IDOXUAAAIBDQAAAApQGaO1CjRKtBr927IDOXUAAAARxBy-AAAA', 'createdDateTime': '2025-02-25T14:01:54.1730238Z', 'lastModifiedDateTime': '2025-02-25T14:01:54.2087676Z', 'changeKey': 'ClAZo7UKNEq0Gv3bsgM5dQAAEcMkvQ==', 'categories': [], 'transactionId': None, 'originalStartTimeZone': 'Europe/Amsterdam', 'originalEndTimeZone': 'Europe/Amsterdam', 'iCalUId': '040000008200E00074C5B7101A82E00800000000A6CD3BD38D87DB01000000000000000010000000AA890EA06C1868448BEEDEB89A5C1C40', 'uid': '040000008200E00074C5B7101A82E00800000000A6CD3BD38D87DB01000000000000000010000000AA890EA06C1868448BEEDEB89A5C1C40', 'reminderMinutesBeforeStart': 15, 'isReminderOn': True, 'hasAttachments': False, 'subject': 'Meeting', 'bodyPreview': '', 'importance': 'normal', 'sensitivity': 'normal', 'isAllDay': False, 'isCancelled': False, 'isOrganizer': True, 'responseRequested': True, 'seriesMasterId': None, 'showAs': 'busy', 'type': 'singleInstance', 'webLink': 'https://outlook.live.com/owa/?itemid=AQMkADAwATMwMAExLThjNTUALTAwAGJlLTAwAi0wMAoARgAAAxp5qsgLJ%2FhOuMYmhH%2B7aJYHAApQGaO1CjRKtBr927IDOXUAAAIBDQAAAApQGaO1CjRKtBr927IDOXUAAAARxBy%2FAAAA&exvsurl=1&path=/calendar/item', 'onlineMeetingUrl': None, 'isOnlineMeeting': False, 'onlineMeetingProvider': 'unknown', 'allowNewTimeProposals': True, 'occurrenceId': None, 'isDraft': False, 'hideAttendees': False, 'responseStatus': {'response': 'organizer', 'time': '0001-01-01T00:00:00Z'}, 'body': {'contentType': 'html', 'content': '<html><head><meta http-equiv=\"Content-Type\" content=\"text/html; charset=utf-8\">\\r\\n<meta name=\"Generator\" content=\"Microsoft Exchange Server\">\\r\\n<!-- converted from text -->\\r\\n<style><!-- .EmailQuote { margin-left: 1pt; padding-left: 4pt; border-left: #800000 2px solid; } --></style></head>\\r\\n<body>\\r\\n<font size=\"2\"><span style=\"font-size:11pt;\"><div class=\"PlainText\">&nbsp;</div></span></font>\\r\\n</body>\\r\\n</html>\\r\\n'}, 'start': {'dateTime': '2025-03-03T11:30:00.0000000', 'timeZone': 'Europe/Amsterdam'}, 'end': {'dateTime': '2025-03-03T13:15:00.0000000', 'timeZone': 'Europe/Amsterdam'}, 'location': {'displayName': '', 'locationType': 'default', 'uniqueIdType': 'unknown', 'address': {}, 'coordinates': {}}, 'locations': [], 'recurrence': None, 'attendees': [], 'organizer': {'emailAddress': {'name': 'Daniel van Oosteroom', 'address': 'outlook_1EBDCD179CAEDECE@outlook.com'}}, 'onlineMeeting': None}\n",
      "{'@odata.context': \"https://graph.microsoft.com/v1.0/$metadata#users('outlook_1EBDCD179CAEDECE%40outlook.com')/events/$entity\", '@odata.etag': 'W/\"ClAZo7UKNEq0Gv3bsgM5dQAAEcMkvw==\"', 'id': 'AQMkADAwATMwMAExLThjNTUALTAwAGJlLTAwAi0wMAoARgAAAxp5qsgLJ-hOuMYmhH_7aJYHAApQGaO1CjRKtBr927IDOXUAAAIBDQAAAApQGaO1CjRKtBr927IDOXUAAAARxBzAAAAA', 'createdDateTime': '2025-02-25T14:01:54.5984022Z', 'lastModifiedDateTime': '2025-02-25T14:01:54.665731Z', 'changeKey': 'ClAZo7UKNEq0Gv3bsgM5dQAAEcMkvw==', 'categories': [], 'transactionId': None, 'originalStartTimeZone': 'Europe/Amsterdam', 'originalEndTimeZone': 'Europe/Amsterdam', 'iCalUId': '040000008200E00074C5B7101A82E00800000000DC8F7ED38D87DB010000000000000000100000006593521142E36446B724FD4903562E75', 'uid': '040000008200E00074C5B7101A82E00800000000DC8F7ED38D87DB010000000000000000100000006593521142E36446B724FD4903562E75', 'reminderMinutesBeforeStart': 15, 'isReminderOn': True, 'hasAttachments': False, 'subject': 'Meeting', 'bodyPreview': '', 'importance': 'normal', 'sensitivity': 'normal', 'isAllDay': False, 'isCancelled': False, 'isOrganizer': True, 'responseRequested': True, 'seriesMasterId': None, 'showAs': 'busy', 'type': 'singleInstance', 'webLink': 'https://outlook.live.com/owa/?itemid=AQMkADAwATMwMAExLThjNTUALTAwAGJlLTAwAi0wMAoARgAAAxp5qsgLJ%2FhOuMYmhH%2B7aJYHAApQGaO1CjRKtBr927IDOXUAAAIBDQAAAApQGaO1CjRKtBr927IDOXUAAAARxBzAAAAA&exvsurl=1&path=/calendar/item', 'onlineMeetingUrl': None, 'isOnlineMeeting': False, 'onlineMeetingProvider': 'unknown', 'allowNewTimeProposals': True, 'occurrenceId': None, 'isDraft': False, 'hideAttendees': False, 'responseStatus': {'response': 'organizer', 'time': '0001-01-01T00:00:00Z'}, 'body': {'contentType': 'html', 'content': '<html><head><meta http-equiv=\"Content-Type\" content=\"text/html; charset=utf-8\">\\r\\n<meta name=\"Generator\" content=\"Microsoft Exchange Server\">\\r\\n<!-- converted from text -->\\r\\n<style><!-- .EmailQuote { margin-left: 1pt; padding-left: 4pt; border-left: #800000 2px solid; } --></style></head>\\r\\n<body>\\r\\n<font size=\"2\"><span style=\"font-size:11pt;\"><div class=\"PlainText\">&nbsp;</div></span></font>\\r\\n</body>\\r\\n</html>\\r\\n'}, 'start': {'dateTime': '2025-03-03T13:15:00.0000000', 'timeZone': 'Europe/Amsterdam'}, 'end': {'dateTime': '2025-03-03T15:15:00.0000000', 'timeZone': 'Europe/Amsterdam'}, 'location': {'displayName': '', 'locationType': 'default', 'uniqueIdType': 'unknown', 'address': {}, 'coordinates': {}}, 'locations': [], 'recurrence': None, 'attendees': [], 'organizer': {'emailAddress': {'name': 'Daniel van Oosteroom', 'address': 'outlook_1EBDCD179CAEDECE@outlook.com'}}, 'onlineMeeting': None}\n",
      "{'@odata.context': \"https://graph.microsoft.com/v1.0/$metadata#users('outlook_1EBDCD179CAEDECE%40outlook.com')/events/$entity\", '@odata.etag': 'W/\"ClAZo7UKNEq0Gv3bsgM5dQAAEcMkwQ==\"', 'id': 'AQMkADAwATMwMAExLThjNTUALTAwAGJlLTAwAi0wMAoARgAAAxp5qsgLJ-hOuMYmhH_7aJYHAApQGaO1CjRKtBr927IDOXUAAAIBDQAAAApQGaO1CjRKtBr927IDOXUAAAARxBzBAAAA', 'createdDateTime': '2025-02-25T14:01:55.0954877Z', 'lastModifiedDateTime': '2025-02-25T14:01:55.1380127Z', 'changeKey': 'ClAZo7UKNEq0Gv3bsgM5dQAAEcMkwQ==', 'categories': [], 'transactionId': None, 'originalStartTimeZone': 'Europe/Amsterdam', 'originalEndTimeZone': 'Europe/Amsterdam', 'iCalUId': '040000008200E00074C5B7101A82E00800000000A578C8D38D87DB01000000000000000010000000D847702507ABAB47B5F6E5CC2977A7E5', 'uid': '040000008200E00074C5B7101A82E00800000000A578C8D38D87DB01000000000000000010000000D847702507ABAB47B5F6E5CC2977A7E5', 'reminderMinutesBeforeStart': 15, 'isReminderOn': True, 'hasAttachments': False, 'subject': 'Meeting', 'bodyPreview': '', 'importance': 'normal', 'sensitivity': 'normal', 'isAllDay': False, 'isCancelled': False, 'isOrganizer': True, 'responseRequested': True, 'seriesMasterId': None, 'showAs': 'busy', 'type': 'singleInstance', 'webLink': 'https://outlook.live.com/owa/?itemid=AQMkADAwATMwMAExLThjNTUALTAwAGJlLTAwAi0wMAoARgAAAxp5qsgLJ%2FhOuMYmhH%2B7aJYHAApQGaO1CjRKtBr927IDOXUAAAIBDQAAAApQGaO1CjRKtBr927IDOXUAAAARxBzBAAAA&exvsurl=1&path=/calendar/item', 'onlineMeetingUrl': None, 'isOnlineMeeting': False, 'onlineMeetingProvider': 'unknown', 'allowNewTimeProposals': True, 'occurrenceId': None, 'isDraft': False, 'hideAttendees': False, 'responseStatus': {'response': 'organizer', 'time': '0001-01-01T00:00:00Z'}, 'body': {'contentType': 'html', 'content': '<html><head><meta http-equiv=\"Content-Type\" content=\"text/html; charset=utf-8\">\\r\\n<meta name=\"Generator\" content=\"Microsoft Exchange Server\">\\r\\n<!-- converted from text -->\\r\\n<style><!-- .EmailQuote { margin-left: 1pt; padding-left: 4pt; border-left: #800000 2px solid; } --></style></head>\\r\\n<body>\\r\\n<font size=\"2\"><span style=\"font-size:11pt;\"><div class=\"PlainText\">&nbsp;</div></span></font>\\r\\n</body>\\r\\n</html>\\r\\n'}, 'start': {'dateTime': '2025-03-03T15:15:00.0000000', 'timeZone': 'Europe/Amsterdam'}, 'end': {'dateTime': '2025-03-03T16:15:00.0000000', 'timeZone': 'Europe/Amsterdam'}, 'location': {'displayName': '', 'locationType': 'default', 'uniqueIdType': 'unknown', 'address': {}, 'coordinates': {}}, 'locations': [], 'recurrence': None, 'attendees': [], 'organizer': {'emailAddress': {'name': 'Daniel van Oosteroom', 'address': 'outlook_1EBDCD179CAEDECE@outlook.com'}}, 'onlineMeeting': None}\n",
      "{'@odata.context': \"https://graph.microsoft.com/v1.0/$metadata#users('outlook_1EBDCD179CAEDECE%40outlook.com')/events/$entity\", '@odata.etag': 'W/\"ClAZo7UKNEq0Gv3bsgM5dQAAEcMkww==\"', 'id': 'AQMkADAwATMwMAExLThjNTUALTAwAGJlLTAwAi0wMAoARgAAAxp5qsgLJ-hOuMYmhH_7aJYHAApQGaO1CjRKtBr927IDOXUAAAIBDQAAAApQGaO1CjRKtBr927IDOXUAAAARxBzCAAAA', 'createdDateTime': '2025-02-25T14:01:55.4685235Z', 'lastModifiedDateTime': '2025-02-25T14:01:55.5059206Z', 'changeKey': 'ClAZo7UKNEq0Gv3bsgM5dQAAEcMkww==', 'categories': [], 'transactionId': None, 'originalStartTimeZone': 'Europe/Amsterdam', 'originalEndTimeZone': 'Europe/Amsterdam', 'iCalUId': '040000008200E00074C5B7101A82E00800000000C3B001D48D87DB01000000000000000010000000EF7ECABBFD19FE4198389A13C888A86D', 'uid': '040000008200E00074C5B7101A82E00800000000C3B001D48D87DB01000000000000000010000000EF7ECABBFD19FE4198389A13C888A86D', 'reminderMinutesBeforeStart': 15, 'isReminderOn': True, 'hasAttachments': False, 'subject': 'Meeting', 'bodyPreview': '', 'importance': 'normal', 'sensitivity': 'normal', 'isAllDay': False, 'isCancelled': False, 'isOrganizer': True, 'responseRequested': True, 'seriesMasterId': None, 'showAs': 'busy', 'type': 'singleInstance', 'webLink': 'https://outlook.live.com/owa/?itemid=AQMkADAwATMwMAExLThjNTUALTAwAGJlLTAwAi0wMAoARgAAAxp5qsgLJ%2FhOuMYmhH%2B7aJYHAApQGaO1CjRKtBr927IDOXUAAAIBDQAAAApQGaO1CjRKtBr927IDOXUAAAARxBzCAAAA&exvsurl=1&path=/calendar/item', 'onlineMeetingUrl': None, 'isOnlineMeeting': False, 'onlineMeetingProvider': 'unknown', 'allowNewTimeProposals': True, 'occurrenceId': None, 'isDraft': False, 'hideAttendees': False, 'responseStatus': {'response': 'organizer', 'time': '0001-01-01T00:00:00Z'}, 'body': {'contentType': 'html', 'content': '<html><head><meta http-equiv=\"Content-Type\" content=\"text/html; charset=utf-8\">\\r\\n<meta name=\"Generator\" content=\"Microsoft Exchange Server\">\\r\\n<!-- converted from text -->\\r\\n<style><!-- .EmailQuote { margin-left: 1pt; padding-left: 4pt; border-left: #800000 2px solid; } --></style></head>\\r\\n<body>\\r\\n<font size=\"2\"><span style=\"font-size:11pt;\"><div class=\"PlainText\">&nbsp;</div></span></font>\\r\\n</body>\\r\\n</html>\\r\\n'}, 'start': {'dateTime': '2025-03-03T16:15:00.0000000', 'timeZone': 'Europe/Amsterdam'}, 'end': {'dateTime': '2025-03-03T17:00:00.0000000', 'timeZone': 'Europe/Amsterdam'}, 'location': {'displayName': '', 'locationType': 'default', 'uniqueIdType': 'unknown', 'address': {}, 'coordinates': {}}, 'locations': [], 'recurrence': None, 'attendees': [], 'organizer': {'emailAddress': {'name': 'Daniel van Oosteroom', 'address': 'outlook_1EBDCD179CAEDECE@outlook.com'}}, 'onlineMeeting': None}\n"
     ]
    }
   ],
   "source": [
    "logs_1 = logs[0]\n",
    "for i in logs:\n",
    "    print(i)"
   ]
  },
  {
   "cell_type": "markdown",
   "metadata": {},
   "source": [
    "### Get and Delete"
   ]
  },
  {
   "cell_type": "code",
   "execution_count": 45,
   "metadata": {},
   "outputs": [
    {
     "name": "stdout",
     "output_type": "stream",
     "text": [
      "76 appointments deleted\n"
     ]
    }
   ],
   "source": [
    "def get_and_delete(start_datetime = (datetime.now() - timedelta(days=1)),\n",
    "                    end_datetime = (datetime.now() + timedelta(days=8))):\n",
    "    start_datetime = start_datetime.isoformat()\n",
    "    end_datetime = end_datetime.isoformat()\n",
    "    headers = get_headers()\n",
    "    appointments_ids = set()\n",
    "    while True:\n",
    "        response1_get = requests.get(\n",
    "        GRAPH_API_ENDPOINT + f'/me/calendar/calendarView?startDateTime={start_datetime}&endDateTime={end_datetime}',\n",
    "        headers=headers\n",
    "        )\n",
    "        \n",
    "        for i in response1_get.json()['value']:\n",
    "            appointments_ids.add(i['id'])\n",
    "        \n",
    "        if len(appointments_ids) == 0:\n",
    "            break\n",
    "            \n",
    "        new_start_datetime = response1_get.json()['value'][-1]['end']['dateTime']\n",
    "\n",
    "        if start_datetime == new_start_datetime:\n",
    "            break\n",
    "        else:\n",
    "            start_datetime = new_start_datetime\n",
    "    \n",
    "    for i in appointments_ids:\n",
    "        response = requests.delete(\n",
    "            GRAPH_API_ENDPOINT + f'/me/events/{i}',\n",
    "            headers=headers\n",
    "        )\n",
    "    print(f\"{len(appointments_ids)} appointments deleted\")\n",
    "         \n",
    "get_and_delete(start_datetime = (datetime(2025, 2, 20) - timedelta(days=1)))"
   ]
  },
  {
   "cell_type": "markdown",
   "metadata": {},
   "source": [
    "### Find open space"
   ]
  },
  {
   "cell_type": "code",
   "execution_count": null,
   "metadata": {},
   "outputs": [],
   "source": [
    "def retrieve_unique_events(start_datetime = (datetime.now() - timedelta(days=1)).isoformat(),\n",
    "                    end_datetime = (datetime.now() + timedelta(days=8)).isoformat()):\n",
    "    headers = get_headers()\n",
    "    appointments_ids = set()\n",
    "    appointments_jsons = []\n",
    "    \n",
    "    while True:\n",
    "        response1_get = requests.get(\n",
    "        GRAPH_API_ENDPOINT + f'/me/calendar/calendarView?startDateTime={start_datetime}&endDateTime={end_datetime}',\n",
    "        headers=headers\n",
    "        )\n",
    "        \n",
    "        for i in response1_get.json()['value']:\n",
    "            if i['id'] not in appointments_ids:\n",
    "                appointments_ids.add(i['id'])\n",
    "                appointments_jsons.append(i)\n",
    "        \n",
    "        if len(appointments_ids) == 0:\n",
    "            print(len(appointments_ids))\n",
    "            break\n",
    "            \n",
    "        new_start_datetime = response1_get.json()['value'][-1]['end']['dateTime']\n",
    "\n",
    "        if start_datetime == new_start_datetime:\n",
    "            break\n",
    "        else:\n",
    "            start_datetime = new_start_datetime\n",
    "    return appointments_jsons"
   ]
  },
  {
   "cell_type": "code",
   "execution_count": 17,
   "metadata": {},
   "outputs": [],
   "source": [
    "unique_events = retrieve_unique_events()"
   ]
  },
  {
   "cell_type": "code",
   "execution_count": null,
   "metadata": {},
   "outputs": [],
   "source": [
    "datetime.now() S\").time()\n",
    "    WORK_END = datetime.strptime(\"17:00:00\", \"%H:%M:%S\").time()\n",
    "    MIN_DURATION = timedelta(minutes=time_lenght)\n",
    "\n",
    "    appointments_dt = [\n",
    "        (datetime.strptime(i['start']['dateTime'][:19], \"%Y-%m-%dT%H:%M:%S\") + timedelta(hours=1),\n",
    "         datetime.strptime(i['end']['dateTime'][:19], \"%Y-%m-%dT%H:%M:%S\") + timedelta(hours=1))\n",
    "        for i in appointments\n",
    "    ]\n",
    "\n",
    "    appointments_dt.sort()\n",
    "\n",
    "    merged_appointments = []\n",
    "    for start, end in appointments_dt:\n",
    "        if merged_appointments and (start < merged_appointments[-1][1]):\n",
    "            inserted = (min(min(merged_appointments[-1][0], start), merged_appointments[-1][0]), max(merged_appointments[-1][1], end))\n",
    "            merged_appointments[-1] = inserted\n",
    "        else:\n",
    "            merged_appointments.append((start, end))\n",
    "\n",
    "    # Check if there is an opening before the first appointment        \n",
    "    if merged_appointments and (convert_to_timedelta(merged_appointments[0][0]) - convert_to_timedelta(WORK_START)) >= MIN_DURATION:\n",
    "        print(\"this\")\n",
    "        return (merged_appointments[0][0] + convert_to_timedelta(WORK_START), merged_appointments[0][0])\n",
    "\n",
    "    # Check if there is an opening between appointments\n",
    "    for i in range(len(merged_appointments) - 1):\n",
    "        end_current = merged_appointments[i][1]\n",
    "        start_next = merged_appointments[i + 1][0]\n",
    "        if (convert_to_timedelta(start_next) - convert_to_timedelta(end_current)) >= MIN_DURATION:\n",
    "            return (end_current, end_current + MIN_DURATION)\n",
    "\n",
    "    # Check if there is an opening after the last appointment\n",
    "    if merged_appointments and (convert_to_timedelta(WORK_END) - convert_to_timedelta(merged_appointments[-1][1])) >= MIN_DURATION:\n",
    "        print(\"that\")\n",
    "        return (merged_appointments[-1][1], merged_appointments + MIN_DURATION)\n",
    "\n",
    "    return None"
   ]
  },
  {
   "cell_type": "code",
   "execution_count": null,
   "metadata": {},
   "outputs": [],
   "source": [
    "def date_time_to_iso(date: datetime) -> str:\n",
    "    return date.strftime(\"%Y-%m-%dT%H:%M:%S\")\n",
    "\n",
    "def date_time_to_dateTimeZone(date: datetime) -> Dict:\n",
    "    return {\n",
    "        'dateTime': date_time_to_iso(date),\n",
    "        'timeZone': 'Europe/Amsterdam'\n",
    "    }\n",
    "    \n",
    "def create_event(event_name: str, start: datetime, end: datetime, **kwargs) -> Dict[str, Union[str, int, List[str], Dict[str, Union[str, int]]]]:\n",
    "    \n",
    "    response = requests.post(\n",
    "        GRAPH_API_ENDPOINT + f'/me/events',\n",
    "        headers=headers,\n",
    "        json=construct_event_detail(\n",
    "            event_name,\n",
    "            start=date_time_to_dateTimeZone(start),\n",
    "            end=date_time_to_dateTimeZone(end),\n",
    "            **kwargs\n",
    "        )\n",
    "    )\n",
    "    return response.json()"
   ]
  },
  {
   "cell_type": "code",
   "execution_count": 20,
   "metadata": {},
   "outputs": [
    {
     "name": "stdout",
     "output_type": "stream",
     "text": [
      "(datetime.datetime(2025, 2, 21, 13, 30), datetime.datetime(2025, 2, 21, 14, 30))\n"
     ]
    }
   ],
   "source": [
    "found_time = find_first_opening(unique_events, 60)\n",
    "print(found_time)"
   ]
  },
  {
   "cell_type": "code",
   "execution_count": null,
   "metadata": {},
   "outputs": [
    {
     "ename": "NameError",
     "evalue": "name 'time_json' is not defined",
     "output_type": "error",
     "traceback": [
      "\u001b[0;31m---------------------------------------------------------------------------\u001b[0m",
      "\u001b[0;31mNameError\u001b[0m                                 Traceback (most recent call last)",
      "Cell \u001b[0;32mIn[21], line 1\u001b[0m\n\u001b[0;32m----> 1\u001b[0m found_time_iso \u001b[38;5;241m=\u001b[39m \u001b[38;5;28mmap\u001b[39m(\u001b[43mtime_json\u001b[49m, found_time)\n\u001b[1;32m      2\u001b[0m create_event(\u001b[38;5;124m'\u001b[39m\u001b[38;5;124mMeeting found\u001b[39m\u001b[38;5;124m'\u001b[39m, found_time[\u001b[38;5;241m0\u001b[39m], found_time[\u001b[38;5;241m1\u001b[39m])\n",
      "\u001b[0;31mNameError\u001b[0m: name 'time_json' is not defined"
     ]
    }
   ],
   "source": [
    "found_time_iso = map(time_json, found_time)\n",
    "write_event('Meeting found', found_time_iso[0], found_time_iso[1])"
   ]
  },
  {
   "cell_type": "code",
   "execution_count": null,
   "metadata": {},
   "outputs": [],
   "source": []
  }
 ],
 "metadata": {
  "kernelspec": {
   "display_name": "daf_belasting_1",
   "language": "python",
   "name": "python3"
  },
  "language_info": {
   "codemirror_mode": {
    "name": "ipython",
    "version": 3
   },
   "file_extension": ".py",
   "mimetype": "text/x-python",
   "name": "python",
   "nbconvert_exporter": "python",
   "pygments_lexer": "ipython3",
   "version": "3.11.11"
  }
 },
 "nbformat": 4,
 "nbformat_minor": 2
}
