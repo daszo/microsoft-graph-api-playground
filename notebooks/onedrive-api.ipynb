{
 "cells": [
  {
   "cell_type": "markdown",
   "metadata": {},
   "source": [
    "### general"
   ]
  },
  {
   "cell_type": "code",
   "execution_count": 54,
   "metadata": {},
   "outputs": [],
   "source": [
    "import requests\n",
    "from datetime import datetime, timedelta\n",
    "import json\n",
    "import msal\n",
    "import webbrowser\n",
    "from typing import List, Dict, Union, Optional, TypedDict\n",
    "import os\n",
    "os.chdir(\"/home/daniel/de_AI_Fabriek/belasting-agent-playground/\")\n",
    "\n",
    "from keys import O365_CLIENT_SECRET, O365_CLIENT_ID\n",
    "\n",
    "SCOPES = ['Calendars.ReadWrite']\n",
    "GRAPH_API_ENDPOINT = 'https://graph.microsoft.com/v1.0'\n",
    "\n",
    "AUTHORITY = 'https://login.microsoftonline.com/common'"
   ]
  },
  {
   "cell_type": "markdown",
   "metadata": {},
   "source": [
    "# experimental"
   ]
  },
  {
   "cell_type": "markdown",
   "metadata": {},
   "source": [
    "## Authentication"
   ]
  },
  {
   "cell_type": "markdown",
   "metadata": {},
   "source": [
    "### Type Definitions "
   ]
  },
  {
   "cell_type": "code",
   "execution_count": null,
   "metadata": {},
   "outputs": [],
   "source": [
    "class TokenResponse(TypedDict, total=False):\n",
    "    token_type: str\n",
    "    scope: str\n",
    "    expires_in: int\n",
    "    ext_expires_in: int\n",
    "    access_token: str\n",
    "    refresh_token: str\n",
    "    id_token: str\n",
    "    client_info: str\n",
    "    token_source: str\n",
    "    id_token_claims: Dict[str, str | int]  # Can contain mixed types"
   ]
  },
  {
   "cell_type": "markdown",
   "metadata": {},
   "source": [
    "### generate acces token"
   ]
  },
  {
   "cell_type": "code",
   "execution_count": null,
   "metadata": {},
   "outputs": [],
   "source": [
    "\n",
    "def generate_access_token(app_id: str, scopes: List[str]) -> TokenResponse:\n",
    "    \"\"\" Summary:\n",
    "    This function generates an access token for the Microsoft Graph API.\n",
    "    It uses the MSAL library to authenticate the user and generate the token or\n",
    "    use the token from the cache if it is still valid, otherwise it will refresh the token.\n",
    "        - Tokens are valid for 10 minutes and refresh tokens are valid for 90 days (school and work accounts) or 1 year\n",
    "        and can be used to refresh the access token and get a new refresh token.\n",
    "        \n",
    "    The token is saved in a file called 'msg_api_token_access.json' and is used to authenticate the user in the future.\n",
    "\n",
    "    Args:\n",
    "        app_id : Client ID of the Azure App Registration\n",
    "        scopes : List of scopes that the token should have access to\n",
    "\n",
    "    Returns:\n",
    "        Dict : Dictionary containing the access token and\n",
    "        other information like the token type, expiry time and other account information. \n",
    "    \"\"\"\n",
    "\n",
    "    # Save Session Token as a token file\n",
    "    access_token_cache = msal.SerializableTokenCache()\n",
    "\n",
    "    # read the token file\n",
    "    if os.path.exists('msg_api_token_access.json'):\n",
    "        access_token_cache.deserialize(open(\"msg_api_token_access.json\", \"r\").read())\n",
    "        token_detail = json.load(open('msg_api_token_access.json',))\n",
    "        if not token_detail:\n",
    "            os.remove('msg_api_token_access.json')\n",
    "            access_token_cache = msal.SerializableTokenCache()\n",
    "\n",
    "        # check if the token is still valid\n",
    "        if token_detail:\n",
    "            token_detail_key = list(token_detail['RefreshToken'].keys())[0]\n",
    "            modified = datetime.fromtimestamp(int(token_detail['RefreshToken'][token_detail_key]['last_modification_time']))\n",
    "            end_date = modified + timedelta(days=90)\n",
    "            if datetime.now() > end_date:\n",
    "                os.remove('msg_api_token_access.json')\n",
    "                access_token_cache = msal.SerializableTokenCache()\n",
    "\n",
    "    # assign a SerializableTokenCache object to the client instance\n",
    "    client = msal.PublicClientApplication(client_id=app_id, token_cache=access_token_cache)\n",
    "\n",
    "    accounts = client.get_accounts()\n",
    "    if accounts:\n",
    "        # load the session\n",
    "        token_response = client.acquire_token_silent(scopes, accounts[0])\n",
    "\n",
    "    # if there are no accounts or the token is not valid (expired or out of scope) request a login form the user\n",
    "    if not accounts or not token_response:\n",
    "        # authetnicate your accoutn as usual\n",
    "        flow = client.initiate_device_flow(scopes=scopes)\n",
    "        webbrowser.open('https://microsoft.com/devicelogin')\n",
    "        token_response = client.acquire_token_by_device_flow(flow)\n",
    "\n",
    "    with open('msg_api_token_access.json', 'w') as _f:\n",
    "        _f.write(access_token_cache.serialize())\n",
    "\n",
    "    return token_response\n",
    "\n",
    "             \n"
   ]
  },
  {
   "cell_type": "markdown",
   "metadata": {},
   "source": [
    "## Calendar"
   ]
  },
  {
   "cell_type": "markdown",
   "metadata": {},
   "source": [
    "### Type Definitions"
   ]
  },
  {
   "cell_type": "markdown",
   "metadata": {},
   "source": [
    "OutlookEvent type"
   ]
  },
  {
   "cell_type": "code",
   "execution_count": null,
   "metadata": {},
   "outputs": [],
   "source": [
    "class ResponseStatus(TypedDict):\n",
    "    response: str\n",
    "    time: str\n",
    "\n",
    "class Body(TypedDict):\n",
    "    contentType: str\n",
    "    content: str\n",
    "\n",
    "class TimeZoneData(TypedDict):\n",
    "    dateTime: str\n",
    "    timeZone: str\n",
    "\n",
    "class Location(TypedDict):\n",
    "    displayName: str\n",
    "    locationType: str\n",
    "    uniqueIdType: str\n",
    "    address: dict\n",
    "    coordinates: dict\n",
    "\n",
    "class EmailAddress(TypedDict):\n",
    "    name: str\n",
    "    address: str\n",
    "\n",
    "class Organizer(TypedDict):\n",
    "    emailAddress: EmailAddress\n",
    "\n",
    "class OutlookEvent(TypedDict, total=False):  # total=False allows missing keys\n",
    "    id: str\n",
    "    createdDateTime: str\n",
    "    lastModifiedDateTime: str\n",
    "    changeKey: str\n",
    "    categories: List[str]\n",
    "    transactionId: Optional[str]\n",
    "    originalStartTimeZone: str\n",
    "    originalEndTimeZone: str\n",
    "    iCalUId: str\n",
    "    uid: str\n",
    "    reminderMinutesBeforeStart: int\n",
    "    isReminderOn: bool\n",
    "    hasAttachments: bool\n",
    "    subject: str\n",
    "    bodyPreview: str\n",
    "    importance: str\n",
    "    sensitivity: str\n",
    "    isAllDay: bool\n",
    "    isCancelled: bool\n",
    "    isOrganizer: bool\n",
    "    responseRequested: bool\n",
    "    seriesMasterId: Optional[str]\n",
    "    showAs: str\n",
    "    type: str\n",
    "    webLink: str\n",
    "    onlineMeetingUrl: Optional[str]\n",
    "    isOnlineMeeting: bool\n",
    "    onlineMeetingProvider: str\n",
    "    allowNewTimeProposals: bool\n",
    "    occurrenceId: Optional[str]\n",
    "    isDraft: bool\n",
    "    hideAttendees: bool\n",
    "    responseStatus: ResponseStatus\n",
    "    body: Body\n",
    "    start: TimeZoneData\n",
    "    end: TimeZoneData\n",
    "    location: Location\n",
    "    locations: List[Location]\n",
    "    recurrence: Optional[str]\n",
    "    attendees: List[dict]\n",
    "    organizer: Organizer\n",
    "    onlineMeeting: Optional[dict]"
   ]
  },
  {
   "cell_type": "markdown",
   "metadata": {},
   "source": [
    "### Predecessors "
   ]
  },
  {
   "cell_type": "code",
   "execution_count": 56,
   "metadata": {},
   "outputs": [],
   "source": [
    "access_token = generate_access_token(O365_CLIENT_ID, SCOPES)\n",
    "headers = {\n",
    "    'Authorization': 'Bearer ' + access_token['access_token']\n",
    "}\n",
    "\n",
    "# create an event\n"
   ]
  },
  {
   "cell_type": "code",
   "execution_count": 17,
   "metadata": {},
   "outputs": [],
   "source": [
    "def get_headers() -> Dict[str, str]:\n",
    "    access_token = generate_access_token(O365_CLIENT_ID, SCOPES)\n",
    "    headers = {\n",
    "        'Authorization': 'Bearer ' + access_token['access_token']\n",
    "    }\n",
    "    return headers"
   ]
  },
  {
   "cell_type": "code",
   "execution_count": 18,
   "metadata": {},
   "outputs": [],
   "source": [
    "def construct_event_detail(event_name: Dict[str, str], **kwargs : Dict[str, str]) -> Dict[str, str]:\n",
    "    request_body = {\n",
    "        'subject': event_name,\n",
    "    }\n",
    "    for key, value in kwargs.items():\n",
    "        request_body[key] = value\n",
    "    return request_body\n"
   ]
  },
  {
   "cell_type": "code",
   "execution_count": null,
   "metadata": {},
   "outputs": [],
   "source": [
    "def write_event(event_name: str, start: datetime, end: datetime, **kwargs) -> List[OutlookEvent]:\n",
    "    headers = get_headers()\n",
    "    response = requests.post(\n",
    "        GRAPH_API_ENDPOINT + f'/me/events',\n",
    "        headers=headers,\n",
    "        json=construct_event_detail(\n",
    "            event_name,\n",
    "            start=start,\n",
    "            end=end,\n",
    "            **kwargs\n",
    "        )\n",
    "    )\n",
    "    return response"
   ]
  },
  {
   "cell_type": "markdown",
   "metadata": {},
   "source": [
    "### Create event"
   ]
  },
  {
   "cell_type": "markdown",
   "metadata": {},
   "source": [
    "Examples of the request body for creating an event:"
   ]
  },
  {
   "cell_type": "code",
   "execution_count": 20,
   "metadata": {},
   "outputs": [],
   "source": [
    "# event_name = 'Work Holiday'\n",
    "# body = {\n",
    "#     # html or text\n",
    "#     'contentType': 'html',\n",
    "#     'content': '<b>2 weeks vacation</b>'\n",
    "# }\n",
    "# start = {\n",
    "#     'dateTime': '2025-02-20T09:00:00',\n",
    "#     'timeZone': 'Europe/Amsterdam'\n",
    "# }\n",
    "# end = {\n",
    "#     'dateTime': '2025-02-21T17:00:00',\n",
    "#     'timeZone': 'Europe/Amsterdam'\n",
    "# }\n",
    "# location = {\n",
    "#     'displayName': 'Paris, France'\n",
    "# }\n",
    "# attendees = [\n",
    "#     {\n",
    "#         'emailAddress': {\n",
    "#             'address': 'daniel@vanoosteroom.com'\n",
    "#         },\n",
    "#          'type': 'required' # or optional\n",
    "#     }\n",
    "# ]"
   ]
  },
  {
   "cell_type": "code",
   "execution_count": 21,
   "metadata": {},
   "outputs": [],
   "source": [
    "# response2_create = requests.post(\n",
    "#     GRAPH_API_ENDPOINT + f'/me/events',\n",
    "#     headers=headers,\n",
    "#     json=construct_event_detail(\n",
    "#             event_name,\n",
    "#             body=body,\n",
    "#             location=location,\n",
    "#             start=start,\n",
    "#             end=end,\n",
    "#             #attendees=attendees,\n",
    "#         )\n",
    "# )"
   ]
  },
  {
   "cell_type": "markdown",
   "metadata": {},
   "source": [
    "### Create test environment workweek"
   ]
  },
  {
   "cell_type": "code",
   "execution_count": 35,
   "metadata": {},
   "outputs": [],
   "source": [
    "\n",
    "import random\n",
    "def generate_schedule() -> List[List[timedelta]]:\n",
    "    week_schedule = []\n",
    "\n",
    "    for _ in range(5):\n",
    "\n",
    "        times = [(timedelta(hours=9) + timedelta(minutes=random.choice([0, 15, 30, 45])))]\n",
    "\n",
    "\n",
    "        while True:\n",
    "            random_value = times[-1] + timedelta(minutes=random.choice(range(30, 180, 15)))\n",
    "            times.append(random_value)\n",
    "            if random_value >= timedelta(hours=16, minutes=30):\n",
    "                times.pop(-1)\n",
    "                times.append(timedelta(hours=17))\n",
    "                break\n",
    "        week_schedule.append(times)\n",
    "    return week_schedule"
   ]
  },
  {
   "cell_type": "code",
   "execution_count": null,
   "metadata": {},
   "outputs": [],
   "source": [
    "# Create a randon da\n",
    "\n",
    "def to_iso_date(date: datetime) -> str:\n",
    "    return date.strftime(\"%Y-%m-%d\")\n",
    "\n",
    "def to_iso_time(time : timedelta) -> str:\n",
    "    string_time = str(time)\n",
    "    dt = datetime.strptime(string_time, \"%H:%M:%S\")\n",
    "    return dt.strftime(\"%H:%M:%S\")\n",
    "\n",
    "def date_and_time_to_iso(date: datetime, time: timedelta) -> str:\n",
    "    return to_iso_date(date) + 'T' + to_iso_time(time)\n",
    "\n",
    "def time_json(date: datetime, time: timedelta) -> Dict[str, str]:\n",
    "    return {\n",
    "        'dateTime': date_and_time_to_iso(date, time),\n",
    "        'timeZone': 'Europe/Amsterdam'\n",
    "    }\n",
    "    \n",
    "def convert_to_date_time(time: datetime) -> timedelta:\n",
    "    hours, minutes, seconds = map(int, str(time).split(':'))\n",
    "    time_checked = timedelta(hours=hours, minutes=minutes, seconds=seconds)\n",
    "    return time_checked\n",
    "\n",
    "\n",
    "\n",
    "def write_week(week_schedule: List[List[timedelta]], start_date: datetime = datetime.now()) -> List[OutlookEvent]:\n",
    "\n",
    "    log = []\n",
    "\n",
    "    day = start_date - timedelta(days=1)\n",
    "    for day_schedule in week_schedule:\n",
    "        if day.weekday() == 4:\n",
    "            day = day + timedelta(days=2)\n",
    "        elif day.weekday() == 5:\n",
    "            day = day + timedelta(days=1)\n",
    "        \n",
    "        day = day + timedelta(days=1)\n",
    "            \n",
    "        for j, time_indices in enumerate(day_schedule):\n",
    "            log.append(write_event(\n",
    "                'Meeting',\n",
    "                time_json(day, day_schedule[j -1]),\n",
    "                time_json(day, time_indices)\n",
    "            ))\n",
    "    return log\n",
    "\n"
   ]
  },
  {
   "cell_type": "code",
   "execution_count": 50,
   "metadata": {},
   "outputs": [],
   "source": [
    "logs = write_week(generate_schedule())"
   ]
  },
  {
   "cell_type": "markdown",
   "metadata": {},
   "source": [
    "### Get and Delete"
   ]
  },
  {
   "cell_type": "code",
   "execution_count": null,
   "metadata": {},
   "outputs": [
    {
     "name": "stdout",
     "output_type": "stream",
     "text": [
      "76 appointments deleted\n"
     ]
    }
   ],
   "source": [
    "def get_and_delete(start_datetime = (datetime.now() - timedelta(days=1)),\n",
    "                    end_datetime = (datetime.now() + timedelta(days=8))) -> str:\n",
    "    start_datetime = start_datetime.isoformat()\n",
    "    end_datetime = end_datetime.isoformat()\n",
    "    headers = get_headers()\n",
    "    appointments_ids = set()\n",
    "    while True:\n",
    "        response1_get = requests.get(\n",
    "        GRAPH_API_ENDPOINT + f'/me/calendar/calendarView?startDateTime={start_datetime}&endDateTime={end_datetime}',\n",
    "        headers=headers\n",
    "        )\n",
    "        \n",
    "        for i in response1_get.json()['value']:\n",
    "            appointments_ids.add(i['id'])\n",
    "        \n",
    "        if len(appointments_ids) == 0:\n",
    "            break\n",
    "            \n",
    "        new_start_datetime = response1_get.json()['value'][-1]['end']['dateTime']\n",
    "\n",
    "        if start_datetime == new_start_datetime:\n",
    "            break\n",
    "        else:\n",
    "            start_datetime = new_start_datetime\n",
    "    \n",
    "    for i in appointments_ids:\n",
    "        response = requests.delete(\n",
    "            GRAPH_API_ENDPOINT + f'/me/events/{i}',\n",
    "            headers=headers\n",
    "        )\n",
    "    return f\"{len(appointments_ids)} appointments deleted\"\n",
    "         \n",
    "print(get_and_delete(start_datetime = (datetime(2025, 2, 20) - timedelta(days=1))))"
   ]
  },
  {
   "cell_type": "markdown",
   "metadata": {},
   "source": [
    "### Find open space"
   ]
  },
  {
   "cell_type": "code",
   "execution_count": null,
   "metadata": {},
   "outputs": [],
   "source": [
    "def retrieve_unique_events(start_datetime = (datetime.now() - timedelta(days=1)).isoformat(),\n",
    "                    end_datetime = (datetime.now() + timedelta(days=8)).isoformat()):\n",
    "    headers = get_headers()\n",
    "    appointments_ids = set()\n",
    "    appointments_jsons = []\n",
    "    \n",
    "    while True:\n",
    "        response1_get = requests.get(\n",
    "        GRAPH_API_ENDPOINT + f'/me/calendar/calendarView?startDateTime={start_datetime}&endDateTime={end_datetime}',\n",
    "        headers=headers\n",
    "        )\n",
    "        \n",
    "        for i in response1_get.json()['value']:\n",
    "            if i['id'] not in appointments_ids:\n",
    "                appointments_ids.add(i['id'])\n",
    "                appointments_jsons.append(i)\n",
    "        \n",
    "        if len(appointments_ids) == 0:\n",
    "            print(len(appointments_ids))\n",
    "            break\n",
    "            \n",
    "        new_start_datetime = response1_get.json()['value'][-1]['end']['dateTime']\n",
    "\n",
    "        if start_datetime == new_start_datetime:\n",
    "            break\n",
    "        else:\n",
    "            start_datetime = new_start_datetime\n",
    "    return appointments_jsons"
   ]
  },
  {
   "cell_type": "code",
   "execution_count": 17,
   "metadata": {},
   "outputs": [],
   "source": [
    "unique_events = retrieve_unique_events()"
   ]
  },
  {
   "cell_type": "code",
   "execution_count": null,
   "metadata": {},
   "outputs": [],
   "source": [
    "from typing import List, Dict, Optional, Tuple\n",
    " \n",
    "def convert_to_timedelta(date: datetime) -> timedelta:\n",
    "    return timedelta(hours=date.hour, minutes=date.minute, seconds=date.second)\n",
    "\n",
    "def find_first_opening(appointments: List[Dict], time_lenght: int) -> Optional[Tuple[datetime, datetime]]:\n",
    "    WORK_START = datetime.strptime(\"09:00:00\", \"%H:%M:%S\").time()\n",
    "    WORK_END = datetime.strptime(\"17:00:00\", \"%H:%M:%S\").time()\n",
    "    MIN_DURATION = timedelta(minutes=time_lenght)\n",
    "\n",
    "    appointments_dt = [\n",
    "        (datetime.strptime(i['start']['dateTime'][:19], \"%Y-%m-%dT%H:%M:%S\") + timedelta(hours=1),\n",
    "         datetime.strptime(i['end']['dateTime'][:19], \"%Y-%m-%dT%H:%M:%S\") + timedelta(hours=1))\n",
    "        for i in appointments\n",
    "    ]\n",
    "\n",
    "    appointments_dt.sort()\n",
    "\n",
    "    merged_appointments = []\n",
    "    for start, end in appointments_dt:\n",
    "        if merged_appointments and (start < merged_appointments[-1][1]):\n",
    "            inserted = (min(min(merged_appointments[-1][0], start), merged_appointments[-1][0]), max(merged_appointments[-1][1], end))\n",
    "            merged_appointments[-1] = inserted\n",
    "        else:\n",
    "            merged_appointments.append((start, end))\n",
    "\n",
    "    # Check if there is an opening before the first appointment        \n",
    "    if merged_appointments and (convert_to_timedelta(merged_appointments[0][0]) - convert_to_timedelta(WORK_START)) >= MIN_DURATION:\n",
    "        print(\"this\")\n",
    "        return (merged_appointments[0][0] + convert_to_timedelta(WORK_START), merged_appointments[0][0])\n",
    "\n",
    "    # Check if there is an opening between appointments\n",
    "    for i in range(len(merged_appointments) - 1):\n",
    "        end_current = merged_appointments[i][1]\n",
    "        start_next = merged_appointments[i + 1][0]\n",
    "        if (convert_to_timedelta(start_next) - convert_to_timedelta(end_current)) >= MIN_DURATION:\n",
    "            return (end_current, end_current + MIN_DURATION)\n",
    "\n",
    "    # Check if there is an opening after the last appointment\n",
    "    if merged_appointments and (convert_to_timedelta(WORK_END) - convert_to_timedelta(merged_appointments[-1][1])) >= MIN_DURATION:\n",
    "        print(\"that\")\n",
    "        return (merged_appointments[-1][1], merged_appointments + MIN_DURATION)\n",
    "\n",
    "    return None"
   ]
  },
  {
   "cell_type": "code",
   "execution_count": null,
   "metadata": {},
   "outputs": [],
   "source": [
    "def date_time_to_iso(date: datetime) -> str:\n",
    "    return date.strftime(\"%Y-%m-%dT%H:%M:%S\")\n",
    "\n",
    "def date_time_to_dateTimeZone(date: datetime) -> Dict:\n",
    "    return {\n",
    "        'dateTime': date_time_to_iso(date),\n",
    "        'timeZone': 'Europe/Amsterdam'\n",
    "    }"
   ]
  },
  {
   "cell_type": "code",
   "execution_count": 20,
   "metadata": {},
   "outputs": [
    {
     "name": "stdout",
     "output_type": "stream",
     "text": [
      "(datetime.datetime(2025, 2, 21, 13, 30), datetime.datetime(2025, 2, 21, 14, 30))\n"
     ]
    }
   ],
   "source": [
    "found_time = find_first_opening(unique_events, 60)\n",
    "print(found_time)"
   ]
  },
  {
   "cell_type": "code",
   "execution_count": null,
   "metadata": {},
   "outputs": [
    {
     "ename": "NameError",
     "evalue": "name 'time_json' is not defined",
     "output_type": "error",
     "traceback": [
      "\u001b[0;31m---------------------------------------------------------------------------\u001b[0m",
      "\u001b[0;31mNameError\u001b[0m                                 Traceback (most recent call last)",
      "Cell \u001b[0;32mIn[21], line 1\u001b[0m\n\u001b[0;32m----> 1\u001b[0m found_time_iso \u001b[38;5;241m=\u001b[39m \u001b[38;5;28mmap\u001b[39m(\u001b[43mtime_json\u001b[49m, found_time)\n\u001b[1;32m      2\u001b[0m create_event(\u001b[38;5;124m'\u001b[39m\u001b[38;5;124mMeeting found\u001b[39m\u001b[38;5;124m'\u001b[39m, found_time[\u001b[38;5;241m0\u001b[39m], found_time[\u001b[38;5;241m1\u001b[39m])\n",
      "\u001b[0;31mNameError\u001b[0m: name 'time_json' is not defined"
     ]
    }
   ],
   "source": [
    "found_time_iso = map(time_json, found_time)\n",
    "write_event('Meeting found', found_time_iso[0], found_time_iso[1])"
   ]
  },
  {
   "cell_type": "code",
   "execution_count": null,
   "metadata": {},
   "outputs": [],
   "source": []
  }
 ],
 "metadata": {
  "kernelspec": {
   "display_name": "daf_belasting_1",
   "language": "python",
   "name": "python3"
  },
  "language_info": {
   "codemirror_mode": {
    "name": "ipython",
    "version": 3
   },
   "file_extension": ".py",
   "mimetype": "text/x-python",
   "name": "python",
   "nbconvert_exporter": "python",
   "pygments_lexer": "ipython3",
   "version": "3.11.11"
  }
 },
 "nbformat": 4,
 "nbformat_minor": 2
}
