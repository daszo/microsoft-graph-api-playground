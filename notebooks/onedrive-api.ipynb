{
 "cells": [
  {
   "cell_type": "code",
   "execution_count": 3,
   "metadata": {},
   "outputs": [],
   "source": [
    "import webbrowser\n",
    "import requests\n",
    "import msal\n",
    "import json\n",
    "\n",
    "import os\n",
    "os.chdir(\"/home/daniel/de_AI_Fabriek/belasting-agent-playground/\")\n",
    "\n",
    "from keys import O365_CLIENT_SECRET, O365_CLIENT_ID\n",
    "\n",
    "SCOPES = [\"User.Read\"]\n",
    "\n",
    "# AUTHORITY = 'https://login.microsoftonline.com/' + \"b4790366-ebc1-458b-8baf-4aed4d12f0fc\"\n",
    "AUTHORITY = 'https://login.microsoftonline.com/common'"
   ]
  },
  {
   "cell_type": "markdown",
   "metadata": {},
   "source": [
    "## msal"
   ]
  },
  {
   "cell_type": "code",
   "execution_count": 1,
   "metadata": {},
   "outputs": [],
   "source": [
    "def generate_acces_token(app_id, scopes, authority):\n",
    "    acces_token_cache = msal.SerializableTokenCache()\n",
    "    \n",
    "    # read token cache\n",
    "    if os.path.exists(\"msg_api_token_access.json\"):\n",
    "        acces_token_cache.deserialize(open(\"msg_api_token_access.json\", \"r\").read())\n",
    "        \n",
    "    client = msal.PublicClientApplication(\n",
    "        app_id,\n",
    "        authority=authority,\n",
    "        token_cache=acces_token_cache\n",
    "    )\n",
    "    \n",
    "    token_response = None\n",
    "     \n",
    "    accounts = client.get_accounts()\n",
    "                  \n",
    "    if accounts:\n",
    "        \n",
    "        # Assuming the end user chose this one to proceed\n",
    "        chosen_account = accounts[0]    \n",
    "        \n",
    "        # Now let's try to find a token in cache for this account\n",
    "        # or by using refresh token\n",
    "        token_response = client.acquire_token_silent(scopes, account=chosen_account)\n",
    "\n",
    "    if not token_response:\n",
    "        flow = client.initiate_device_flow(scopes=scopes)\n",
    "        print('user code: ', flow['user_code'])\n",
    "        webbrowser.open(flow['verification_uri'])\n",
    "        \n",
    "        token_response = client.acquire_token_by_device_flow(flow)\n",
    "        print(flow[\"message\"])\n",
    "    \n",
    "    if \"access_token\" in token_response:\n",
    "        print(\"Token was obtained from:\", token_response[\"token_source\"])\n",
    "        if os.getenv('ENDPOINT'):\n",
    "            # Calling a web API using the access token\n",
    "            api_result = requests.get(\n",
    "                os.getenv('ENDPOINT'),\n",
    "                hearders={'Authorization': 'Bearer ' + token_response[\"access_token\"]},\n",
    "            ).json()    \n",
    "            print(\"Web API call result\", json.dumps(api_result, indent=2))\n",
    "        else:\n",
    "            print(\"Token acquisition result\", json.dumps(token_response, indent=2))\n",
    "    else:\n",
    "        print(\"Token acquisition failed\", token_response)\n",
    "    \n",
    "    # write to persistent cache\n",
    "    with open(\"msg_api_token_access.json\", \"w\") as _f:\n",
    "        _f.write(acces_token_cache.serialize())\n",
    "    return token_response\n",
    "        \n",
    "    "
   ]
  },
  {
   "cell_type": "code",
   "execution_count": 4,
   "metadata": {},
   "outputs": [
    {
     "name": "stdout",
     "output_type": "stream",
     "text": [
      "Token was obtained from: identity_provider\n",
      "Token acquisition result {\n",
      "  \"token_type\": \"Bearer\",\n",
      "  \"scope\": \"openid profile User.Read email\",\n",
      "  \"expires_in\": 4362,\n",
      "  \"ext_expires_in\": 4362,\n",
      "  \"access_token\": \"eyJ0eXAiOiJKV1QiLCJub25jZSI6ImlSR2ViNUdrV2FUS0wzbXJIM1hXSXl4clJJaHV2R3pfRkE3dWRNUXdzRzAiLCJhbGciOiJSUzI1NiIsIng1dCI6IllUY2VPNUlKeXlxUjZqekRTNWlBYnBlNDJKdyIsImtpZCI6IllUY2VPNUlKeXlxUjZqekRTNWlBYnBlNDJKdyJ9.eyJhdWQiOiIwMDAwMDAwMy0wMDAwLTAwMDAtYzAwMC0wMDAwMDAwMDAwMDAiLCJpc3MiOiJodHRwczovL3N0cy53aW5kb3dzLm5ldC8wMDMwZTJmOC05Njg4LTQ5YzgtYWU0Zi1jZWY2N2E3ZWM4ZmYvIiwiaWF0IjoxNzM4NzA4NTY4LCJuYmYiOjE3Mzg3MDg1NjgsImV4cCI6MTczODcxMzIzMSwiYWNjdCI6MCwiYWNyIjoiMSIsImFpbyI6IkFUUUF5LzhaQUFBQXVvMGVPQlhCVUtYSDh1WEhQak9hMDRVK2RhZm9yQ3JyS2hEYllzbTg3K3hrNmN3Wmc3bEVJcElmekdQbWc3dmUiLCJhbXIiOlsicHdkIl0sImFwcF9kaXNwbGF5bmFtZSI6ImJlbGFzdGluZy1hYW5naWZ0ZW4tYWdlbnQiLCJhcHBpZCI6IjZmZTRjOTlhLTc4ODYtNDQ2My05MWJiLWNmMTMzYzVkZDE4NCIsImFwcGlkYWNyIjoiMCIsImZhbWlseV9uYW1lIjoidmFuIE9vc3Rlcm9vbSIsImdpdmVuX25hbWUiOiJEYW5pZWwiLCJpZHR5cCI6InVzZXIiLCJpcGFkZHIiOiIyMDAxOjFjMDA6ZDA0OjIyMDA6ZmUyMDo4NDVjOjQ3NTM6OWRiMyIsIm5hbWUiOiJEYW5pZWwgdmFuIE9vc3Rlcm9vbSIsIm9pZCI6IjAxN2U1M2NkLTY4NzctNDU2Ny1hODdiLWRhNGQ0NGNhM2ViZiIsInBsYXRmIjoiOCIsInB1aWQiOiIxMDAzMjAwNDNFQjk2QTkyIiwicmgiOiIxLkFVRUItT0l3QUlpV3lFbXVUODcyZW43SV93TUFBQUFBQUFBQXdBQUFBQUFBQUFCQ0FSOUJBUS4iLCJzY3AiOiJvcGVuaWQgcHJvZmlsZSBVc2VyLlJlYWQgZW1haWwiLCJzaWQiOiIwMDFmMjhhOS1iNzQ5LTc4ZTgtMTJmNS0xMWQ4YTNlZmFhMjQiLCJzdWIiOiItMzhoZW9WNmhfRUxGSDJ4SEQ3cUhXT3BjQjJaNXY5X1ZfZVNnTHBOWWJzIiwidGVuYW50X3JlZ2lvbl9zY29wZSI6IkVVIiwidGlkIjoiMDAzMGUyZjgtOTY4OC00OWM4LWFlNGYtY2VmNjdhN2VjOGZmIiwidW5pcXVlX25hbWUiOiJEYW5pZWxAZGVhaWZhYnJpZWsuY29tIiwidXBuIjoiRGFuaWVsQGRlYWlmYWJyaWVrLmNvbSIsInV0aSI6IkhUM3VDUkdCOVVXc0xmWFJwSGtXQUEiLCJ2ZXIiOiIxLjAiLCJ3aWRzIjpbImI3OWZiZjRkLTNlZjktNDY4OS04MTQzLTc2YjE5NGU4NTUwOSJdLCJ4bXNfZnRkIjoiNWNISFJJUnctQTFTYXZSbmNKeVYxTXpiX1ZGQmZ6M0Y1OUxLTGNEem1udyIsInhtc19pZHJlbCI6IjEgMTIiLCJ4bXNfc3QiOnsic3ViIjoiTEhXMlN4M0ZsRFVQS3paNS1vczlYbUZhd1RIenJzYlUyMnF4UVhNT1BhcyJ9LCJ4bXNfdGNkdCI6MTczMTE3NjA4NSwieG1zX3RkYnIiOiJFVSJ9.iHBWFvX0AIK2rqSDxkkMRWjYOzkCWKk56C7ps9i3QYAiRiZ42KnbnHqhRf4-JqzIK7BWkqjTJEXjvaOnTWxJU-9r4Qv0ate1gXsJ_kJ0_B4siCact8xu_J9edozdWW9ci11_1Tu1ivO6PmSx-OmdNzf15xulEkCx2GV8dgagOgCZ4hIviqJMbstI2HacmwZUHwkrl_K3cianxX1et7pDcVk7mcr-HHFBWcg7OPWLodRYgJ2Y5vsl5fqrGl_G4HPcw0Itn_8o8tGG3CeHj9j5Zg0HIHJ45rROSeTrAY3vp6vMymAtCKEKyrIYCBAOXoUbGFaMpvfc9Hr6xH383ErYiw\",\n",
      "  \"refresh_token\": \"1.AUEB-OIwAIiWyEmuT872en7I_5rJ5G-GeGNEkbvPEzxd0YRCAR9BAQ.AgABAwEAAABVrSpeuWamRam2jAF1XRQEAwDs_wUA9P_4hBRcwLgbD3Tqw_0BDo1WdA1N5dnTvHUz8LRb1tC74QkU2StLAj4HhjEs2iwYDaTA1driXp5xfwube6Od0pKZboGxLyOL388OW5WDXJ5NkpFJ2WQWtI_J19m--u2Ry_FItx_YvD1Dgpg6RXXMCMtL2K6X2kw9rnugJ1ouz5ECJ4v5Ih6Z8B3h-ZovNIc50XkHjVl9zvZBJWOYJdwZ2YvqS6ULS7oOCybJmUIus5Feu8HnpS9V8IK6aYjDNRo0EOFBaRmYxvoOAMELi5fgm5waiwUEGfv8PavsvhqZW6K18QUsr-aoh3wbfohwPwdzA-JJU9ypizb1bpmOI0izPRoDBhCHRvrE1uamkvogH52u_DEd4FQc-jFTuakWoUb8K_QosF0Rw7TM_bjsOo6yTEVrHsjao6qxTzJ2suQrGVf8vNyzluiWtE6q20LtYy3Cgt_oHHmsggv5FoO0ULVAKV7Bi0nrIuDEcpOtK9WLGYO7fomBc1fcODGO9Mc8bomgOxvVtsTjlgAa9IST4NopHx8XQb7kZ0fJAJdEeuawL9cYswYuuSGHiREaZ40_vJ4juE94ndyP5elV37WfXTsrnBy6eeqlDBZpmElDXGOZEK-65iXpI-lq-1AwwHdZFOja_1wz-WeQK7C-Uz0MkPc1FfRBpMfooM0jun7SCtJjHJiUylrMT6qd9c5e7MavKiOS50wo33UPc-wxRB9jvFpWvfye7BC7dFGlJ3X-IRLG4YdjiIkgcAgGaHKODMZxQ_OUV13mJnTM5Y2rtjciFEdN6kz_CsCNVJHbwpDtb3gv1qKRvQeX3yViSPzsuPyLJEa5g3iO0x8B5h0gMCNEhw\",\n",
      "  \"id_token\": \"eyJ0eXAiOiJKV1QiLCJhbGciOiJSUzI1NiIsImtpZCI6IllUY2VPNUlKeXlxUjZqekRTNWlBYnBlNDJKdyJ9.eyJhdWQiOiI2ZmU0Yzk5YS03ODg2LTQ0NjMtOTFiYi1jZjEzM2M1ZGQxODQiLCJpc3MiOiJodHRwczovL2xvZ2luLm1pY3Jvc29mdG9ubGluZS5jb20vMDAzMGUyZjgtOTY4OC00OWM4LWFlNGYtY2VmNjdhN2VjOGZmL3YyLjAiLCJpYXQiOjE3Mzg3MDg1NjgsIm5iZiI6MTczODcwODU2OCwiZXhwIjoxNzM4NzEyNDY4LCJuYW1lIjoiRGFuaWVsIHZhbiBPb3N0ZXJvb20iLCJvaWQiOiIwMTdlNTNjZC02ODc3LTQ1NjctYTg3Yi1kYTRkNDRjYTNlYmYiLCJwcmVmZXJyZWRfdXNlcm5hbWUiOiJEYW5pZWxAZGVhaWZhYnJpZWsuY29tIiwicmgiOiIxLkFVRUItT0l3QUlpV3lFbXVUODcyZW43SV81cko1Ry1HZUdORWtidlBFenhkMFlSQ0FSOUJBUS4iLCJzaWQiOiIwMDFmMjhhOS1iNzQ5LTc4ZTgtMTJmNS0xMWQ4YTNlZmFhMjQiLCJzdWIiOiJMSFcyU3gzRmxEVVBLelo1LW9zOVhtRmF3VEh6cnNiVTIycXhRWE1PUGFzIiwidGlkIjoiMDAzMGUyZjgtOTY4OC00OWM4LWFlNGYtY2VmNjdhN2VjOGZmIiwidXRpIjoiSFQzdUNSR0I5VVdzTGZYUnBIa1dBQSIsInZlciI6IjIuMCJ9.Xgttd8VzSJl6m0achNw4M30X4_w5k-JnsDn6RoSFALQpeSMeblrvAA1PkqZryV9OH-tmK94KOAI9J4bQROCyY7elkU3y9dDh6RfNYuSVxzBGqHZR0nJ-JNDbrYrwTlisLu3WTYCD6foa20b_E_YNIi4ffkNVc_Qq1pMHh-47tGmyURoUZlesiXP7lRG4RxVBICsDFMro-m3xq6KF-aB4NcRKfZW6Qq9_4l_loGzr4sqbf9Ht6y69Oo3veAwP6uFjnCXurx_b-d2tqpSGAqTbLMJto35Gz72_g2T-6zCbCY_VrIFm0iJldk4sks5EAgv2TezT9ZQ-gSnO9B9qabiw4A\",\n",
      "  \"client_info\": \"eyJ1aWQiOiIwMTdlNTNjZC02ODc3LTQ1NjctYTg3Yi1kYTRkNDRjYTNlYmYiLCJ1dGlkIjoiMDAzMGUyZjgtOTY4OC00OWM4LWFlNGYtY2VmNjdhN2VjOGZmIn0\",\n",
      "  \"id_token_claims\": {\n",
      "    \"aud\": \"6fe4c99a-7886-4463-91bb-cf133c5dd184\",\n",
      "    \"iss\": \"https://login.microsoftonline.com/0030e2f8-9688-49c8-ae4f-cef67a7ec8ff/v2.0\",\n",
      "    \"iat\": 1738708568,\n",
      "    \"nbf\": 1738708568,\n",
      "    \"exp\": 1738712468,\n",
      "    \"name\": \"Daniel van Oosteroom\",\n",
      "    \"oid\": \"017e53cd-6877-4567-a87b-da4d44ca3ebf\",\n",
      "    \"preferred_username\": \"Daniel@deaifabriek.com\",\n",
      "    \"rh\": \"1.AUEB-OIwAIiWyEmuT872en7I_5rJ5G-GeGNEkbvPEzxd0YRCAR9BAQ.\",\n",
      "    \"sid\": \"001f28a9-b749-78e8-12f5-11d8a3efaa24\",\n",
      "    \"sub\": \"LHW2Sx3FlDUPKzZ5-os9XmFawTHzrsbU22qxQXMOPas\",\n",
      "    \"tid\": \"0030e2f8-9688-49c8-ae4f-cef67a7ec8ff\",\n",
      "    \"uti\": \"HT3uCRGB9UWsLfXRpHkWAA\",\n",
      "    \"ver\": \"2.0\"\n",
      "  },\n",
      "  \"token_source\": \"identity_provider\"\n",
      "}\n"
     ]
    }
   ],
   "source": [
    "token_response = generate_acces_token(O365_CLIENT_ID, SCOPES, AUTHORITY)"
   ]
  },
  {
   "cell_type": "code",
   "execution_count": 5,
   "metadata": {},
   "outputs": [
    {
     "data": {
      "text/plain": [
       "{'token_type': 'Bearer',\n",
       " 'scope': 'openid profile User.Read email',\n",
       " 'expires_in': 4362,\n",
       " 'ext_expires_in': 4362,\n",
       " 'access_token': 'eyJ0eXAiOiJKV1QiLCJub25jZSI6ImlSR2ViNUdrV2FUS0wzbXJIM1hXSXl4clJJaHV2R3pfRkE3dWRNUXdzRzAiLCJhbGciOiJSUzI1NiIsIng1dCI6IllUY2VPNUlKeXlxUjZqekRTNWlBYnBlNDJKdyIsImtpZCI6IllUY2VPNUlKeXlxUjZqekRTNWlBYnBlNDJKdyJ9.eyJhdWQiOiIwMDAwMDAwMy0wMDAwLTAwMDAtYzAwMC0wMDAwMDAwMDAwMDAiLCJpc3MiOiJodHRwczovL3N0cy53aW5kb3dzLm5ldC8wMDMwZTJmOC05Njg4LTQ5YzgtYWU0Zi1jZWY2N2E3ZWM4ZmYvIiwiaWF0IjoxNzM4NzA4NTY4LCJuYmYiOjE3Mzg3MDg1NjgsImV4cCI6MTczODcxMzIzMSwiYWNjdCI6MCwiYWNyIjoiMSIsImFpbyI6IkFUUUF5LzhaQUFBQXVvMGVPQlhCVUtYSDh1WEhQak9hMDRVK2RhZm9yQ3JyS2hEYllzbTg3K3hrNmN3Wmc3bEVJcElmekdQbWc3dmUiLCJhbXIiOlsicHdkIl0sImFwcF9kaXNwbGF5bmFtZSI6ImJlbGFzdGluZy1hYW5naWZ0ZW4tYWdlbnQiLCJhcHBpZCI6IjZmZTRjOTlhLTc4ODYtNDQ2My05MWJiLWNmMTMzYzVkZDE4NCIsImFwcGlkYWNyIjoiMCIsImZhbWlseV9uYW1lIjoidmFuIE9vc3Rlcm9vbSIsImdpdmVuX25hbWUiOiJEYW5pZWwiLCJpZHR5cCI6InVzZXIiLCJpcGFkZHIiOiIyMDAxOjFjMDA6ZDA0OjIyMDA6ZmUyMDo4NDVjOjQ3NTM6OWRiMyIsIm5hbWUiOiJEYW5pZWwgdmFuIE9vc3Rlcm9vbSIsIm9pZCI6IjAxN2U1M2NkLTY4NzctNDU2Ny1hODdiLWRhNGQ0NGNhM2ViZiIsInBsYXRmIjoiOCIsInB1aWQiOiIxMDAzMjAwNDNFQjk2QTkyIiwicmgiOiIxLkFVRUItT0l3QUlpV3lFbXVUODcyZW43SV93TUFBQUFBQUFBQXdBQUFBQUFBQUFCQ0FSOUJBUS4iLCJzY3AiOiJvcGVuaWQgcHJvZmlsZSBVc2VyLlJlYWQgZW1haWwiLCJzaWQiOiIwMDFmMjhhOS1iNzQ5LTc4ZTgtMTJmNS0xMWQ4YTNlZmFhMjQiLCJzdWIiOiItMzhoZW9WNmhfRUxGSDJ4SEQ3cUhXT3BjQjJaNXY5X1ZfZVNnTHBOWWJzIiwidGVuYW50X3JlZ2lvbl9zY29wZSI6IkVVIiwidGlkIjoiMDAzMGUyZjgtOTY4OC00OWM4LWFlNGYtY2VmNjdhN2VjOGZmIiwidW5pcXVlX25hbWUiOiJEYW5pZWxAZGVhaWZhYnJpZWsuY29tIiwidXBuIjoiRGFuaWVsQGRlYWlmYWJyaWVrLmNvbSIsInV0aSI6IkhUM3VDUkdCOVVXc0xmWFJwSGtXQUEiLCJ2ZXIiOiIxLjAiLCJ3aWRzIjpbImI3OWZiZjRkLTNlZjktNDY4OS04MTQzLTc2YjE5NGU4NTUwOSJdLCJ4bXNfZnRkIjoiNWNISFJJUnctQTFTYXZSbmNKeVYxTXpiX1ZGQmZ6M0Y1OUxLTGNEem1udyIsInhtc19pZHJlbCI6IjEgMTIiLCJ4bXNfc3QiOnsic3ViIjoiTEhXMlN4M0ZsRFVQS3paNS1vczlYbUZhd1RIenJzYlUyMnF4UVhNT1BhcyJ9LCJ4bXNfdGNkdCI6MTczMTE3NjA4NSwieG1zX3RkYnIiOiJFVSJ9.iHBWFvX0AIK2rqSDxkkMRWjYOzkCWKk56C7ps9i3QYAiRiZ42KnbnHqhRf4-JqzIK7BWkqjTJEXjvaOnTWxJU-9r4Qv0ate1gXsJ_kJ0_B4siCact8xu_J9edozdWW9ci11_1Tu1ivO6PmSx-OmdNzf15xulEkCx2GV8dgagOgCZ4hIviqJMbstI2HacmwZUHwkrl_K3cianxX1et7pDcVk7mcr-HHFBWcg7OPWLodRYgJ2Y5vsl5fqrGl_G4HPcw0Itn_8o8tGG3CeHj9j5Zg0HIHJ45rROSeTrAY3vp6vMymAtCKEKyrIYCBAOXoUbGFaMpvfc9Hr6xH383ErYiw',\n",
       " 'refresh_token': '1.AUEB-OIwAIiWyEmuT872en7I_5rJ5G-GeGNEkbvPEzxd0YRCAR9BAQ.AgABAwEAAABVrSpeuWamRam2jAF1XRQEAwDs_wUA9P_4hBRcwLgbD3Tqw_0BDo1WdA1N5dnTvHUz8LRb1tC74QkU2StLAj4HhjEs2iwYDaTA1driXp5xfwube6Od0pKZboGxLyOL388OW5WDXJ5NkpFJ2WQWtI_J19m--u2Ry_FItx_YvD1Dgpg6RXXMCMtL2K6X2kw9rnugJ1ouz5ECJ4v5Ih6Z8B3h-ZovNIc50XkHjVl9zvZBJWOYJdwZ2YvqS6ULS7oOCybJmUIus5Feu8HnpS9V8IK6aYjDNRo0EOFBaRmYxvoOAMELi5fgm5waiwUEGfv8PavsvhqZW6K18QUsr-aoh3wbfohwPwdzA-JJU9ypizb1bpmOI0izPRoDBhCHRvrE1uamkvogH52u_DEd4FQc-jFTuakWoUb8K_QosF0Rw7TM_bjsOo6yTEVrHsjao6qxTzJ2suQrGVf8vNyzluiWtE6q20LtYy3Cgt_oHHmsggv5FoO0ULVAKV7Bi0nrIuDEcpOtK9WLGYO7fomBc1fcODGO9Mc8bomgOxvVtsTjlgAa9IST4NopHx8XQb7kZ0fJAJdEeuawL9cYswYuuSGHiREaZ40_vJ4juE94ndyP5elV37WfXTsrnBy6eeqlDBZpmElDXGOZEK-65iXpI-lq-1AwwHdZFOja_1wz-WeQK7C-Uz0MkPc1FfRBpMfooM0jun7SCtJjHJiUylrMT6qd9c5e7MavKiOS50wo33UPc-wxRB9jvFpWvfye7BC7dFGlJ3X-IRLG4YdjiIkgcAgGaHKODMZxQ_OUV13mJnTM5Y2rtjciFEdN6kz_CsCNVJHbwpDtb3gv1qKRvQeX3yViSPzsuPyLJEa5g3iO0x8B5h0gMCNEhw',\n",
       " 'id_token': 'eyJ0eXAiOiJKV1QiLCJhbGciOiJSUzI1NiIsImtpZCI6IllUY2VPNUlKeXlxUjZqekRTNWlBYnBlNDJKdyJ9.eyJhdWQiOiI2ZmU0Yzk5YS03ODg2LTQ0NjMtOTFiYi1jZjEzM2M1ZGQxODQiLCJpc3MiOiJodHRwczovL2xvZ2luLm1pY3Jvc29mdG9ubGluZS5jb20vMDAzMGUyZjgtOTY4OC00OWM4LWFlNGYtY2VmNjdhN2VjOGZmL3YyLjAiLCJpYXQiOjE3Mzg3MDg1NjgsIm5iZiI6MTczODcwODU2OCwiZXhwIjoxNzM4NzEyNDY4LCJuYW1lIjoiRGFuaWVsIHZhbiBPb3N0ZXJvb20iLCJvaWQiOiIwMTdlNTNjZC02ODc3LTQ1NjctYTg3Yi1kYTRkNDRjYTNlYmYiLCJwcmVmZXJyZWRfdXNlcm5hbWUiOiJEYW5pZWxAZGVhaWZhYnJpZWsuY29tIiwicmgiOiIxLkFVRUItT0l3QUlpV3lFbXVUODcyZW43SV81cko1Ry1HZUdORWtidlBFenhkMFlSQ0FSOUJBUS4iLCJzaWQiOiIwMDFmMjhhOS1iNzQ5LTc4ZTgtMTJmNS0xMWQ4YTNlZmFhMjQiLCJzdWIiOiJMSFcyU3gzRmxEVVBLelo1LW9zOVhtRmF3VEh6cnNiVTIycXhRWE1PUGFzIiwidGlkIjoiMDAzMGUyZjgtOTY4OC00OWM4LWFlNGYtY2VmNjdhN2VjOGZmIiwidXRpIjoiSFQzdUNSR0I5VVdzTGZYUnBIa1dBQSIsInZlciI6IjIuMCJ9.Xgttd8VzSJl6m0achNw4M30X4_w5k-JnsDn6RoSFALQpeSMeblrvAA1PkqZryV9OH-tmK94KOAI9J4bQROCyY7elkU3y9dDh6RfNYuSVxzBGqHZR0nJ-JNDbrYrwTlisLu3WTYCD6foa20b_E_YNIi4ffkNVc_Qq1pMHh-47tGmyURoUZlesiXP7lRG4RxVBICsDFMro-m3xq6KF-aB4NcRKfZW6Qq9_4l_loGzr4sqbf9Ht6y69Oo3veAwP6uFjnCXurx_b-d2tqpSGAqTbLMJto35Gz72_g2T-6zCbCY_VrIFm0iJldk4sks5EAgv2TezT9ZQ-gSnO9B9qabiw4A',\n",
       " 'client_info': 'eyJ1aWQiOiIwMTdlNTNjZC02ODc3LTQ1NjctYTg3Yi1kYTRkNDRjYTNlYmYiLCJ1dGlkIjoiMDAzMGUyZjgtOTY4OC00OWM4LWFlNGYtY2VmNjdhN2VjOGZmIn0',\n",
       " 'id_token_claims': {'aud': '6fe4c99a-7886-4463-91bb-cf133c5dd184',\n",
       "  'iss': 'https://login.microsoftonline.com/0030e2f8-9688-49c8-ae4f-cef67a7ec8ff/v2.0',\n",
       "  'iat': 1738708568,\n",
       "  'nbf': 1738708568,\n",
       "  'exp': 1738712468,\n",
       "  'name': 'Daniel van Oosteroom',\n",
       "  'oid': '017e53cd-6877-4567-a87b-da4d44ca3ebf',\n",
       "  'preferred_username': 'Daniel@deaifabriek.com',\n",
       "  'rh': '1.AUEB-OIwAIiWyEmuT872en7I_5rJ5G-GeGNEkbvPEzxd0YRCAR9BAQ.',\n",
       "  'sid': '001f28a9-b749-78e8-12f5-11d8a3efaa24',\n",
       "  'sub': 'LHW2Sx3FlDUPKzZ5-os9XmFawTHzrsbU22qxQXMOPas',\n",
       "  'tid': '0030e2f8-9688-49c8-ae4f-cef67a7ec8ff',\n",
       "  'uti': 'HT3uCRGB9UWsLfXRpHkWAA',\n",
       "  'ver': '2.0'},\n",
       " 'token_source': 'identity_provider'}"
      ]
     },
     "execution_count": 5,
     "metadata": {},
     "output_type": "execute_result"
    }
   ],
   "source": [
    "token_response\n"
   ]
  },
  {
   "cell_type": "code",
   "execution_count": 9,
   "metadata": {},
   "outputs": [
    {
     "name": "stdout",
     "output_type": "stream",
     "text": [
      "2025-02-04 11:09:41.222811\n",
      "2025-02-04 12:13:56.223080\n"
     ]
    }
   ],
   "source": [
    "import datetime\n",
    "\n",
    "print(datetime.datetime.now())\n",
    "\n",
    "print(datetime.datetime.now() + datetime.timedelta(0, 3855))"
   ]
  },
  {
   "cell_type": "code",
   "execution_count": null,
   "metadata": {},
   "outputs": [],
   "source": [
    "import time\n",
    "x = 0\n",
    "\n",
    "while x < 10:\n",
    "    time.sleep(1)\n",
    "    print(datetime.datetime.now())\n",
    "    x += 1\n",
    "\n",
    "print(x)\n",
    "\n"
   ]
  }
 ],
 "metadata": {
  "kernelspec": {
   "display_name": "daf_belasting_1",
   "language": "python",
   "name": "python3"
  },
  "language_info": {
   "codemirror_mode": {
    "name": "ipython",
    "version": 3
   },
   "file_extension": ".py",
   "mimetype": "text/x-python",
   "name": "python",
   "nbconvert_exporter": "python",
   "pygments_lexer": "ipython3",
   "version": "3.11.11"
  }
 },
 "nbformat": 4,
 "nbformat_minor": 2
}
