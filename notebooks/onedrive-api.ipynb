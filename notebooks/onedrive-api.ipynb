{
 "cells": [
  {
   "cell_type": "code",
   "execution_count": 24,
   "metadata": {},
   "outputs": [],
   "source": [
    "import webbrowser\n",
    "import requests\n",
    "from msal import PublicClientApplication\n",
    "\n",
    "import os\n",
    "os.chdir(\"/home/daniel/de_AI_Fabriek/belasting-agent-playground/\")\n",
    "\n",
    "from keys import O365_CLIENT_SECRET, O365_CLIENT_ID\n",
    "\n",
    "# AUTHORITY = 'https://login.microsoftonline.com/' + \"b4790366-ebc1-458b-8baf-4aed4d12f0fc\"\n",
    "AUTHORITY = 'https://login.microsoftonline.com/common'"
   ]
  },
  {
   "cell_type": "markdown",
   "metadata": {},
   "source": [
    "## msal"
   ]
  },
  {
   "cell_type": "code",
   "execution_count": 37,
   "metadata": {},
   "outputs": [],
   "source": [
    "# ! pip install msal"
   ]
  },
  {
   "cell_type": "code",
   "execution_count": 38,
   "metadata": {},
   "outputs": [],
   "source": [
    "# SCOPES = [\"User.Read\", \"User.Export.All\"]\n"
   ]
  },
  {
   "cell_type": "code",
   "execution_count": 48,
   "metadata": {},
   "outputs": [],
   "source": [
    "# app = PublicClientApplication(\n",
    "#     O365_CLIENT_ID\n",
    "# )"
   ]
  },
  {
   "cell_type": "code",
   "execution_count": 50,
   "metadata": {},
   "outputs": [
    {
     "name": "stdout",
     "output_type": "stream",
     "text": [
      "To sign in, use a web browser to open the page https://microsoft.com/devicelogin and enter the code CYXH5PYLR to authenticate.\n"
     ]
    },
    {
     "data": {
      "text/plain": [
       "True"
      ]
     },
     "execution_count": 50,
     "metadata": {},
     "output_type": "execute_result"
    }
   ],
   "source": [
    "# flow = app.initiate_device_flow(scopes=SCOPES)\n",
    "# print(flow[\"message\"])\n",
    "# webbrowser.open(flow[\"verification_uri\"])\n",
    "# # print(result['access_token'])"
   ]
  },
  {
   "cell_type": "code",
   "execution_count": 25,
   "metadata": {},
   "outputs": [
    {
     "name": "stdout",
     "output_type": "stream",
     "text": [
      "{'user_code': 'VZDDHSF6', 'device_code': 'DAQABIQEAAABVrSpeuWamRam2jAF1XRQE0SuT9tkiutIACg9cVD79K1aMnNhQ-WpkcXj4FFuu2qooQsaYukUssGs8JyQmDrgjdiBkJgwW3B3BeBrhEcnmYNCsuBVKFfukqsySM0YWEH-yRB-8uL9sKDzL3kf03Ji_2J5yjh_O8SxISHxX0LeemFOgyirlb0j3CWJ1hsn-323jdOtyBt_NsLAMJS1xkp1khquaCcCjWH7s95VfcnUST2InOclH1R-4BAUcopokws-K6SS8yvwBpczCvowVX0l15ATkrm3qjmwIq5s5F8PnfTxLqLH9EZlUMdzxhw0Wx9e-uGyGEUmz5UmqyYFtZekDcIswTBWvVKZUiKnwb5SrR8ryjpjUW7iS5pP6xdo18u5Tzx-LD4f7fJekvgySZ8IrIAA', 'verification_uri': 'https://www.microsoft.com/link', 'expires_in': 900, 'interval': 5, 'message': 'To sign in, use a web browser to open the page https://www.microsoft.com/link and enter the code VZDDHSF6 to authenticate.', 'expires_at': 1738359882.9818425, '_correlation_id': 'd992eb75-f58f-49de-b9b0-6fa0bc67e642'}\n"
     ]
    }
   ],
   "source": [
    "# print(flow)"
   ]
  },
  {
   "cell_type": "code",
   "execution_count": 39,
   "metadata": {},
   "outputs": [
    {
     "name": "stdout",
     "output_type": "stream",
     "text": [
      "To sign in, use a web browser to open the page https://microsoft.com/devicelogin and enter the code L5PA6VMZL to authenticate.\n"
     ]
    }
   ],
   "source": [
    "SCOPES = [\"User.Read\"]\n",
    "\n",
    "app = PublicClientApplication(\n",
    "    O365_CLIENT_ID,\n",
    "    authority=AUTHORITY,\n",
    ")\n",
    "\n",
    "# Initiate device flow\n",
    "flow = app.initiate_device_flow(scopes=SCOPES)\n",
    "\n",
    "if \"user_code\" not in flow:\n",
    "    raise Exception(\"Failed to create device flow.\")\n",
    "\n",
    "print(flow[\"message\"])\n",
    "webbrowser.open(flow[\"verification_uri\"])\n",
    "result = app.acquire_token_by_device_flow(flow)"
   ]
  },
  {
   "cell_type": "code",
   "execution_count": 33,
   "metadata": {},
   "outputs": [
    {
     "data": {
      "text/plain": [
       "{'token_type': 'Bearer',\n",
       " 'scope': 'User.Read openid profile',\n",
       " 'expires_in': 3600,\n",
       " 'ext_expires_in': 3600,\n",
       " 'access_token': 'EwCIA8l6BAAUBKgm8k1UswUNwklmy2v7U/S+1fEAAW1mEgYgYc16jpKdt0Ols7A8Gt9m9Sz0/3Hl1x99wJmA5kYkicArBG+6FsnfozQeraaiMFX1E2IebEVHhokoTQjYf76MbieOQz0onoOj+L/WPpByu7o/ksCRchtVjxly2RveXkPrIfCvUREGGH+KAc3FFnxQjnOyT5N0DoJdkZ/mCI2yfCP6VKoIXxO5ej3703KckRYwkyXMLgtM4kTepc/V3MiIafz2Qa0IOjk9SuJAFfh7dhdOLbZKN9349iN1sqCfL4czTukkSIrZqwN14aBm6+hhuwvg3OnvKx+t44a7+3dCDPsu8F/LH3bRy1ywuFG27U6tOIQ6PtW7V37Vz58QZgAAEChoC21KU4F5Z1MNivs5vK1QAjz/Exe3bYYeRbnc/NiuY07KY66B8+zf8UbvJRfk2GQOLAyL7xF/ltUY9pD/tiFKzJO8/O0F683RX8GGEuA80MX4cqvxWcsBV+0sDAYXgIe3lQkLYNjJTkRPN4QKr9Bq/VShwq+8JjKULfJ7crue6YlkBUpRrAyyod1uilQOLBDgMBy29LEn8YZAkN7h9zA+M3bBvNWT3kX5W9Ihct4t4aQTX1p0mJseVXt2M1EGOn8gMtJO0HFi0cb9csAKh/5tnA5MoySZ2qeQmftfVyxh5GLbutTEt5ntTgEXVMeYwLtbOMlZdhlIeN64r+38iqDSU6+0gX1TCmRwP3F7POb0DgvtUDOn0XAPLrA1CWesmrWpCddrr2LZNuf8Wr3CB2gsRqoWw0LuRC9X1dAT3BOmiVbxfsyxSAvaJ6k3K43c8I/Awr1+SQNDWfSvnYxyycIZL6CjiB3Cfm86eX1jonzr910vgx74TJTkAw3lIe0oI6EZNi1tAG4rm+YcyCzn2E9bMTCU5rWfm3/CZ2XhQ5qqwsbiU5VvHMn19mL7uGNBKkx8tXFmclVf10Cgd/hsMk1XSor+5RRhjLDplfKeIfPEkt27+KovSkkS0NbgpPoQpsrdmVAE92NXPU5v2QQ5sFoYEqsCrlTi2C1hhpXeC0vhBTe3czyLYibXMvTVSTDWbRQ6Y3KuMgyW9jMqecDgFfAVGsZZhDGvDlFN/KX6OOCfBjEfnsKREkiOz0zBq2HKXgiU+BHHhgrIButXTDqADPLQ1xEcC0dunvYTwgF/9d1a25uTAg==',\n",
       " 'refresh_token': 'M.C538_BAY.0.U.-CrHtKKIeBHvEKh9o9ERPP1PNK3aY4KKEoEVI*ybvBSY!*fR2mEmOfI9SjMVRbR!l3bn0H6WeIO3F3sc3FM!EWbNN4TuCv7B9dH0ClN0PayVvAyZ9BL7wC5UAGsyOf0UUS7i80s6dUDuJTl1izJ9P3rS88jCtzRPoV1NFV6XdnbeMKYwPYtcLRWmy74WEi1fPysHXilb3Njhk0RIA0POBsAN4OEmR1PoVNelyds0RtN0*hAPfsn7Eb3!h*otlXLdmT6il1fbbHzHygdKhVdQ4j8liTvaRpWrRzq1z25hFWz2oV!KEJntq8c4K2*Mf6*OsiPBag9NJiNtvlvV2LTfhH963QxGPQp*l6gno6MQbnK8X',\n",
       " 'id_token': 'eyJ0eXAiOiJKV1QiLCJhbGciOiJSUzI1NiIsImtpZCI6Ii1jSHZMb1RSTWZXWFd1TnhFVFM3MW9KNXZmYyJ9.eyJ2ZXIiOiIyLjAiLCJpc3MiOiJodHRwczovL2xvZ2luLm1pY3Jvc29mdG9ubGluZS5jb20vOTE4ODA0MGQtNmM2Ny00YzViLWIxMTItMzZhMzA0YjY2ZGFkL3YyLjAiLCJzdWIiOiJBQUFBQUFBQUFBQUFBQUFBQUFBQUFHdllpYTRfUTYzYmRGNjRtUjQ2Tm1jIiwiYXVkIjoiNmZlNGM5OWEtNzg4Ni00NDYzLTkxYmItY2YxMzNjNWRkMTg0IiwiZXhwIjoxNzM4NTEyNzI3LCJpYXQiOjE3Mzg0MjYwMjcsIm5iZiI6MTczODQyNjAyNywibmFtZSI6IkRhbmllbCB2YW4gT29zdGVyb29tIiwicHJlZmVycmVkX3VzZXJuYW1lIjoiZGFuaWVsLmRlYWlmYWJyaWVrQGdtYWlsLmNvbSIsIm9pZCI6IjAwMDAwMDAwLTAwMDAtMDAwMC0xZWJkLWNkMTc5Y2FlZGVjZSIsInRpZCI6IjkxODgwNDBkLTZjNjctNGM1Yi1iMTEyLTM2YTMwNGI2NmRhZCIsImFpbyI6IkR1bmk2aDZaUGR3MnRjY01YUkFnWUR5VGpJSDByY29jd1E1TlRjZlZFdkFoTGxVWmFGWnFzcCpDb1BVRXdSUzlYVm5Ub2hQTXRYc2ltNGJpVlJDM1drMjFxSmhMemRucTl3QlR6ZjQwSW5SckF4bllZcUlzMW5RVUg2VXVFeDFRSHcweGhZeENDS0xwQ01DZFU2clY0MFh5emxwZGNTWnI1cUVJeFdTbnFNVzkifQ.I2UxWGz9URD2KBLfN-E5gkPWdWQPQ7G-dRF8_AleQhJW2bFh2Xxe4e0LF5T6dck4iBspSac0Ge5zPJgrmAC1g3u3I-sZ_H8rKehGvYb8cdUq2zsUlIftSgAswmzF99dmGFOigv8_E0Zb3Y58TV4kugiGyC2So0K5vG_Qc9TWiLCBSIztt5wTP42yfKO1_xPeym1Q8kyWTbvmklc6GZRwZSI5QJb3Q0P-UTe1rY7pb6gK08-o5nSTNMUmCoSp6NrJ2002FyAalZCGxgi7tkLeFg74IcFycepmsMsfagy1VSIwG4XutbOER69Gq1DhgBixwck8nUmrDZrqj8EKbhtUYQ',\n",
       " 'client_info': 'eyJ2ZXIiOiIxLjAiLCJzdWIiOiJBQUFBQUFBQUFBQUFBQUFBQUFBQUFHdllpYTRfUTYzYmRGNjRtUjQ2Tm1jIiwibmFtZSI6IkRhbmllbCB2YW4gT29zdGVyb29tIiwicHJlZmVycmVkX3VzZXJuYW1lIjoiZGFuaWVsLmRlYWlmYWJyaWVrQGdtYWlsLmNvbSIsIm9pZCI6IjAwMDAwMDAwLTAwMDAtMDAwMC0xZWJkLWNkMTc5Y2FlZGVjZSIsInRpZCI6IjkxODgwNDBkLTZjNjctNGM1Yi1iMTEyLTM2YTMwNGI2NmRhZCIsImhvbWVfb2lkIjoiMDAwMDAwMDAtMDAwMC0wMDAwLTFlYmQtY2QxNzljYWVkZWNlIiwidWlkIjoiMDAwMDAwMDAtMDAwMC0wMDAwLTFlYmQtY2QxNzljYWVkZWNlIiwidXRpZCI6IjkxODgwNDBkLTZjNjctNGM1Yi1iMTEyLTM2YTMwNGI2NmRhZCJ9',\n",
       " 'id_token_claims': {'ver': '2.0',\n",
       "  'iss': 'https://login.microsoftonline.com/9188040d-6c67-4c5b-b112-36a304b66dad/v2.0',\n",
       "  'sub': 'AAAAAAAAAAAAAAAAAAAAAGvYia4_Q63bdF64mR46Nmc',\n",
       "  'aud': '6fe4c99a-7886-4463-91bb-cf133c5dd184',\n",
       "  'exp': 1738512727,\n",
       "  'iat': 1738426027,\n",
       "  'nbf': 1738426027,\n",
       "  'name': 'Daniel van Oosteroom',\n",
       "  'preferred_username': 'daniel.deaifabriek@gmail.com',\n",
       "  'oid': '00000000-0000-0000-1ebd-cd179caedece',\n",
       "  'tid': '9188040d-6c67-4c5b-b112-36a304b66dad',\n",
       "  'aio': 'Duni6h6ZPdw2tccMXRAgYDyTjIH0rcocwQ5NTcfVEvAhLlUZaFZqsp*CoPUEwRS9XVnTohPMtXsim4biVRC3Wk21qJhLzdnq9wBTzf40InRrAxnYYqIs1nQUH6UuEx1QHw0xhYxCCKLpCMCdU6rV40XyzlpdcSZr5qEIxWSnqMW9'},\n",
       " 'token_source': 'identity_provider'}"
      ]
     },
     "execution_count": 33,
     "metadata": {},
     "output_type": "execute_result"
    }
   ],
   "source": [
    "# results = result\n",
    "results"
   ]
  },
  {
   "cell_type": "markdown",
   "metadata": {},
   "source": [
    "## O365"
   ]
  },
  {
   "cell_type": "code",
   "execution_count": 4,
   "metadata": {},
   "outputs": [
    {
     "name": "stdout",
     "output_type": "stream",
     "text": [
      "Collecting O365\n",
      "  Downloading O365-2.0.38-py3-none-any.whl.metadata (68 kB)\n",
      "Requirement already satisfied: requests>=2.32.0 in /home/daniel/anaconda3/envs/daf_belasting_1/lib/python3.11/site-packages (from O365) (2.32.3)\n",
      "Collecting requests-oauthlib>=2.0.0 (from O365)\n",
      "  Downloading requests_oauthlib-2.0.0-py2.py3-none-any.whl.metadata (11 kB)\n",
      "Requirement already satisfied: python-dateutil>=2.7 in /home/daniel/anaconda3/envs/daf_belasting_1/lib/python3.11/site-packages (from O365) (2.9.0.post0)\n",
      "Collecting tzlocal>=5.0 (from O365)\n",
      "  Downloading tzlocal-5.2-py3-none-any.whl.metadata (7.8 kB)\n",
      "Collecting beautifulsoup4>=4.0.0 (from O365)\n",
      "  Using cached beautifulsoup4-4.12.3-py3-none-any.whl.metadata (3.8 kB)\n",
      "Collecting tzdata>=2023.4 (from O365)\n",
      "  Downloading tzdata-2025.1-py2.py3-none-any.whl.metadata (1.4 kB)\n",
      "Collecting soupsieve>1.2 (from beautifulsoup4>=4.0.0->O365)\n",
      "  Using cached soupsieve-2.6-py3-none-any.whl.metadata (4.6 kB)\n",
      "Requirement already satisfied: six>=1.5 in /home/daniel/anaconda3/envs/daf_belasting_1/lib/python3.11/site-packages (from python-dateutil>=2.7->O365) (1.17.0)\n",
      "Requirement already satisfied: charset-normalizer<4,>=2 in /home/daniel/anaconda3/envs/daf_belasting_1/lib/python3.11/site-packages (from requests>=2.32.0->O365) (3.4.1)\n",
      "Requirement already satisfied: idna<4,>=2.5 in /home/daniel/anaconda3/envs/daf_belasting_1/lib/python3.11/site-packages (from requests>=2.32.0->O365) (3.10)\n",
      "Requirement already satisfied: urllib3<3,>=1.21.1 in /home/daniel/anaconda3/envs/daf_belasting_1/lib/python3.11/site-packages (from requests>=2.32.0->O365) (2.3.0)\n",
      "Requirement already satisfied: certifi>=2017.4.17 in /home/daniel/anaconda3/envs/daf_belasting_1/lib/python3.11/site-packages (from requests>=2.32.0->O365) (2024.12.14)\n",
      "Collecting oauthlib>=3.0.0 (from requests-oauthlib>=2.0.0->O365)\n",
      "  Downloading oauthlib-3.2.2-py3-none-any.whl.metadata (7.5 kB)\n",
      "Downloading O365-2.0.38-py3-none-any.whl (158 kB)\n",
      "Using cached beautifulsoup4-4.12.3-py3-none-any.whl (147 kB)\n",
      "Downloading requests_oauthlib-2.0.0-py2.py3-none-any.whl (24 kB)\n",
      "Downloading tzdata-2025.1-py2.py3-none-any.whl (346 kB)\n",
      "Downloading tzlocal-5.2-py3-none-any.whl (17 kB)\n",
      "Downloading oauthlib-3.2.2-py3-none-any.whl (151 kB)\n",
      "Using cached soupsieve-2.6-py3-none-any.whl (36 kB)\n",
      "Installing collected packages: tzlocal, tzdata, soupsieve, oauthlib, requests-oauthlib, beautifulsoup4, O365\n",
      "Successfully installed O365-2.0.38 beautifulsoup4-4.12.3 oauthlib-3.2.2 requests-oauthlib-2.0.0 soupsieve-2.6 tzdata-2025.1 tzlocal-5.2\n"
     ]
    }
   ],
   "source": [
    "! pip install O365"
   ]
  },
  {
   "cell_type": "code",
   "execution_count": 21,
   "metadata": {},
   "outputs": [
    {
     "name": "stdout",
     "output_type": "stream",
     "text": [
      "Visit the following url to give consent:\n",
      "https://login.microsoftonline.com/common/oauth2/v2.0/authorize?response_type=code&client_id=O365_CLIENT_ID&redirect_uri=https%3A%2F%2Flogin.microsoftonline.com%2Fcommon%2Foauth2%2Fnativeclient&scope=https%3A%2F%2Fgraph.microsoft.com%2FMail.ReadWrite+https%3A%2F%2Fgraph.microsoft.com%2FMail.Send+https%3A%2F%2Fgraph.microsoft.com%2FUser.Read+offline_access&state=wI5Vnq75Ooj1fM0RaHJiXYigpdYxIq&access_type=offline\n",
      "Authentication Flow aborted.\n"
     ]
    }
   ],
   "source": [
    "from O365 import Account\n",
    "\n",
    "credentials = ('O365_CLIENT_ID', 'O365_CLIENT_SECRET')\n",
    "\n",
    "# the default protocol will be Microsoft Graph\n",
    "# the default authentication method will be \"on behalf of a user\"\n",
    "\n",
    "account = Account(credentials)\n",
    "if account.authenticate(scopes=['basic', 'message_all']):\n",
    "    print('Authenticated!')\n"
   ]
  }
 ],
 "metadata": {
  "kernelspec": {
   "display_name": "daf_belasting_1",
   "language": "python",
   "name": "python3"
  },
  "language_info": {
   "codemirror_mode": {
    "name": "ipython",
    "version": 3
   },
   "file_extension": ".py",
   "mimetype": "text/x-python",
   "name": "python",
   "nbconvert_exporter": "python",
   "pygments_lexer": "ipython3",
   "version": "3.11.11"
  }
 },
 "nbformat": 4,
 "nbformat_minor": 2
}
